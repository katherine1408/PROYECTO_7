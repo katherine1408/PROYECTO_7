{
 "cells": [
  {
   "cell_type": "markdown",
   "metadata": {
    "tags": [
     "e5c1f0c2-db9f-43a0-99b9-4875c52427e8"
    ]
   },
   "source": [
    "\n",
    "#  TIENDA ONLINE ICE"
   ]
  },
  {
   "cell_type": "markdown",
   "metadata": {},
   "source": [
    "La tienda online Ice que vende videojuegos por todo el mundo. Las reseñas de usuarios y expertos, los géneros, las plataformas (por ejemplo, Xbox o PlayStation) y los datos históricos sobre las ventas de juegos están disponibles en fuentes abiertas. Tienes que identificar patrones que determinen si un juego tiene éxito o no. Esto te permitirá detectar proyectos prometedores y planificar campañas publicitarias.\n",
    "Delante de ti hay datos que se remontan a 2016. Imaginemos que es diciembre de 2016 y estás planeando una campaña para 2017.\n",
    "Lo importante es adquirir experiencia de trabajo con datos. Realmente no importa si estás pronosticando las ventas de 2017 en función de los datos de 2016 o las ventas de 2027 en función de los datos de 2026.\n",
    "El dataset contiene una columna \"rating\" que almacena la clasificación ESRB de cada juego. El Entertainment Software Rating Board (la Junta de clasificación de software de entretenimiento) evalúa el contenido de un juego y asigna una clasificación de edad como Adolescente o Adulto."
   ]
  },
  {
   "cell_type": "markdown",
   "metadata": {},
   "source": [
    "## Información general\n"
   ]
  },
  {
   "cell_type": "markdown",
   "metadata": {},
   "source": [
    "### Inicialización"
   ]
  },
  {
   "cell_type": "code",
   "execution_count": 1,
   "metadata": {},
   "outputs": [],
   "source": [
    "import pandas as pd\n",
    "import numpy as np\n",
    "import matplotlib.pyplot as plt\n",
    "import seaborn as sns\n",
    "from scipy import stats"
   ]
  },
  {
   "cell_type": "markdown",
   "metadata": {},
   "source": [
    "### Cargar datos"
   ]
  },
  {
   "cell_type": "code",
   "execution_count": 2,
   "metadata": {},
   "outputs": [],
   "source": [
    "data = pd.read_csv('/datasets/games.csv')"
   ]
  },
  {
   "cell_type": "markdown",
   "metadata": {},
   "source": [
    "### Revision de datos"
   ]
  },
  {
   "cell_type": "code",
   "execution_count": 3,
   "metadata": {},
   "outputs": [
    {
     "name": "stdout",
     "output_type": "stream",
     "text": [
      "                       Name Platform  Year_of_Release         Genre  NA_sales  \\\n",
      "0                Wii Sports      Wii           2006.0        Sports     41.36   \n",
      "1         Super Mario Bros.      NES           1985.0      Platform     29.08   \n",
      "2            Mario Kart Wii      Wii           2008.0        Racing     15.68   \n",
      "3         Wii Sports Resort      Wii           2009.0        Sports     15.61   \n",
      "4  Pokemon Red/Pokemon Blue       GB           1996.0  Role-Playing     11.27   \n",
      "\n",
      "   EU_sales  JP_sales  Other_sales  Critic_Score User_Score Rating  \n",
      "0     28.96      3.77         8.45          76.0          8      E  \n",
      "1      3.58      6.81         0.77           NaN        NaN    NaN  \n",
      "2     12.76      3.79         3.29          82.0        8.3      E  \n",
      "3     10.93      3.28         2.95          80.0          8      E  \n",
      "4      8.89     10.22         1.00           NaN        NaN    NaN  \n"
     ]
    }
   ],
   "source": [
    "print(data.head())"
   ]
  },
  {
   "cell_type": "code",
   "execution_count": 4,
   "metadata": {},
   "outputs": [
    {
     "name": "stdout",
     "output_type": "stream",
     "text": [
      "<class 'pandas.core.frame.DataFrame'>\n",
      "RangeIndex: 16715 entries, 0 to 16714\n",
      "Data columns (total 11 columns):\n",
      " #   Column           Non-Null Count  Dtype  \n",
      "---  ------           --------------  -----  \n",
      " 0   Name             16713 non-null  object \n",
      " 1   Platform         16715 non-null  object \n",
      " 2   Year_of_Release  16446 non-null  float64\n",
      " 3   Genre            16713 non-null  object \n",
      " 4   NA_sales         16715 non-null  float64\n",
      " 5   EU_sales         16715 non-null  float64\n",
      " 6   JP_sales         16715 non-null  float64\n",
      " 7   Other_sales      16715 non-null  float64\n",
      " 8   Critic_Score     8137 non-null   float64\n",
      " 9   User_Score       10014 non-null  object \n",
      " 10  Rating           9949 non-null   object \n",
      "dtypes: float64(6), object(5)\n",
      "memory usage: 1.4+ MB\n",
      "None\n"
     ]
    }
   ],
   "source": [
    "print(data.info())"
   ]
  },
  {
   "cell_type": "code",
   "execution_count": 5,
   "metadata": {},
   "outputs": [
    {
     "data": {
      "text/html": [
       "<div>\n",
       "<style scoped>\n",
       "    .dataframe tbody tr th:only-of-type {\n",
       "        vertical-align: middle;\n",
       "    }\n",
       "\n",
       "    .dataframe tbody tr th {\n",
       "        vertical-align: top;\n",
       "    }\n",
       "\n",
       "    .dataframe thead th {\n",
       "        text-align: right;\n",
       "    }\n",
       "</style>\n",
       "<table border=\"1\" class=\"dataframe\">\n",
       "  <thead>\n",
       "    <tr style=\"text-align: right;\">\n",
       "      <th></th>\n",
       "      <th>Year_of_Release</th>\n",
       "      <th>NA_sales</th>\n",
       "      <th>EU_sales</th>\n",
       "      <th>JP_sales</th>\n",
       "      <th>Other_sales</th>\n",
       "      <th>Critic_Score</th>\n",
       "    </tr>\n",
       "  </thead>\n",
       "  <tbody>\n",
       "    <tr>\n",
       "      <th>count</th>\n",
       "      <td>16446.000000</td>\n",
       "      <td>16715.000000</td>\n",
       "      <td>16715.000000</td>\n",
       "      <td>16715.000000</td>\n",
       "      <td>16715.000000</td>\n",
       "      <td>8137.000000</td>\n",
       "    </tr>\n",
       "    <tr>\n",
       "      <th>mean</th>\n",
       "      <td>2006.484616</td>\n",
       "      <td>0.263377</td>\n",
       "      <td>0.145060</td>\n",
       "      <td>0.077617</td>\n",
       "      <td>0.047342</td>\n",
       "      <td>68.967679</td>\n",
       "    </tr>\n",
       "    <tr>\n",
       "      <th>std</th>\n",
       "      <td>5.877050</td>\n",
       "      <td>0.813604</td>\n",
       "      <td>0.503339</td>\n",
       "      <td>0.308853</td>\n",
       "      <td>0.186731</td>\n",
       "      <td>13.938165</td>\n",
       "    </tr>\n",
       "    <tr>\n",
       "      <th>min</th>\n",
       "      <td>1980.000000</td>\n",
       "      <td>0.000000</td>\n",
       "      <td>0.000000</td>\n",
       "      <td>0.000000</td>\n",
       "      <td>0.000000</td>\n",
       "      <td>13.000000</td>\n",
       "    </tr>\n",
       "    <tr>\n",
       "      <th>25%</th>\n",
       "      <td>2003.000000</td>\n",
       "      <td>0.000000</td>\n",
       "      <td>0.000000</td>\n",
       "      <td>0.000000</td>\n",
       "      <td>0.000000</td>\n",
       "      <td>60.000000</td>\n",
       "    </tr>\n",
       "    <tr>\n",
       "      <th>50%</th>\n",
       "      <td>2007.000000</td>\n",
       "      <td>0.080000</td>\n",
       "      <td>0.020000</td>\n",
       "      <td>0.000000</td>\n",
       "      <td>0.010000</td>\n",
       "      <td>71.000000</td>\n",
       "    </tr>\n",
       "    <tr>\n",
       "      <th>75%</th>\n",
       "      <td>2010.000000</td>\n",
       "      <td>0.240000</td>\n",
       "      <td>0.110000</td>\n",
       "      <td>0.040000</td>\n",
       "      <td>0.030000</td>\n",
       "      <td>79.000000</td>\n",
       "    </tr>\n",
       "    <tr>\n",
       "      <th>max</th>\n",
       "      <td>2016.000000</td>\n",
       "      <td>41.360000</td>\n",
       "      <td>28.960000</td>\n",
       "      <td>10.220000</td>\n",
       "      <td>10.570000</td>\n",
       "      <td>98.000000</td>\n",
       "    </tr>\n",
       "  </tbody>\n",
       "</table>\n",
       "</div>"
      ],
      "text/plain": [
       "       Year_of_Release      NA_sales      EU_sales      JP_sales  \\\n",
       "count     16446.000000  16715.000000  16715.000000  16715.000000   \n",
       "mean       2006.484616      0.263377      0.145060      0.077617   \n",
       "std           5.877050      0.813604      0.503339      0.308853   \n",
       "min        1980.000000      0.000000      0.000000      0.000000   \n",
       "25%        2003.000000      0.000000      0.000000      0.000000   \n",
       "50%        2007.000000      0.080000      0.020000      0.000000   \n",
       "75%        2010.000000      0.240000      0.110000      0.040000   \n",
       "max        2016.000000     41.360000     28.960000     10.220000   \n",
       "\n",
       "        Other_sales  Critic_Score  \n",
       "count  16715.000000   8137.000000  \n",
       "mean       0.047342     68.967679  \n",
       "std        0.186731     13.938165  \n",
       "min        0.000000     13.000000  \n",
       "25%        0.000000     60.000000  \n",
       "50%        0.010000     71.000000  \n",
       "75%        0.030000     79.000000  \n",
       "max       10.570000     98.000000  "
      ]
     },
     "metadata": {},
     "output_type": "display_data"
    }
   ],
   "source": [
    "display(data.describe())"
   ]
  },
  {
   "cell_type": "markdown",
   "metadata": {},
   "source": [
    "* Las filas nos muestran información de los nombres de las plataformas de videojuegos y podemos entender la información de las columnas en los encabezados.\n",
    "* Se tiene información incompleta debido a que hay varias celdas con valores ausentes y con formatos incorrectos.\n",
    "* En los encabezados algunos están en mayúsculas y minúsculas."
   ]
  },
  {
   "cell_type": "markdown",
   "metadata": {},
   "source": [
    "## Preparar los datos"
   ]
  },
  {
   "cell_type": "markdown",
   "metadata": {},
   "source": [
    "\n",
    "### Correción de datos\n",
    "Convertir los nombres de las columnas a minúsculas para que sean más fáciles de manejar."
   ]
  },
  {
   "cell_type": "code",
   "execution_count": 6,
   "metadata": {},
   "outputs": [],
   "source": [
    "data.columns = data.columns.str.lower()"
   ]
  },
  {
   "cell_type": "code",
   "execution_count": 7,
   "metadata": {},
   "outputs": [
    {
     "name": "stdout",
     "output_type": "stream",
     "text": [
      "<class 'pandas.core.frame.DataFrame'>\n",
      "RangeIndex: 16715 entries, 0 to 16714\n",
      "Data columns (total 11 columns):\n",
      " #   Column           Non-Null Count  Dtype  \n",
      "---  ------           --------------  -----  \n",
      " 0   name             16713 non-null  object \n",
      " 1   platform         16715 non-null  object \n",
      " 2   year_of_release  16446 non-null  float64\n",
      " 3   genre            16713 non-null  object \n",
      " 4   na_sales         16715 non-null  float64\n",
      " 5   eu_sales         16715 non-null  float64\n",
      " 6   jp_sales         16715 non-null  float64\n",
      " 7   other_sales      16715 non-null  float64\n",
      " 8   critic_score     8137 non-null   float64\n",
      " 9   user_score       10014 non-null  object \n",
      " 10  rating           9949 non-null   object \n",
      "dtypes: float64(6), object(5)\n",
      "memory usage: 1.4+ MB\n",
      "None\n"
     ]
    }
   ],
   "source": [
    "print(data.info())"
   ]
  },
  {
   "cell_type": "markdown",
   "metadata": {},
   "source": [
    "### Convertir tipos de datos: \n",
    "\n",
    "* Revisamos las columnas con datos que deben ser de tipo numérico o fecha y convertimos si es necesario.Por ejemplo, si year_of_release es un entero, nos aseguramos de de que esté correctamente tipado.\n",
    "* Revisamos que la columna'year_of_realease' contiene los valores nulos, que podria ser que  los datos pueden no haber sido correctamente documentados o registrados en fuentes abiertaso quiza algunos juegos pueden haber sido anunciados pero luego retrasados, y al momento de la recopilación de datos no se había determinado aún el año de lanzamiento. En estos casos, el año de lanzamiento podría haber sido dejado en blanco hasta que se confirmen. Por lo que optamos por reemplazar los valores por '0', debido a que la información que contiene la columna corresponde a el año de lanzamiento del juego, no se podría eliminar las filas ya que pueden contener información valiosa en otras columnas, como ventas regionales, clasificación de críticos y usuarios, género del juego y clasificación ESRB. Eliminar estas filas significaría perder toda la información."
   ]
  },
  {
   "cell_type": "code",
   "execution_count": 8,
   "metadata": {},
   "outputs": [
    {
     "name": "stdout",
     "output_type": "stream",
     "text": [
      "0        2006.0\n",
      "1        1985.0\n",
      "2        2008.0\n",
      "3        2009.0\n",
      "4        1996.0\n",
      "          ...  \n",
      "16710    2016.0\n",
      "16711    2006.0\n",
      "16712    2016.0\n",
      "16713    2003.0\n",
      "16714    2016.0\n",
      "Name: year_of_release, Length: 16715, dtype: float64\n"
     ]
    }
   ],
   "source": [
    "print(data['year_of_release'])"
   ]
  },
  {
   "cell_type": "code",
   "execution_count": 9,
   "metadata": {},
   "outputs": [],
   "source": [
    "data['year_of_release'] = data['year_of_release'].fillna(0).astype('int')"
   ]
  },
  {
   "cell_type": "code",
   "execution_count": 10,
   "metadata": {},
   "outputs": [
    {
     "data": {
      "text/plain": [
       "0        2006\n",
       "1        1985\n",
       "2        2008\n",
       "3        2009\n",
       "4        1996\n",
       "         ... \n",
       "16710    2016\n",
       "16711    2006\n",
       "16712    2016\n",
       "16713    2003\n",
       "16714    2016\n",
       "Name: year_of_release, Length: 16715, dtype: int64"
      ]
     },
     "execution_count": 10,
     "metadata": {},
     "output_type": "execute_result"
    }
   ],
   "source": [
    "data['year_of_release']"
   ]
  },
  {
   "cell_type": "markdown",
   "metadata": {},
   "source": [
    "### Valores ausentes \n",
    "* Primero, encuentraremos el número de valores ausentes en la tabla,utilizando los métodos en una secuencia para obtener el número de valores ausentes"
   ]
  },
  {
   "cell_type": "markdown",
   "metadata": {},
   "source": [
    "Los valores ausentes en un conjunto de datos pueden deberse a varias razones, y es importante considerar el contexto para entender por qué pueden faltar datos en este caso específico de videojuegos. Aquí te presento algunas explicaciones posibles:\n",
    "\n",
    "1. Falta de información al momento del lanzamiento :\n",
    "Clasificación ESRB (rating) : Algunos juegos pueden no haber recibido una clasificación ESRB al momento de recolectar los datos. Esto podría ser porque el juego aún no había sido clasificado o porque se trataba de una versión preliminar o de prueba.\n",
    "Puntuaciones de críticos o usuarios : Los datos de critic_scorey user_scorepodrían estar ausentes si el juego es muy nuevo y no ha recibido suficientes reseñas, o si las plataformas de reseñas no han recopilado o publicado las evaluaciones.\n",
    "2. Errores en la recopilación o registro de datos :\n",
    "En algunos casos, la falta de valores puede ser el resultado de errores humanos o técnicos durante la recopilación, entrada o procesamiento de datos. Por ejemplo, un campo podría haber sido omitido accidentalmente al registrar la información.\n",
    "3. Datos irrelevantes o no aplicables :\n",
    "Es posible que ciertos valores simplemente no se apliquen a todos los juegos. Por ejemplo, un juego puede no haber sido lanzado en una región específica, lo que resultaría en valores ausentes en las columnas correspondientes a las ventas en esa región ( na_sales, eu_sales, etc.).\n",
    "4. Retiro de productos o cambios en el mercado :\n",
    "Si un juego fue retirado del mercado antes de recibir clasificación o clasificación, o si se dejó de vender en ciertas regiones, los valores correspondientes podrían estar ausentes.\n",
    "5. Problemas de acceso a información histórica :\n",
    "Los datos históricos, especialmente si no han sido bien conservados, pueden estar incompletos. Por ejemplo, los registros más antiguos podrían tener menos información debido a la falta de tecnología avanzada en la época de su recopilación.\n",
    "6. “TBD” (por determinar) :\n",
    "Cuando un valor está marcado como \"TBD\" (To Be Determined), indica que la información estaba pendiente de ser determinada al momento de la recopilación de datos. Esto puede ocurrir cuando un juego está en una etapa temprana de lanzamiento o cuando se espera una actualización futura que proporcione esa información."
   ]
  },
  {
   "cell_type": "code",
   "execution_count": 11,
   "metadata": {},
   "outputs": [],
   "source": [
    "nulos_totales = data.isna().sum()"
   ]
  },
  {
   "cell_type": "code",
   "execution_count": 12,
   "metadata": {},
   "outputs": [
    {
     "name": "stdout",
     "output_type": "stream",
     "text": [
      "name                  2\n",
      "platform              0\n",
      "year_of_release       0\n",
      "genre                 2\n",
      "na_sales              0\n",
      "eu_sales              0\n",
      "jp_sales              0\n",
      "other_sales           0\n",
      "critic_score       8578\n",
      "user_score         6701\n",
      "rating             6766\n",
      "dtype: int64\n"
     ]
    }
   ],
   "source": [
    "print(nulos_totales)"
   ]
  },
  {
   "cell_type": "code",
   "execution_count": 13,
   "metadata": {},
   "outputs": [
    {
     "data": {
      "text/plain": [
       "name                0.011965\n",
       "platform            0.000000\n",
       "year_of_release     0.000000\n",
       "genre               0.011965\n",
       "na_sales            0.000000\n",
       "eu_sales            0.000000\n",
       "jp_sales            0.000000\n",
       "other_sales         0.000000\n",
       "critic_score       51.319174\n",
       "user_score         40.089740\n",
       "rating             40.478612\n",
       "dtype: float64"
      ]
     },
     "execution_count": 13,
     "metadata": {},
     "output_type": "execute_result"
    }
   ],
   "source": [
    "# Mostrar el número y porcentaje de valores ausentes por columna\n",
    "nulos_porcentaje = (nulos_totales / len(data)) * 100\n",
    "nulos_porcentaje"
   ]
  },
  {
   "cell_type": "code",
   "execution_count": 14,
   "metadata": {},
   "outputs": [],
   "source": [
    "data['genre'] = data['genre'].fillna(0)"
   ]
  },
  {
   "cell_type": "code",
   "execution_count": 15,
   "metadata": {},
   "outputs": [
    {
     "data": {
      "text/html": [
       "<div>\n",
       "<style scoped>\n",
       "    .dataframe tbody tr th:only-of-type {\n",
       "        vertical-align: middle;\n",
       "    }\n",
       "\n",
       "    .dataframe tbody tr th {\n",
       "        vertical-align: top;\n",
       "    }\n",
       "\n",
       "    .dataframe thead th {\n",
       "        text-align: right;\n",
       "    }\n",
       "</style>\n",
       "<table border=\"1\" class=\"dataframe\">\n",
       "  <thead>\n",
       "    <tr style=\"text-align: right;\">\n",
       "      <th></th>\n",
       "      <th>name</th>\n",
       "      <th>platform</th>\n",
       "      <th>year_of_release</th>\n",
       "      <th>genre</th>\n",
       "      <th>na_sales</th>\n",
       "      <th>eu_sales</th>\n",
       "      <th>jp_sales</th>\n",
       "      <th>other_sales</th>\n",
       "      <th>critic_score</th>\n",
       "      <th>user_score</th>\n",
       "      <th>rating</th>\n",
       "    </tr>\n",
       "  </thead>\n",
       "  <tbody>\n",
       "    <tr>\n",
       "      <th>119</th>\n",
       "      <td>Zumba Fitness</td>\n",
       "      <td>Wii</td>\n",
       "      <td>2010</td>\n",
       "      <td>Sports</td>\n",
       "      <td>3.45</td>\n",
       "      <td>2.59</td>\n",
       "      <td>0.0</td>\n",
       "      <td>0.66</td>\n",
       "      <td>NaN</td>\n",
       "      <td>tbd</td>\n",
       "      <td>E</td>\n",
       "    </tr>\n",
       "    <tr>\n",
       "      <th>301</th>\n",
       "      <td>Namco Museum: 50th Anniversary</td>\n",
       "      <td>PS2</td>\n",
       "      <td>2005</td>\n",
       "      <td>Misc</td>\n",
       "      <td>2.08</td>\n",
       "      <td>1.35</td>\n",
       "      <td>0.0</td>\n",
       "      <td>0.54</td>\n",
       "      <td>61.0</td>\n",
       "      <td>tbd</td>\n",
       "      <td>E10+</td>\n",
       "    </tr>\n",
       "    <tr>\n",
       "      <th>520</th>\n",
       "      <td>Zumba Fitness 2</td>\n",
       "      <td>Wii</td>\n",
       "      <td>2011</td>\n",
       "      <td>Sports</td>\n",
       "      <td>1.51</td>\n",
       "      <td>1.03</td>\n",
       "      <td>0.0</td>\n",
       "      <td>0.27</td>\n",
       "      <td>NaN</td>\n",
       "      <td>tbd</td>\n",
       "      <td>T</td>\n",
       "    </tr>\n",
       "    <tr>\n",
       "      <th>645</th>\n",
       "      <td>uDraw Studio</td>\n",
       "      <td>Wii</td>\n",
       "      <td>2010</td>\n",
       "      <td>Misc</td>\n",
       "      <td>1.65</td>\n",
       "      <td>0.57</td>\n",
       "      <td>0.0</td>\n",
       "      <td>0.20</td>\n",
       "      <td>71.0</td>\n",
       "      <td>tbd</td>\n",
       "      <td>E</td>\n",
       "    </tr>\n",
       "    <tr>\n",
       "      <th>657</th>\n",
       "      <td>Frogger's Adventures: Temple of the Frog</td>\n",
       "      <td>GBA</td>\n",
       "      <td>0</td>\n",
       "      <td>Adventure</td>\n",
       "      <td>2.15</td>\n",
       "      <td>0.18</td>\n",
       "      <td>0.0</td>\n",
       "      <td>0.07</td>\n",
       "      <td>73.0</td>\n",
       "      <td>tbd</td>\n",
       "      <td>E</td>\n",
       "    </tr>\n",
       "    <tr>\n",
       "      <th>...</th>\n",
       "      <td>...</td>\n",
       "      <td>...</td>\n",
       "      <td>...</td>\n",
       "      <td>...</td>\n",
       "      <td>...</td>\n",
       "      <td>...</td>\n",
       "      <td>...</td>\n",
       "      <td>...</td>\n",
       "      <td>...</td>\n",
       "      <td>...</td>\n",
       "      <td>...</td>\n",
       "    </tr>\n",
       "    <tr>\n",
       "      <th>16695</th>\n",
       "      <td>Planet Monsters</td>\n",
       "      <td>GBA</td>\n",
       "      <td>2001</td>\n",
       "      <td>Action</td>\n",
       "      <td>0.01</td>\n",
       "      <td>0.00</td>\n",
       "      <td>0.0</td>\n",
       "      <td>0.00</td>\n",
       "      <td>67.0</td>\n",
       "      <td>tbd</td>\n",
       "      <td>E</td>\n",
       "    </tr>\n",
       "    <tr>\n",
       "      <th>16697</th>\n",
       "      <td>Bust-A-Move 3000</td>\n",
       "      <td>GC</td>\n",
       "      <td>2003</td>\n",
       "      <td>Puzzle</td>\n",
       "      <td>0.01</td>\n",
       "      <td>0.00</td>\n",
       "      <td>0.0</td>\n",
       "      <td>0.00</td>\n",
       "      <td>53.0</td>\n",
       "      <td>tbd</td>\n",
       "      <td>E</td>\n",
       "    </tr>\n",
       "    <tr>\n",
       "      <th>16698</th>\n",
       "      <td>Mega Brain Boost</td>\n",
       "      <td>DS</td>\n",
       "      <td>2008</td>\n",
       "      <td>Puzzle</td>\n",
       "      <td>0.01</td>\n",
       "      <td>0.00</td>\n",
       "      <td>0.0</td>\n",
       "      <td>0.00</td>\n",
       "      <td>48.0</td>\n",
       "      <td>tbd</td>\n",
       "      <td>E</td>\n",
       "    </tr>\n",
       "    <tr>\n",
       "      <th>16704</th>\n",
       "      <td>Plushees</td>\n",
       "      <td>DS</td>\n",
       "      <td>2008</td>\n",
       "      <td>Simulation</td>\n",
       "      <td>0.01</td>\n",
       "      <td>0.00</td>\n",
       "      <td>0.0</td>\n",
       "      <td>0.00</td>\n",
       "      <td>NaN</td>\n",
       "      <td>tbd</td>\n",
       "      <td>E</td>\n",
       "    </tr>\n",
       "    <tr>\n",
       "      <th>16706</th>\n",
       "      <td>Men in Black II: Alien Escape</td>\n",
       "      <td>GC</td>\n",
       "      <td>2003</td>\n",
       "      <td>Shooter</td>\n",
       "      <td>0.01</td>\n",
       "      <td>0.00</td>\n",
       "      <td>0.0</td>\n",
       "      <td>0.00</td>\n",
       "      <td>NaN</td>\n",
       "      <td>tbd</td>\n",
       "      <td>T</td>\n",
       "    </tr>\n",
       "  </tbody>\n",
       "</table>\n",
       "<p>2424 rows × 11 columns</p>\n",
       "</div>"
      ],
      "text/plain": [
       "                                           name platform  year_of_release  \\\n",
       "119                               Zumba Fitness      Wii             2010   \n",
       "301              Namco Museum: 50th Anniversary      PS2             2005   \n",
       "520                             Zumba Fitness 2      Wii             2011   \n",
       "645                                uDraw Studio      Wii             2010   \n",
       "657    Frogger's Adventures: Temple of the Frog      GBA                0   \n",
       "...                                         ...      ...              ...   \n",
       "16695                           Planet Monsters      GBA             2001   \n",
       "16697                          Bust-A-Move 3000       GC             2003   \n",
       "16698                          Mega Brain Boost       DS             2008   \n",
       "16704                                  Plushees       DS             2008   \n",
       "16706             Men in Black II: Alien Escape       GC             2003   \n",
       "\n",
       "            genre  na_sales  eu_sales  jp_sales  other_sales  critic_score  \\\n",
       "119        Sports      3.45      2.59       0.0         0.66           NaN   \n",
       "301          Misc      2.08      1.35       0.0         0.54          61.0   \n",
       "520        Sports      1.51      1.03       0.0         0.27           NaN   \n",
       "645          Misc      1.65      0.57       0.0         0.20          71.0   \n",
       "657     Adventure      2.15      0.18       0.0         0.07          73.0   \n",
       "...           ...       ...       ...       ...          ...           ...   \n",
       "16695      Action      0.01      0.00       0.0         0.00          67.0   \n",
       "16697      Puzzle      0.01      0.00       0.0         0.00          53.0   \n",
       "16698      Puzzle      0.01      0.00       0.0         0.00          48.0   \n",
       "16704  Simulation      0.01      0.00       0.0         0.00           NaN   \n",
       "16706     Shooter      0.01      0.00       0.0         0.00           NaN   \n",
       "\n",
       "      user_score rating  \n",
       "119          tbd      E  \n",
       "301          tbd   E10+  \n",
       "520          tbd      T  \n",
       "645          tbd      E  \n",
       "657          tbd      E  \n",
       "...          ...    ...  \n",
       "16695        tbd      E  \n",
       "16697        tbd      E  \n",
       "16698        tbd      E  \n",
       "16704        tbd      E  \n",
       "16706        tbd      T  \n",
       "\n",
       "[2424 rows x 11 columns]"
      ]
     },
     "execution_count": 15,
     "metadata": {},
     "output_type": "execute_result"
    }
   ],
   "source": [
    "data.query('user_score == \"tbd\"')"
   ]
  },
  {
   "cell_type": "code",
   "execution_count": 16,
   "metadata": {},
   "outputs": [],
   "source": [
    "# Reemplazar 'tbd' con NaN en las columnas de puntuación\n",
    "data['user_score'] = data['user_score'].replace('tbd', np.nan)\n",
    "data['critic_score'] = data['critic_score'].replace('tbd', np.nan)"
   ]
  },
  {
   "cell_type": "code",
   "execution_count": 17,
   "metadata": {},
   "outputs": [],
   "source": [
    "# Convertir las columnas de puntuación a numéricas\n",
    "data['user_score'] = pd.to_numeric(data['user_score'], errors='coerce')\n",
    "data['critic_score'] = pd.to_numeric(data['critic_score'], errors='coerce')"
   ]
  },
  {
   "cell_type": "code",
   "execution_count": 18,
   "metadata": {},
   "outputs": [],
   "source": [
    "# Calcular la mediana general de las puntuaciones\n",
    "median_critic_score = data['critic_score'].median()\n",
    "median_user_score = data['user_score'].median()"
   ]
  },
  {
   "cell_type": "code",
   "execution_count": 19,
   "metadata": {},
   "outputs": [],
   "source": [
    "# Función para imputar la mediana del grupo o la mediana general\n",
    "def impute_with_group_or_general_median(x, general_median):\n",
    "    if x.notna().sum() > 0:  # Si el grupo no está vacío\n",
    "        return x.fillna(x.median())\n",
    "    else:  # Si el grupo está vacío\n",
    "        return x.fillna(general_median)"
   ]
  },
  {
   "cell_type": "code",
   "execution_count": 20,
   "metadata": {},
   "outputs": [],
   "source": [
    "# Imputar 'critic_score' con la mediana del grupo o la mediana general\n",
    "data['critic_score'] = data.groupby('genre')['critic_score'].transform(lambda x: impute_with_group_or_general_median(x, median_critic_score))\n"
   ]
  },
  {
   "cell_type": "code",
   "execution_count": 21,
   "metadata": {},
   "outputs": [],
   "source": [
    "# Imputar 'user_score' con la mediana del grupo o la mediana general\n",
    "data['user_score'] = data.groupby('genre')['user_score'].transform(lambda x: impute_with_group_or_general_median(x, median_user_score))\n"
   ]
  },
  {
   "cell_type": "code",
   "execution_count": 22,
   "metadata": {},
   "outputs": [
    {
     "data": {
      "text/plain": [
       "array(['E', nan, 'M', 'T', 'E10+', 'K-A', 'AO', 'EC', 'RP'], dtype=object)"
      ]
     },
     "execution_count": 22,
     "metadata": {},
     "output_type": "execute_result"
    }
   ],
   "source": [
    "data['rating'].unique()"
   ]
  },
  {
   "cell_type": "code",
   "execution_count": 23,
   "metadata": {},
   "outputs": [],
   "source": [
    "# Reemplazar los valores ausentes de 'rating' con 'Unknown'\n",
    "data['rating'].fillna('Unknown', inplace=True)"
   ]
  },
  {
   "cell_type": "code",
   "execution_count": 24,
   "metadata": {},
   "outputs": [
    {
     "name": "stdout",
     "output_type": "stream",
     "text": [
      "Valores ausentes después de la imputación:\n",
      "name               2\n",
      "platform           0\n",
      "year_of_release    0\n",
      "genre              0\n",
      "na_sales           0\n",
      "eu_sales           0\n",
      "jp_sales           0\n",
      "other_sales        0\n",
      "critic_score       0\n",
      "user_score         0\n",
      "rating             0\n",
      "dtype: int64\n"
     ]
    }
   ],
   "source": [
    "# Verificar los valores ausentes después de la imputación\n",
    "print(\"Valores ausentes después de la imputación:\")\n",
    "print(data.isna().sum())"
   ]
  },
  {
   "cell_type": "markdown",
   "metadata": {},
   "source": [
    "La abreviatura TBD (To Be Determined) en el dataset indica que el valor correspondiente aún \n",
    "no se ha determinado o confirmado en el momento de la recopilación de datos.\n",
    "En el contexto del análisis de videojuegos, estos valores pueden aparecer en columnas como la clasificación ESRB (rating) \n",
    "o las puntuaciones de usuarios o críticos. Para manejar estos casos, se pueden considerar varias estrategias, \n",
    "dependiendo del impacto que puedan tener en el análisis.\n",
    "\n",
    "Convertir TBD en una Categoría Separada:\n",
    "\n",
    "Para la columna rating: Podrías convertir \"TBD\" en una categoría separada como \"Desconocido\" o \"Sin clasificación\". Esto permitirá que el análisis incluya estos casos sin perder la información relacionada con otros aspectos del juego.\n",
    "\n",
    "Ventaja: Mantienes todos los datos y puedes analizar si la falta de clasificación influye en otros factores, como las ventas"
   ]
  },
  {
   "cell_type": "markdown",
   "metadata": {},
   "source": [
    "\n",
    "<div class=\"alert alert-block alert-info\">\n",
    "Se realizó la modificación sugerida al procesamiento de valores ausentes  \n",
    "    \n",
    "*En la columna 'user_score´y 'critic_score' se imputo los valores de la mediana de los datos  \n",
    "    \n",
    "*En la columna 'rating' se asignó el valor 'unknow'\n",
    " \n",
    "</b> <a class=“tocSkip”></a>\n",
    "</div>"
   ]
  },
  {
   "cell_type": "markdown",
   "metadata": {},
   "source": [
    "### Ventas totales:\n",
    "* Se adiciono una columna a el datset para el calculo de las ventas totales"
   ]
  },
  {
   "cell_type": "code",
   "execution_count": 25,
   "metadata": {},
   "outputs": [],
   "source": [
    "data['total_sales']=data[['na_sales','eu_sales','jp_sales','other_sales']].sum(axis=1)"
   ]
  },
  {
   "cell_type": "code",
   "execution_count": 26,
   "metadata": {},
   "outputs": [
    {
     "name": "stdout",
     "output_type": "stream",
     "text": [
      "Ventas totales por juego:\n",
      "                                name  total_sales\n",
      "0                         Wii Sports        82.54\n",
      "1                  Super Mario Bros.        40.24\n",
      "2                     Mario Kart Wii        35.52\n",
      "3                  Wii Sports Resort        32.77\n",
      "4           Pokemon Red/Pokemon Blue        31.38\n",
      "...                              ...          ...\n",
      "16710  Samurai Warriors: Sanada Maru         0.01\n",
      "16711               LMA Manager 2007         0.01\n",
      "16712        Haitaka no Psychedelica         0.01\n",
      "16713               Spirits & Spells         0.01\n",
      "16714            Winning Post 8 2016         0.01\n",
      "\n",
      "[16715 rows x 2 columns]\n"
     ]
    }
   ],
   "source": [
    "# Mostrar las ventas totales para los primeros juegos como ejemplo\n",
    "print(\"Ventas totales por juego:\")\n",
    "print(data[['name', 'total_sales']])"
   ]
  },
  {
   "cell_type": "code",
   "execution_count": 27,
   "metadata": {},
   "outputs": [],
   "source": [
    "# Agrupar los datos por nombre de juego y sumar las ventas totales\n",
    "sales_by_game = data.groupby('name')['total_sales'].sum().sort_values(ascending=False)\n",
    "\n",
    "# Seleccionar los 10 juegos más vendidos\n",
    "top_10_games = sales_by_game.head(10)"
   ]
  },
  {
   "cell_type": "code",
   "execution_count": 28,
   "metadata": {},
   "outputs": [
    {
     "data": {
      "image/png": "[encoded data removed]",
      "text/plain": [
       "<Figure size 1000x600 with 1 Axes>"
      ]
     },
     "metadata": {},
     "output_type": "display_data"
    }
   ],
   "source": [
    "plt.figure(figsize=(10, 6))\n",
    "top_10_games.plot(kind='bar', color='skyblue')\n",
    "plt.title('Top 10 Juegos Más Vendidos')\n",
    "plt.xlabel('Nombre del Juego')\n",
    "plt.ylabel('Ventas Totales (Millones de USD)')\n",
    "plt.xticks(rotation=45)\n",
    "plt.show()"
   ]
  },
  {
   "cell_type": "markdown",
   "metadata": {},
   "source": [
    "## Analisis de Datos:"
   ]
  },
  {
   "cell_type": "markdown",
   "metadata": {},
   "source": [
    "### Juegos lanzados por año:"
   ]
  },
  {
   "cell_type": "code",
   "execution_count": 30,
   "metadata": {},
   "outputs": [],
   "source": [
    "#Agrupamos la información que necesitamos de las columnas 'year_of_release' y 'name'.\n",
    "#Para poder hallar el total de juegos lanzados por año:\n",
    "\n",
    "data_anio_lanzamiento = data.groupby('year_of_release')['name'].count().sort_values(ascending=False).reset_index()"
   ]
  },
  {
   "cell_type": "code",
   "execution_count": 31,
   "metadata": {},
   "outputs": [
    {
     "name": "stdout",
     "output_type": "stream",
     "text": [
      "   year_of_release  name\n",
      "0             2008  1427\n",
      "1             2009  1426\n",
      "2             2010  1255\n",
      "3             2007  1197\n",
      "4             2011  1136\n"
     ]
    }
   ],
   "source": [
    "print(data_anio_lanzamiento.head())"
   ]
  },
  {
   "cell_type": "code",
   "execution_count": 32,
   "metadata": {},
   "outputs": [],
   "source": [
    "data_anio_lanzamiento=data_anio_lanzamiento[data_anio_lanzamiento['year_of_release']!=0]"
   ]
  },
  {
   "cell_type": "code",
   "execution_count": 33,
   "metadata": {},
   "outputs": [
    {
     "data": {
      "image/png": "[encoded data removed]",
      "text/plain": [
       "<Figure size 1000x500 with 1 Axes>"
      ]
     },
     "metadata": {},
     "output_type": "display_data"
    }
   ],
   "source": [
    "fig, ax = plt.subplots(figsize=(10, 5))\n",
    "ax.vlines(x=data_anio_lanzamiento.year_of_release,ymin=0,ymax=data_anio_lanzamiento.name)\n",
    "ax.set_title=('Lanzamiento de juegos por anio')\n",
    "ax.set_xticks(data_anio_lanzamiento.year_of_release)\n",
    "ax.set_xticklabels(data_anio_lanzamiento.year_of_release, rotation=90)\n",
    "plt.show()"
   ]
  },
  {
   "cell_type": "markdown",
   "metadata": {},
   "source": [
    "* La gráfica resultante mostrará la distribución de lanzamientos de juegos a lo largo de los años. De esta manera, podrás identificar períodos con una mayor o menor cantidad de lanzamientos.\n",
    "* los datos de años más recientes (por ejemplo, 2013-2016) tengan más juegos registrados debido a mejores técnicas de recopilación de datos y un mercado más grande para los videojuegos.\n",
    "* En contraste, los años más antiguos podrían tener menos datos debido a una menor disponibilidad o a que algunos juegos más antiguos no se han digitalizado o registrado completamente.\n",
    "\n",
    "* **Conclusión:**\n",
    "* **Revisar cuántos juegos fueron lanzados en diferentes años nos permite entender mejor la distribución y la relevancia de los datos a lo largo del tiempo. Esto es crucial para decidir qué períodos de tiempo incluir en el análisis y cómo utilizar estos datos para predecir tendencias futuras y planificar campañas para 2017.**"
   ]
  },
  {
   "cell_type": "code",
   "execution_count": 34,
   "metadata": {},
   "outputs": [
    {
     "data": {
      "text/html": [
       "<div>\n",
       "<style scoped>\n",
       "    .dataframe tbody tr th:only-of-type {\n",
       "        vertical-align: middle;\n",
       "    }\n",
       "\n",
       "    .dataframe tbody tr th {\n",
       "        vertical-align: top;\n",
       "    }\n",
       "\n",
       "    .dataframe thead th {\n",
       "        text-align: right;\n",
       "    }\n",
       "</style>\n",
       "<table border=\"1\" class=\"dataframe\">\n",
       "  <thead>\n",
       "    <tr style=\"text-align: right;\">\n",
       "      <th></th>\n",
       "      <th>name</th>\n",
       "      <th>platform</th>\n",
       "      <th>year_of_release</th>\n",
       "      <th>genre</th>\n",
       "      <th>na_sales</th>\n",
       "      <th>eu_sales</th>\n",
       "      <th>jp_sales</th>\n",
       "      <th>other_sales</th>\n",
       "      <th>critic_score</th>\n",
       "      <th>user_score</th>\n",
       "      <th>rating</th>\n",
       "      <th>total_sales</th>\n",
       "    </tr>\n",
       "  </thead>\n",
       "  <tbody>\n",
       "    <tr>\n",
       "      <th>0</th>\n",
       "      <td>Wii Sports</td>\n",
       "      <td>Wii</td>\n",
       "      <td>2006</td>\n",
       "      <td>Sports</td>\n",
       "      <td>41.36</td>\n",
       "      <td>28.96</td>\n",
       "      <td>3.77</td>\n",
       "      <td>8.45</td>\n",
       "      <td>76.0</td>\n",
       "      <td>8.0</td>\n",
       "      <td>E</td>\n",
       "      <td>82.54</td>\n",
       "    </tr>\n",
       "    <tr>\n",
       "      <th>1</th>\n",
       "      <td>Super Mario Bros.</td>\n",
       "      <td>NES</td>\n",
       "      <td>1985</td>\n",
       "      <td>Platform</td>\n",
       "      <td>29.08</td>\n",
       "      <td>3.58</td>\n",
       "      <td>6.81</td>\n",
       "      <td>0.77</td>\n",
       "      <td>69.0</td>\n",
       "      <td>7.7</td>\n",
       "      <td>Unknown</td>\n",
       "      <td>40.24</td>\n",
       "    </tr>\n",
       "    <tr>\n",
       "      <th>2</th>\n",
       "      <td>Mario Kart Wii</td>\n",
       "      <td>Wii</td>\n",
       "      <td>2008</td>\n",
       "      <td>Racing</td>\n",
       "      <td>15.68</td>\n",
       "      <td>12.76</td>\n",
       "      <td>3.79</td>\n",
       "      <td>3.29</td>\n",
       "      <td>82.0</td>\n",
       "      <td>8.3</td>\n",
       "      <td>E</td>\n",
       "      <td>35.52</td>\n",
       "    </tr>\n",
       "    <tr>\n",
       "      <th>3</th>\n",
       "      <td>Wii Sports Resort</td>\n",
       "      <td>Wii</td>\n",
       "      <td>2009</td>\n",
       "      <td>Sports</td>\n",
       "      <td>15.61</td>\n",
       "      <td>10.93</td>\n",
       "      <td>3.28</td>\n",
       "      <td>2.95</td>\n",
       "      <td>80.0</td>\n",
       "      <td>8.0</td>\n",
       "      <td>E</td>\n",
       "      <td>32.77</td>\n",
       "    </tr>\n",
       "    <tr>\n",
       "      <th>4</th>\n",
       "      <td>Pokemon Red/Pokemon Blue</td>\n",
       "      <td>GB</td>\n",
       "      <td>1996</td>\n",
       "      <td>Role-Playing</td>\n",
       "      <td>11.27</td>\n",
       "      <td>8.89</td>\n",
       "      <td>10.22</td>\n",
       "      <td>1.00</td>\n",
       "      <td>74.0</td>\n",
       "      <td>7.8</td>\n",
       "      <td>Unknown</td>\n",
       "      <td>31.38</td>\n",
       "    </tr>\n",
       "  </tbody>\n",
       "</table>\n",
       "</div>"
      ],
      "text/plain": [
       "                       name platform  year_of_release         genre  na_sales  \\\n",
       "0                Wii Sports      Wii             2006        Sports     41.36   \n",
       "1         Super Mario Bros.      NES             1985      Platform     29.08   \n",
       "2            Mario Kart Wii      Wii             2008        Racing     15.68   \n",
       "3         Wii Sports Resort      Wii             2009        Sports     15.61   \n",
       "4  Pokemon Red/Pokemon Blue       GB             1996  Role-Playing     11.27   \n",
       "\n",
       "   eu_sales  jp_sales  other_sales  critic_score  user_score   rating  \\\n",
       "0     28.96      3.77         8.45          76.0         8.0        E   \n",
       "1      3.58      6.81         0.77          69.0         7.7  Unknown   \n",
       "2     12.76      3.79         3.29          82.0         8.3        E   \n",
       "3     10.93      3.28         2.95          80.0         8.0        E   \n",
       "4      8.89     10.22         1.00          74.0         7.8  Unknown   \n",
       "\n",
       "   total_sales  \n",
       "0        82.54  \n",
       "1        40.24  \n",
       "2        35.52  \n",
       "3        32.77  \n",
       "4        31.38  "
      ]
     },
     "execution_count": 34,
     "metadata": {},
     "output_type": "execute_result"
    }
   ],
   "source": [
    "data.nlargest(5,('total_sales'))\n"
   ]
  },
  {
   "cell_type": "markdown",
   "metadata": {},
   "source": [
    "### Ventas por plataformas de juegos:"
   ]
  },
  {
   "cell_type": "markdown",
   "metadata": {},
   "source": [
    "Proceso de agrupamiento, suma y ordenamiento sobre los datos relacionados con las ventas por \n",
    "plataforma en el DataFrame 'data', proporcionando como resultado un nuevo DataFrame llamado 'df_ventas_plataforma'."
   ]
  },
  {
   "cell_type": "code",
   "execution_count": 35,
   "metadata": {},
   "outputs": [
    {
     "data": {
      "text/html": [
       "<div>\n",
       "<style scoped>\n",
       "    .dataframe tbody tr th:only-of-type {\n",
       "        vertical-align: middle;\n",
       "    }\n",
       "\n",
       "    .dataframe tbody tr th {\n",
       "        vertical-align: top;\n",
       "    }\n",
       "\n",
       "    .dataframe thead th {\n",
       "        text-align: right;\n",
       "    }\n",
       "</style>\n",
       "<table border=\"1\" class=\"dataframe\">\n",
       "  <thead>\n",
       "    <tr style=\"text-align: right;\">\n",
       "      <th></th>\n",
       "      <th>platform</th>\n",
       "      <th>total_sales</th>\n",
       "    </tr>\n",
       "  </thead>\n",
       "  <tbody>\n",
       "    <tr>\n",
       "      <th>0</th>\n",
       "      <td>PS2</td>\n",
       "      <td>1255.77</td>\n",
       "    </tr>\n",
       "    <tr>\n",
       "      <th>1</th>\n",
       "      <td>X360</td>\n",
       "      <td>971.42</td>\n",
       "    </tr>\n",
       "    <tr>\n",
       "      <th>2</th>\n",
       "      <td>PS3</td>\n",
       "      <td>939.65</td>\n",
       "    </tr>\n",
       "    <tr>\n",
       "      <th>3</th>\n",
       "      <td>Wii</td>\n",
       "      <td>907.51</td>\n",
       "    </tr>\n",
       "    <tr>\n",
       "      <th>4</th>\n",
       "      <td>DS</td>\n",
       "      <td>806.12</td>\n",
       "    </tr>\n",
       "  </tbody>\n",
       "</table>\n",
       "</div>"
      ],
      "text/plain": [
       "  platform  total_sales\n",
       "0      PS2      1255.77\n",
       "1     X360       971.42\n",
       "2      PS3       939.65\n",
       "3      Wii       907.51\n",
       "4       DS       806.12"
      ]
     },
     "execution_count": 35,
     "metadata": {},
     "output_type": "execute_result"
    }
   ],
   "source": [
    "\n",
    "df_ventas_plataforma = data.groupby('platform')['total_sales'].sum().sort_values(ascending=False).reset_index()\n",
    "df_ventas_plataforma.head()"
   ]
  },
  {
   "cell_type": "markdown",
   "metadata": {},
   "source": [
    "Calculamos los puntajes z para las ventas totales en el DataFrame df_ventas_plataforma utilizando la fórmula estándar del puntaje z: (valor - media) / desviación estándar. Esto puede ayudar a identificar cuán lejos están los valores individuales de la media en términos de desviaciones estándar y es útil para comparar diferentes conjuntos de datos entre sí."
   ]
  },
  {
   "cell_type": "code",
   "execution_count": 36,
   "metadata": {},
   "outputs": [],
   "source": [
    "\n",
    "df_ventas_plataforma['z_score'] = (df_ventas_plataforma['total_sales']-df_ventas_plataforma['total_sales'].mean())/df_ventas_plataforma['total_sales'].std()"
   ]
  },
  {
   "cell_type": "code",
   "execution_count": 37,
   "metadata": {},
   "outputs": [
    {
     "data": {
      "text/html": [
       "<div>\n",
       "<style scoped>\n",
       "    .dataframe tbody tr th:only-of-type {\n",
       "        vertical-align: middle;\n",
       "    }\n",
       "\n",
       "    .dataframe tbody tr th {\n",
       "        vertical-align: top;\n",
       "    }\n",
       "\n",
       "    .dataframe thead th {\n",
       "        text-align: right;\n",
       "    }\n",
       "</style>\n",
       "<table border=\"1\" class=\"dataframe\">\n",
       "  <thead>\n",
       "    <tr style=\"text-align: right;\">\n",
       "      <th></th>\n",
       "      <th>platform</th>\n",
       "      <th>total_sales</th>\n",
       "      <th>z_score</th>\n",
       "    </tr>\n",
       "  </thead>\n",
       "  <tbody>\n",
       "    <tr>\n",
       "      <th>0</th>\n",
       "      <td>PS2</td>\n",
       "      <td>1255.77</td>\n",
       "      <td>2.780807</td>\n",
       "    </tr>\n",
       "    <tr>\n",
       "      <th>1</th>\n",
       "      <td>X360</td>\n",
       "      <td>971.42</td>\n",
       "      <td>1.964085</td>\n",
       "    </tr>\n",
       "    <tr>\n",
       "      <th>2</th>\n",
       "      <td>PS3</td>\n",
       "      <td>939.65</td>\n",
       "      <td>1.872834</td>\n",
       "    </tr>\n",
       "    <tr>\n",
       "      <th>3</th>\n",
       "      <td>Wii</td>\n",
       "      <td>907.51</td>\n",
       "      <td>1.780520</td>\n",
       "    </tr>\n",
       "    <tr>\n",
       "      <th>4</th>\n",
       "      <td>DS</td>\n",
       "      <td>806.12</td>\n",
       "      <td>1.489304</td>\n",
       "    </tr>\n",
       "  </tbody>\n",
       "</table>\n",
       "</div>"
      ],
      "text/plain": [
       "  platform  total_sales   z_score\n",
       "0      PS2      1255.77  2.780807\n",
       "1     X360       971.42  1.964085\n",
       "2      PS3       939.65  1.872834\n",
       "3      Wii       907.51  1.780520\n",
       "4       DS       806.12  1.489304"
      ]
     },
     "execution_count": 37,
     "metadata": {},
     "output_type": "execute_result"
    }
   ],
   "source": [
    "df_ventas_plataforma.head()"
   ]
  },
  {
   "cell_type": "markdown",
   "metadata": {},
   "source": [
    "Asignamos un color ('red' o 'green') a cada fila del DataFrame dependiendo del signo del puntaje z correspondiente a las ventas totales. Esto puede ser útil para visualizar y clasificar los datos según su relación con la media.\n",
    "Siendo green para los valores mayores a 0 y red para los valores menores que 0"
   ]
  },
  {
   "cell_type": "code",
   "execution_count": 38,
   "metadata": {},
   "outputs": [],
   "source": [
    "\n",
    "df_ventas_plataforma['color'] = ['red' if ventas_z < 0 else 'green'for ventas_z in df_ventas_plataforma['z_score']]"
   ]
  },
  {
   "cell_type": "code",
   "execution_count": 39,
   "metadata": {},
   "outputs": [
    {
     "data": {
      "text/html": [
       "<div>\n",
       "<style scoped>\n",
       "    .dataframe tbody tr th:only-of-type {\n",
       "        vertical-align: middle;\n",
       "    }\n",
       "\n",
       "    .dataframe tbody tr th {\n",
       "        vertical-align: top;\n",
       "    }\n",
       "\n",
       "    .dataframe thead th {\n",
       "        text-align: right;\n",
       "    }\n",
       "</style>\n",
       "<table border=\"1\" class=\"dataframe\">\n",
       "  <thead>\n",
       "    <tr style=\"text-align: right;\">\n",
       "      <th></th>\n",
       "      <th>platform</th>\n",
       "      <th>total_sales</th>\n",
       "      <th>z_score</th>\n",
       "      <th>color</th>\n",
       "    </tr>\n",
       "  </thead>\n",
       "  <tbody>\n",
       "    <tr>\n",
       "      <th>0</th>\n",
       "      <td>PS2</td>\n",
       "      <td>1255.77</td>\n",
       "      <td>2.780807</td>\n",
       "      <td>green</td>\n",
       "    </tr>\n",
       "    <tr>\n",
       "      <th>1</th>\n",
       "      <td>X360</td>\n",
       "      <td>971.42</td>\n",
       "      <td>1.964085</td>\n",
       "      <td>green</td>\n",
       "    </tr>\n",
       "    <tr>\n",
       "      <th>2</th>\n",
       "      <td>PS3</td>\n",
       "      <td>939.65</td>\n",
       "      <td>1.872834</td>\n",
       "      <td>green</td>\n",
       "    </tr>\n",
       "    <tr>\n",
       "      <th>3</th>\n",
       "      <td>Wii</td>\n",
       "      <td>907.51</td>\n",
       "      <td>1.780520</td>\n",
       "      <td>green</td>\n",
       "    </tr>\n",
       "    <tr>\n",
       "      <th>4</th>\n",
       "      <td>DS</td>\n",
       "      <td>806.12</td>\n",
       "      <td>1.489304</td>\n",
       "      <td>green</td>\n",
       "    </tr>\n",
       "  </tbody>\n",
       "</table>\n",
       "</div>"
      ],
      "text/plain": [
       "  platform  total_sales   z_score  color\n",
       "0      PS2      1255.77  2.780807  green\n",
       "1     X360       971.42  1.964085  green\n",
       "2      PS3       939.65  1.872834  green\n",
       "3      Wii       907.51  1.780520  green\n",
       "4       DS       806.12  1.489304  green"
      ]
     },
     "execution_count": 39,
     "metadata": {},
     "output_type": "execute_result"
    }
   ],
   "source": [
    "df_ventas_plataforma.head()"
   ]
  },
  {
   "cell_type": "code",
   "execution_count": 40,
   "metadata": {},
   "outputs": [
    {
     "data": {
      "image/png": "[encoded data removed]",
      "text/plain": [
       "<Figure size 640x480 with 1 Axes>"
      ]
     },
     "metadata": {},
     "output_type": "display_data"
    }
   ],
   "source": [
    "plt.figure()\n",
    "plt.hlines(\n",
    "    y = df_ventas_plataforma.platform, xmin = 0, xmax = df_ventas_plataforma.z_score,color=df_ventas_plataforma.color,linewidth=10,alpha=0.5\n",
    ")\n",
    "plt.ylabel('Platform')\n",
    "plt.xlabel('Z score')\n",
    "plt.title('Rentabilidad por plataforma')\n",
    "plt.show()"
   ]
  },
  {
   "cell_type": "markdown",
   "metadata": {},
   "source": [
    "El gráfico nos muestra la rentabilidad por plataforma, utilizando el puntaje z (z-score) de las ventas totales."
   ]
  },
  {
   "cell_type": "code",
   "execution_count": 41,
   "metadata": {},
   "outputs": [
    {
     "name": "stdout",
     "output_type": "stream",
     "text": [
      "Ventas totales por plataforma:\n",
      "platform\n",
      "PS2     1255.77\n",
      "X360     971.42\n",
      "PS3      939.65\n",
      "Wii      907.51\n",
      "DS       806.12\n",
      "Name: total_sales, dtype: float64\n"
     ]
    }
   ],
   "source": [
    "# Agrupar las ventas totales por plataforma\n",
    "sales_by_platform = data.groupby('platform')['total_sales'].sum().sort_values(ascending=False)\n",
    "\n",
    "# Mostrar las ventas totales por plataforma\n",
    "print(\"Ventas totales por plataforma:\")\n",
    "print(sales_by_platform.head())"
   ]
  },
  {
   "cell_type": "code",
   "execution_count": 42,
   "metadata": {},
   "outputs": [
    {
     "data": {
      "image/png": "[encoded data removed]",
      "text/plain": [
       "<Figure size 1000x600 with 1 Axes>"
      ]
     },
     "metadata": {},
     "output_type": "display_data"
    }
   ],
   "source": [
    "# Crear la gráfica de barras de ventas por plataforma\n",
    "plt.figure(figsize=(10, 6))\n",
    "sales_by_platform.plot(kind='bar', color='lightcoral')\n",
    "plt.title('Ventas Totales por Plataforma')\n",
    "plt.xlabel('Plataforma')\n",
    "plt.ylabel('Ventas Totales (Millones de USD)')\n",
    "plt.xticks(rotation=45)\n",
    "plt.show()"
   ]
  },
  {
   "cell_type": "markdown",
   "metadata": {},
   "source": [
    "### Plataformas de juegos con las mayores ventas por años:"
   ]
  },
  {
   "cell_type": "code",
   "execution_count": 43,
   "metadata": {},
   "outputs": [],
   "source": [
    "# Filtrar los datos para eliminar los años de lanzamiento que son 0 o NaN\n",
    "data_filtered = data[(data['year_of_release'] != 0) & (data['year_of_release'].notna())]"
   ]
  },
  {
   "cell_type": "code",
   "execution_count": 44,
   "metadata": {},
   "outputs": [
    {
     "data": {
      "text/html": [
       "<div>\n",
       "<style scoped>\n",
       "    .dataframe tbody tr th:only-of-type {\n",
       "        vertical-align: middle;\n",
       "    }\n",
       "\n",
       "    .dataframe tbody tr th {\n",
       "        vertical-align: top;\n",
       "    }\n",
       "\n",
       "    .dataframe thead th {\n",
       "        text-align: right;\n",
       "    }\n",
       "</style>\n",
       "<table border=\"1\" class=\"dataframe\">\n",
       "  <thead>\n",
       "    <tr style=\"text-align: right;\">\n",
       "      <th></th>\n",
       "      <th>platform</th>\n",
       "      <th>total_sales</th>\n",
       "    </tr>\n",
       "  </thead>\n",
       "  <tbody>\n",
       "    <tr>\n",
       "      <th>0</th>\n",
       "      <td>PS2</td>\n",
       "      <td>1233.56</td>\n",
       "    </tr>\n",
       "    <tr>\n",
       "      <th>1</th>\n",
       "      <td>X360</td>\n",
       "      <td>961.24</td>\n",
       "    </tr>\n",
       "    <tr>\n",
       "      <th>2</th>\n",
       "      <td>PS3</td>\n",
       "      <td>931.34</td>\n",
       "    </tr>\n",
       "    <tr>\n",
       "      <th>3</th>\n",
       "      <td>Wii</td>\n",
       "      <td>891.18</td>\n",
       "    </tr>\n",
       "    <tr>\n",
       "      <th>4</th>\n",
       "      <td>DS</td>\n",
       "      <td>802.78</td>\n",
       "    </tr>\n",
       "  </tbody>\n",
       "</table>\n",
       "</div>"
      ],
      "text/plain": [
       "  platform  total_sales\n",
       "0      PS2      1233.56\n",
       "1     X360       961.24\n",
       "2      PS3       931.34\n",
       "3      Wii       891.18\n",
       "4       DS       802.78"
      ]
     },
     "execution_count": 44,
     "metadata": {},
     "output_type": "execute_result"
    }
   ],
   "source": [
    "# Calcular las ventas totales por plataforma\n",
    "sales_platform = data_filtered.groupby('platform')['total_sales'].sum().sort_values(ascending=False).reset_index()\n",
    "# Seleccionar las plataformas con mayores ventas totales (top 5 por ejemplo)\n",
    "top_platforms = sales_platform.head()\n",
    "top_platforms"
   ]
  },
  {
   "cell_type": "code",
   "execution_count": 45,
   "metadata": {},
   "outputs": [
    {
     "data": {
      "text/plain": [
       "array(['Wii', 'DS', 'X360', 'PS3', 'PS2'], dtype=object)"
      ]
     },
     "execution_count": 45,
     "metadata": {},
     "output_type": "execute_result"
    }
   ],
   "source": [
    "# Filtrar el dataset para incluir solo estas plataformas\n",
    "filtered_data = data_filtered[data_filtered['platform'].isin(top_platforms['platform'])]\n",
    "filtered_data['platform'].unique()"
   ]
  },
  {
   "cell_type": "code",
   "execution_count": 46,
   "metadata": {},
   "outputs": [
    {
     "data": {
      "text/html": [
       "<div>\n",
       "<style scoped>\n",
       "    .dataframe tbody tr th:only-of-type {\n",
       "        vertical-align: middle;\n",
       "    }\n",
       "\n",
       "    .dataframe tbody tr th {\n",
       "        vertical-align: top;\n",
       "    }\n",
       "\n",
       "    .dataframe thead th {\n",
       "        text-align: right;\n",
       "    }\n",
       "</style>\n",
       "<table border=\"1\" class=\"dataframe\">\n",
       "  <thead>\n",
       "    <tr style=\"text-align: right;\">\n",
       "      <th>platform</th>\n",
       "      <th>DS</th>\n",
       "      <th>PS2</th>\n",
       "      <th>PS3</th>\n",
       "      <th>Wii</th>\n",
       "      <th>X360</th>\n",
       "    </tr>\n",
       "    <tr>\n",
       "      <th>year_of_release</th>\n",
       "      <th></th>\n",
       "      <th></th>\n",
       "      <th></th>\n",
       "      <th></th>\n",
       "      <th></th>\n",
       "    </tr>\n",
       "  </thead>\n",
       "  <tbody>\n",
       "    <tr>\n",
       "      <th>1985</th>\n",
       "      <td>0.02</td>\n",
       "      <td>NaN</td>\n",
       "      <td>NaN</td>\n",
       "      <td>NaN</td>\n",
       "      <td>NaN</td>\n",
       "    </tr>\n",
       "    <tr>\n",
       "      <th>2000</th>\n",
       "      <td>NaN</td>\n",
       "      <td>39.17</td>\n",
       "      <td>NaN</td>\n",
       "      <td>NaN</td>\n",
       "      <td>NaN</td>\n",
       "    </tr>\n",
       "    <tr>\n",
       "      <th>2001</th>\n",
       "      <td>NaN</td>\n",
       "      <td>166.43</td>\n",
       "      <td>NaN</td>\n",
       "      <td>NaN</td>\n",
       "      <td>NaN</td>\n",
       "    </tr>\n",
       "    <tr>\n",
       "      <th>2002</th>\n",
       "      <td>NaN</td>\n",
       "      <td>205.38</td>\n",
       "      <td>NaN</td>\n",
       "      <td>NaN</td>\n",
       "      <td>NaN</td>\n",
       "    </tr>\n",
       "    <tr>\n",
       "      <th>2003</th>\n",
       "      <td>NaN</td>\n",
       "      <td>184.31</td>\n",
       "      <td>NaN</td>\n",
       "      <td>NaN</td>\n",
       "      <td>NaN</td>\n",
       "    </tr>\n",
       "    <tr>\n",
       "      <th>2004</th>\n",
       "      <td>17.27</td>\n",
       "      <td>211.81</td>\n",
       "      <td>NaN</td>\n",
       "      <td>NaN</td>\n",
       "      <td>NaN</td>\n",
       "    </tr>\n",
       "    <tr>\n",
       "      <th>2005</th>\n",
       "      <td>130.14</td>\n",
       "      <td>160.66</td>\n",
       "      <td>NaN</td>\n",
       "      <td>NaN</td>\n",
       "      <td>8.25</td>\n",
       "    </tr>\n",
       "    <tr>\n",
       "      <th>2006</th>\n",
       "      <td>119.81</td>\n",
       "      <td>103.42</td>\n",
       "      <td>20.96</td>\n",
       "      <td>137.15</td>\n",
       "      <td>51.62</td>\n",
       "    </tr>\n",
       "    <tr>\n",
       "      <th>2007</th>\n",
       "      <td>146.94</td>\n",
       "      <td>75.99</td>\n",
       "      <td>73.19</td>\n",
       "      <td>152.77</td>\n",
       "      <td>95.41</td>\n",
       "    </tr>\n",
       "    <tr>\n",
       "      <th>2008</th>\n",
       "      <td>145.31</td>\n",
       "      <td>53.90</td>\n",
       "      <td>118.52</td>\n",
       "      <td>171.32</td>\n",
       "      <td>135.26</td>\n",
       "    </tr>\n",
       "    <tr>\n",
       "      <th>2009</th>\n",
       "      <td>119.54</td>\n",
       "      <td>26.40</td>\n",
       "      <td>130.93</td>\n",
       "      <td>206.97</td>\n",
       "      <td>120.29</td>\n",
       "    </tr>\n",
       "    <tr>\n",
       "      <th>2010</th>\n",
       "      <td>85.02</td>\n",
       "      <td>5.64</td>\n",
       "      <td>142.17</td>\n",
       "      <td>127.95</td>\n",
       "      <td>170.03</td>\n",
       "    </tr>\n",
       "    <tr>\n",
       "      <th>2011</th>\n",
       "      <td>26.18</td>\n",
       "      <td>0.45</td>\n",
       "      <td>156.78</td>\n",
       "      <td>59.65</td>\n",
       "      <td>143.84</td>\n",
       "    </tr>\n",
       "    <tr>\n",
       "      <th>2012</th>\n",
       "      <td>11.01</td>\n",
       "      <td>NaN</td>\n",
       "      <td>107.36</td>\n",
       "      <td>21.71</td>\n",
       "      <td>99.74</td>\n",
       "    </tr>\n",
       "    <tr>\n",
       "      <th>2013</th>\n",
       "      <td>1.54</td>\n",
       "      <td>NaN</td>\n",
       "      <td>113.25</td>\n",
       "      <td>8.59</td>\n",
       "      <td>88.58</td>\n",
       "    </tr>\n",
       "    <tr>\n",
       "      <th>2014</th>\n",
       "      <td>NaN</td>\n",
       "      <td>NaN</td>\n",
       "      <td>47.76</td>\n",
       "      <td>3.75</td>\n",
       "      <td>34.74</td>\n",
       "    </tr>\n",
       "    <tr>\n",
       "      <th>2015</th>\n",
       "      <td>NaN</td>\n",
       "      <td>NaN</td>\n",
       "      <td>16.82</td>\n",
       "      <td>1.14</td>\n",
       "      <td>11.96</td>\n",
       "    </tr>\n",
       "    <tr>\n",
       "      <th>2016</th>\n",
       "      <td>NaN</td>\n",
       "      <td>NaN</td>\n",
       "      <td>3.60</td>\n",
       "      <td>0.18</td>\n",
       "      <td>1.52</td>\n",
       "    </tr>\n",
       "  </tbody>\n",
       "</table>\n",
       "</div>"
      ],
      "text/plain": [
       "platform             DS     PS2     PS3     Wii    X360\n",
       "year_of_release                                        \n",
       "1985               0.02     NaN     NaN     NaN     NaN\n",
       "2000                NaN   39.17     NaN     NaN     NaN\n",
       "2001                NaN  166.43     NaN     NaN     NaN\n",
       "2002                NaN  205.38     NaN     NaN     NaN\n",
       "2003                NaN  184.31     NaN     NaN     NaN\n",
       "2004              17.27  211.81     NaN     NaN     NaN\n",
       "2005             130.14  160.66     NaN     NaN    8.25\n",
       "2006             119.81  103.42   20.96  137.15   51.62\n",
       "2007             146.94   75.99   73.19  152.77   95.41\n",
       "2008             145.31   53.90  118.52  171.32  135.26\n",
       "2009             119.54   26.40  130.93  206.97  120.29\n",
       "2010              85.02    5.64  142.17  127.95  170.03\n",
       "2011              26.18    0.45  156.78   59.65  143.84\n",
       "2012              11.01     NaN  107.36   21.71   99.74\n",
       "2013               1.54     NaN  113.25    8.59   88.58\n",
       "2014                NaN     NaN   47.76    3.75   34.74\n",
       "2015                NaN     NaN   16.82    1.14   11.96\n",
       "2016                NaN     NaN    3.60    0.18    1.52"
      ]
     },
     "execution_count": 46,
     "metadata": {},
     "output_type": "execute_result"
    }
   ],
   "source": [
    "# Agrupar por año de lanzamiento y plataforma, y sumar las ventas totales\n",
    "sales_per_year_platform = filtered_data.groupby(['year_of_release', 'platform'])['total_sales'].sum().unstack()\n",
    "sales_per_year_platform"
   ]
  },
  {
   "cell_type": "code",
   "execution_count": 47,
   "metadata": {},
   "outputs": [
    {
     "data": {
      "text/plain": [
       "<Figure size 1200x1000 with 0 Axes>"
      ]
     },
     "metadata": {},
     "output_type": "display_data"
    },
    {
     "data": {
      "image/png": "[encoded data removed]",
      "text/plain": [
       "<Figure size 640x480 with 1 Axes>"
      ]
     },
     "metadata": {},
     "output_type": "display_data"
    }
   ],
   "source": [
    "plt.figure(figsize=(12, 10))\n",
    "sales_per_year_platform.plot(kind='line', marker='o')\n",
    "plt.title('Distribución de Ventas por Plataforma y Año')\n",
    "plt.xlabel('Año de Lanzamiento')\n",
    "plt.ylabel('Ventas Totales (Millones de USD)')\n",
    "plt.grid(True)\n",
    "plt.show()"
   ]
  },
  {
   "cell_type": "markdown",
   "metadata": {},
   "source": [
    "* Observación de Tendencias por Plataforma:\n",
    "\n",
    "* La gráfica resultante mostrará cómo las ventas de las plataformas seleccionadas han variado a lo largo de los años.\n",
    "* Esto ayudará a identificar plataformas que han mantenido ventas altas de manera constante, plataformas que han disminuido en popularidad, y aquellas que han experimentado un crecimiento.\n",
    "\n",
    "**Conclusión **  \n",
    "**Construir una distribución de ventas por plataforma y año proporciona una visión clara de cómo se ha comportado cada plataforma en términos de ventas. Esto es crucial para identificar las plataformas que actualmente dominan el mercado y aquellas que podrían estar en declive, ayudando a planificar mejor las estrategias para el año 2017.**"
   ]
  },
  {
   "cell_type": "code",
   "execution_count": 48,
   "metadata": {},
   "outputs": [
    {
     "data": {
      "text/plain": [
       "<Figure size 1200x1000 with 0 Axes>"
      ]
     },
     "metadata": {},
     "output_type": "display_data"
    },
    {
     "data": {
      "image/png": "[encoded data removed]",
      "text/plain": [
       "<Figure size 640x480 with 1 Axes>"
      ]
     },
     "metadata": {},
     "output_type": "display_data"
    }
   ],
   "source": [
    "plt.figure(figsize=(12, 10))\n",
    "sales_per_year_platform.plot(kind='bar')\n",
    "plt.title('Distribución de Ventas por Plataforma y Año')\n",
    "plt.xlabel('Año de Lanzamiento')\n",
    "plt.ylabel('Ventas Totales (Millones de USD)')\n",
    "plt.show()"
   ]
  },
  {
   "cell_type": "markdown",
   "metadata": {},
   "source": [
    "### Tiempo de vida de los juegos:"
   ]
  },
  {
   "cell_type": "markdown",
   "metadata": {},
   "source": [
    "#### Juegos que solían ser populares"
   ]
  },
  {
   "cell_type": "code",
   "execution_count": 49,
   "metadata": {},
   "outputs": [
    {
     "data": {
      "text/html": [
       "<div>\n",
       "<style scoped>\n",
       "    .dataframe tbody tr th:only-of-type {\n",
       "        vertical-align: middle;\n",
       "    }\n",
       "\n",
       "    .dataframe tbody tr th {\n",
       "        vertical-align: top;\n",
       "    }\n",
       "\n",
       "    .dataframe thead th {\n",
       "        text-align: right;\n",
       "    }\n",
       "</style>\n",
       "<table border=\"1\" class=\"dataframe\">\n",
       "  <thead>\n",
       "    <tr style=\"text-align: right;\">\n",
       "      <th></th>\n",
       "      <th>year_of_release</th>\n",
       "      <th>platform</th>\n",
       "      <th>total_sales</th>\n",
       "    </tr>\n",
       "  </thead>\n",
       "  <tbody>\n",
       "    <tr>\n",
       "      <th>0</th>\n",
       "      <td>1980</td>\n",
       "      <td>2600</td>\n",
       "      <td>11.38</td>\n",
       "    </tr>\n",
       "    <tr>\n",
       "      <th>1</th>\n",
       "      <td>1981</td>\n",
       "      <td>2600</td>\n",
       "      <td>35.68</td>\n",
       "    </tr>\n",
       "    <tr>\n",
       "      <th>2</th>\n",
       "      <td>1982</td>\n",
       "      <td>2600</td>\n",
       "      <td>28.88</td>\n",
       "    </tr>\n",
       "    <tr>\n",
       "      <th>3</th>\n",
       "      <td>1983</td>\n",
       "      <td>2600</td>\n",
       "      <td>5.84</td>\n",
       "    </tr>\n",
       "    <tr>\n",
       "      <th>4</th>\n",
       "      <td>1983</td>\n",
       "      <td>NES</td>\n",
       "      <td>10.96</td>\n",
       "    </tr>\n",
       "  </tbody>\n",
       "</table>\n",
       "</div>"
      ],
      "text/plain": [
       "   year_of_release platform  total_sales\n",
       "0             1980     2600        11.38\n",
       "1             1981     2600        35.68\n",
       "2             1982     2600        28.88\n",
       "3             1983     2600         5.84\n",
       "4             1983      NES        10.96"
      ]
     },
     "execution_count": 49,
     "metadata": {},
     "output_type": "execute_result"
    }
   ],
   "source": [
    "# Agrupar por plataforma y año, sumando las ventas totales\n",
    "sales_per_year_platform = data_filtered.groupby(['year_of_release', 'platform'])['total_sales'].sum().reset_index()\n",
    "sales_per_year_platform.head()"
   ]
  },
  {
   "cell_type": "code",
   "execution_count": 50,
   "metadata": {},
   "outputs": [
    {
     "data": {
      "text/plain": [
       "array(['2600', 'NES', 'DS', 'PC', 'GB', 'GEN', 'SNES', 'GG', 'NG', 'SCD',\n",
       "       '3DO', 'PS', 'SAT', 'TG16', 'N64', 'PCFX', 'DC', 'WS', 'GBA',\n",
       "       'PS2', 'XB', 'GC', 'PSP', 'X360', 'PS3', 'Wii', '3DS', 'PSV',\n",
       "       'WiiU', 'PS4', 'XOne'], dtype=object)"
      ]
     },
     "execution_count": 50,
     "metadata": {},
     "output_type": "execute_result"
    }
   ],
   "source": [
    "# Encontrar las plataformas que alguna vez tuvieron ventas y luego dejaron de vender\n",
    "platforms_with_sales = sales_per_year_platform[sales_per_year_platform['total_sales'] > 0]['platform'].unique()\n",
    "platforms_with_sales"
   ]
  },
  {
   "cell_type": "code",
   "execution_count": 51,
   "metadata": {},
   "outputs": [
    {
     "data": {
      "text/html": [
       "<div>\n",
       "<style scoped>\n",
       "    .dataframe tbody tr th:only-of-type {\n",
       "        vertical-align: middle;\n",
       "    }\n",
       "\n",
       "    .dataframe tbody tr th {\n",
       "        vertical-align: top;\n",
       "    }\n",
       "\n",
       "    .dataframe thead th {\n",
       "        text-align: right;\n",
       "    }\n",
       "</style>\n",
       "<table border=\"1\" class=\"dataframe\">\n",
       "  <thead>\n",
       "    <tr style=\"text-align: right;\">\n",
       "      <th></th>\n",
       "      <th>year_of_release</th>\n",
       "      <th>platform</th>\n",
       "      <th>total_sales</th>\n",
       "    </tr>\n",
       "  </thead>\n",
       "  <tbody>\n",
       "    <tr>\n",
       "      <th>209</th>\n",
       "      <td>2014</td>\n",
       "      <td>3DS</td>\n",
       "      <td>43.76</td>\n",
       "    </tr>\n",
       "    <tr>\n",
       "      <th>210</th>\n",
       "      <td>2014</td>\n",
       "      <td>PC</td>\n",
       "      <td>13.28</td>\n",
       "    </tr>\n",
       "    <tr>\n",
       "      <th>211</th>\n",
       "      <td>2014</td>\n",
       "      <td>PS3</td>\n",
       "      <td>47.76</td>\n",
       "    </tr>\n",
       "    <tr>\n",
       "      <th>212</th>\n",
       "      <td>2014</td>\n",
       "      <td>PS4</td>\n",
       "      <td>100.00</td>\n",
       "    </tr>\n",
       "    <tr>\n",
       "      <th>213</th>\n",
       "      <td>2014</td>\n",
       "      <td>PSP</td>\n",
       "      <td>0.24</td>\n",
       "    </tr>\n",
       "  </tbody>\n",
       "</table>\n",
       "</div>"
      ],
      "text/plain": [
       "     year_of_release platform  total_sales\n",
       "209             2014      3DS        43.76\n",
       "210             2014       PC        13.28\n",
       "211             2014      PS3        47.76\n",
       "212             2014      PS4       100.00\n",
       "213             2014      PSP         0.24"
      ]
     },
     "execution_count": 51,
     "metadata": {},
     "output_type": "execute_result"
    }
   ],
   "source": [
    "# Verificar las plataformas que ya no tienen ventas en los años más recientes (por ejemplo, después de 2014)\n",
    "recent_years = sales_per_year_platform[sales_per_year_platform['year_of_release'] >= 2014]\n",
    "recent_years.head()"
   ]
  },
  {
   "cell_type": "code",
   "execution_count": 52,
   "metadata": {},
   "outputs": [
    {
     "name": "stdout",
     "output_type": "stream",
     "text": [
      "Plataformas que solían ser populares pero ahora no tienen ventas: ['2600', 'NES', 'DS', 'GB', 'GEN', 'SNES', 'GG', 'NG', 'SCD', '3DO', 'PS', 'SAT', 'TG16', 'N64', 'PCFX', 'DC', 'WS', 'GBA', 'PS2', 'XB', 'GC']\n"
     ]
    }
   ],
   "source": [
    "# Filtrar plataformas que ya no tienen ventas\n",
    "platforms_no_sales_recently = [platform for platform in platforms_with_sales if recent_years[recent_years['platform'] == platform]['total_sales'].sum() == 0]\n",
    "# Mostrar las plataformas que solían ser populares pero ya no tienen ventas\n",
    "print(\"Plataformas que solían ser populares pero ahora no tienen ventas:\", platforms_no_sales_recently)"
   ]
  },
  {
   "cell_type": "markdown",
   "metadata": {},
   "source": [
    "Agrupación de Ventas por Año y Plataforma:\n",
    "\n",
    "Calculamos las ventas totales por cada plataforma en cada año (sales_per_year_platform).\n",
    "Identificación de Plataformas Populares:\n",
    "Utilizamos el filtro platforms_with_sales para encontrar todas las plataformas que tuvieron ventas en algún momento.\n",
    "Verificación de Plataformas sin Ventas Recientes:\n",
    "Comprobamos qué plataformas no tienen ventas en los años más recientes (recent_years).  \n",
    "\n",
    "Plataformas que solían ser populares:\n",
    "Las plataformas que aparecen en platforms_no_sales_recently son aquellas que tuvieron ventas significativas en algún momento en el pasado, pero no han registrado ventas en los años más recientes (por ejemplo, después de 2014).\n",
    "\n",
    "Estas plataformas pueden haber sido descontinuadas o reemplazadas por modelos más nuevos.\n",
    "Cambios en las preferencias del mercado o la tecnología también pueden haber hecho que estas plataformas ya no sean relevantes.  \n",
    "\n",
    "**Conclusión**  \n",
    "\n",
    "**Al identificar las plataformas que alguna vez fueron populares pero que ahora no tienen ventas, podemos entender mejor las dinámicas del mercado de videojuegos y cómo las preferencias de los consumidores cambian con el tiempo. Esta información es útil para planificar campañas publicitarias y seleccionar plataformas para lanzar nuevos juegos.**"
   ]
  },
  {
   "cell_type": "markdown",
   "metadata": {},
   "source": [
    "**Identificar la Aparición de Nuevas Plataformas**\n",
    "* Primero, calcularemos cuándo aparecen nuevas plataformas en el dataset, observando el primer año en que se registran ventas para cada plataforma.\n",
    "* Para ello usaremos la información de los últimos 4 años a partir del 2013 en adelante."
   ]
  },
  {
   "cell_type": "code",
   "execution_count": 53,
   "metadata": {},
   "outputs": [],
   "source": [
    "# Usaremos un filtro en el dataset para solo considerar información a partir del año 2013\n",
    "data_clean = data.query('year_of_release >=2013')"
   ]
  },
  {
   "cell_type": "code",
   "execution_count": 54,
   "metadata": {},
   "outputs": [
    {
     "name": "stdout",
     "output_type": "stream",
     "text": [
      "Aparición de nuevas plataformas:\n",
      "   platform  first_year\n",
      "0       3DS        2013\n",
      "1        DS        2013\n",
      "2        PC        2013\n",
      "3       PS3        2013\n",
      "4       PS4        2013\n",
      "5       PSP        2013\n",
      "6       PSV        2013\n",
      "7       Wii        2013\n",
      "8      WiiU        2013\n",
      "9      X360        2013\n",
      "10     XOne        2013\n"
     ]
    }
   ],
   "source": [
    "# Encontrar el primer año de ventas para cada plataforma\n",
    "first_year_sales = data_clean.groupby('platform')['year_of_release'].min().reset_index()\n",
    "first_year_sales.columns = ['platform', 'first_year']\n",
    "print(\"Aparición de nuevas plataformas:\")\n",
    "print(first_year_sales.sort_values(by='first_year'))"
   ]
  },
  {
   "cell_type": "markdown",
   "metadata": {},
   "source": [
    "**Determinar la Desaparición de Plataformas Antiguas**\n",
    "* Para determinar cuánto tiempo permanecen activas las plataformas antes de desaparecer, calcularemos el último año en el que se registraron ventas para cada plataforma. Luego, podemos calcular la duración de la vida útil de cada plataforma comparando el primer y el último año de ventas."
   ]
  },
  {
   "cell_type": "code",
   "execution_count": 55,
   "metadata": {},
   "outputs": [],
   "source": [
    "# Encontrar el último año de ventas para cada plataforma\n",
    "last_year_sales = data_clean.groupby('platform')['year_of_release'].max().reset_index()\n",
    "last_year_sales.columns = ['platform', 'last_year']"
   ]
  },
  {
   "cell_type": "code",
   "execution_count": 56,
   "metadata": {},
   "outputs": [
    {
     "data": {
      "text/html": [
       "<div>\n",
       "<style scoped>\n",
       "    .dataframe tbody tr th:only-of-type {\n",
       "        vertical-align: middle;\n",
       "    }\n",
       "\n",
       "    .dataframe tbody tr th {\n",
       "        vertical-align: top;\n",
       "    }\n",
       "\n",
       "    .dataframe thead th {\n",
       "        text-align: right;\n",
       "    }\n",
       "</style>\n",
       "<table border=\"1\" class=\"dataframe\">\n",
       "  <thead>\n",
       "    <tr style=\"text-align: right;\">\n",
       "      <th></th>\n",
       "      <th>platform</th>\n",
       "      <th>first_year</th>\n",
       "      <th>last_year</th>\n",
       "    </tr>\n",
       "  </thead>\n",
       "  <tbody>\n",
       "    <tr>\n",
       "      <th>0</th>\n",
       "      <td>3DS</td>\n",
       "      <td>2013</td>\n",
       "      <td>2016</td>\n",
       "    </tr>\n",
       "    <tr>\n",
       "      <th>1</th>\n",
       "      <td>DS</td>\n",
       "      <td>2013</td>\n",
       "      <td>2013</td>\n",
       "    </tr>\n",
       "    <tr>\n",
       "      <th>2</th>\n",
       "      <td>PC</td>\n",
       "      <td>2013</td>\n",
       "      <td>2016</td>\n",
       "    </tr>\n",
       "    <tr>\n",
       "      <th>3</th>\n",
       "      <td>PS3</td>\n",
       "      <td>2013</td>\n",
       "      <td>2016</td>\n",
       "    </tr>\n",
       "    <tr>\n",
       "      <th>4</th>\n",
       "      <td>PS4</td>\n",
       "      <td>2013</td>\n",
       "      <td>2016</td>\n",
       "    </tr>\n",
       "  </tbody>\n",
       "</table>\n",
       "</div>"
      ],
      "text/plain": [
       "  platform  first_year  last_year\n",
       "0      3DS        2013       2016\n",
       "1       DS        2013       2013\n",
       "2       PC        2013       2016\n",
       "3      PS3        2013       2016\n",
       "4      PS4        2013       2016"
      ]
     },
     "execution_count": 56,
     "metadata": {},
     "output_type": "execute_result"
    }
   ],
   "source": [
    "# Combinar los datos de aparición y desaparición\n",
    "platform_lifetime = pd.merge(first_year_sales, last_year_sales, on='platform')\n",
    "platform_lifetime.head()"
   ]
  },
  {
   "cell_type": "code",
   "execution_count": 57,
   "metadata": {},
   "outputs": [
    {
     "name": "stdout",
     "output_type": "stream",
     "text": [
      "Duración de la vida útil de las plataformas:\n",
      "   platform  first_year  last_year  lifetime_years\n",
      "0       3DS        2013       2016               3\n",
      "2        PC        2013       2016               3\n",
      "3       PS3        2013       2016               3\n",
      "4       PS4        2013       2016               3\n",
      "6       PSV        2013       2016               3\n",
      "7       Wii        2013       2016               3\n",
      "8      WiiU        2013       2016               3\n",
      "9      X360        2013       2016               3\n",
      "10     XOne        2013       2016               3\n",
      "5       PSP        2013       2015               2\n",
      "1        DS        2013       2013               0\n"
     ]
    }
   ],
   "source": [
    "# Calcular la duración de la vida útil de cada plataforma\n",
    "platform_lifetime['lifetime_years'] = platform_lifetime['last_year'] - platform_lifetime['first_year']\n",
    "\n",
    "print(\"Duración de la vida útil de las plataformas:\")\n",
    "print(platform_lifetime.sort_values(by='lifetime_years', ascending=False))"
   ]
  },
  {
   "cell_type": "code",
   "execution_count": 58,
   "metadata": {},
   "outputs": [],
   "source": [
    "data_clean = data.query('year_of_release >=2013')"
   ]
  },
  {
   "cell_type": "code",
   "execution_count": 59,
   "metadata": {},
   "outputs": [
    {
     "data": {
      "text/html": [
       "<div>\n",
       "<style scoped>\n",
       "    .dataframe tbody tr th:only-of-type {\n",
       "        vertical-align: middle;\n",
       "    }\n",
       "\n",
       "    .dataframe tbody tr th {\n",
       "        vertical-align: top;\n",
       "    }\n",
       "\n",
       "    .dataframe thead th {\n",
       "        text-align: right;\n",
       "    }\n",
       "</style>\n",
       "<table border=\"1\" class=\"dataframe\">\n",
       "  <thead>\n",
       "    <tr style=\"text-align: right;\">\n",
       "      <th>platform</th>\n",
       "      <th>3DS</th>\n",
       "      <th>DS</th>\n",
       "      <th>PC</th>\n",
       "      <th>PS3</th>\n",
       "      <th>PS4</th>\n",
       "      <th>PSP</th>\n",
       "      <th>PSV</th>\n",
       "      <th>Wii</th>\n",
       "      <th>WiiU</th>\n",
       "      <th>X360</th>\n",
       "      <th>XOne</th>\n",
       "    </tr>\n",
       "    <tr>\n",
       "      <th>year_of_release</th>\n",
       "      <th></th>\n",
       "      <th></th>\n",
       "      <th></th>\n",
       "      <th></th>\n",
       "      <th></th>\n",
       "      <th></th>\n",
       "      <th></th>\n",
       "      <th></th>\n",
       "      <th></th>\n",
       "      <th></th>\n",
       "      <th></th>\n",
       "    </tr>\n",
       "  </thead>\n",
       "  <tbody>\n",
       "    <tr>\n",
       "      <th>2013</th>\n",
       "      <td>56.57</td>\n",
       "      <td>1.54</td>\n",
       "      <td>12.38</td>\n",
       "      <td>113.25</td>\n",
       "      <td>25.99</td>\n",
       "      <td>3.14</td>\n",
       "      <td>10.59</td>\n",
       "      <td>8.59</td>\n",
       "      <td>21.65</td>\n",
       "      <td>88.58</td>\n",
       "      <td>18.96</td>\n",
       "    </tr>\n",
       "    <tr>\n",
       "      <th>2014</th>\n",
       "      <td>43.76</td>\n",
       "      <td>0.00</td>\n",
       "      <td>13.28</td>\n",
       "      <td>47.76</td>\n",
       "      <td>100.00</td>\n",
       "      <td>0.24</td>\n",
       "      <td>11.90</td>\n",
       "      <td>3.75</td>\n",
       "      <td>22.03</td>\n",
       "      <td>34.74</td>\n",
       "      <td>54.07</td>\n",
       "    </tr>\n",
       "    <tr>\n",
       "      <th>2015</th>\n",
       "      <td>27.78</td>\n",
       "      <td>0.00</td>\n",
       "      <td>8.52</td>\n",
       "      <td>16.82</td>\n",
       "      <td>118.90</td>\n",
       "      <td>0.12</td>\n",
       "      <td>6.25</td>\n",
       "      <td>1.14</td>\n",
       "      <td>16.35</td>\n",
       "      <td>11.96</td>\n",
       "      <td>60.14</td>\n",
       "    </tr>\n",
       "    <tr>\n",
       "      <th>2016</th>\n",
       "      <td>15.14</td>\n",
       "      <td>0.00</td>\n",
       "      <td>5.25</td>\n",
       "      <td>3.60</td>\n",
       "      <td>69.25</td>\n",
       "      <td>0.00</td>\n",
       "      <td>4.25</td>\n",
       "      <td>0.18</td>\n",
       "      <td>4.60</td>\n",
       "      <td>1.52</td>\n",
       "      <td>26.15</td>\n",
       "    </tr>\n",
       "  </tbody>\n",
       "</table>\n",
       "</div>"
      ],
      "text/plain": [
       "platform           3DS    DS     PC     PS3     PS4   PSP    PSV   Wii   WiiU  \\\n",
       "year_of_release                                                                 \n",
       "2013             56.57  1.54  12.38  113.25   25.99  3.14  10.59  8.59  21.65   \n",
       "2014             43.76  0.00  13.28   47.76  100.00  0.24  11.90  3.75  22.03   \n",
       "2015             27.78  0.00   8.52   16.82  118.90  0.12   6.25  1.14  16.35   \n",
       "2016             15.14  0.00   5.25    3.60   69.25  0.00   4.25  0.18   4.60   \n",
       "\n",
       "platform          X360   XOne  \n",
       "year_of_release                \n",
       "2013             88.58  18.96  \n",
       "2014             34.74  54.07  \n",
       "2015             11.96  60.14  \n",
       "2016              1.52  26.15  "
      ]
     },
     "execution_count": 59,
     "metadata": {},
     "output_type": "execute_result"
    }
   ],
   "source": [
    "df_tiempo_de_vida = pd.pivot_table(data_clean, index='year_of_release',columns='platform', values='total_sales',aggfunc='sum').fillna(0)\n",
    "df_tiempo_de_vida"
   ]
  },
  {
   "cell_type": "markdown",
   "metadata": {},
   "source": [
    "**Duración de la Vida Útil de las Plataformas:** \n",
    "La columna lifetime_years de platform_lifetime muestra cuántos años estuvieron activas las plataformas desde su primer registro de ventas hasta el último. Esto puede darnos una idea del tiempo que le toma a una plataforma \"desaparecer\" o volverse irrelevante en el mercado.  \n",
    "\n",
    "*Las nuevas plataformas suelen aparecer en intervalos de 3 a 5 años, dependiendo de la competencia en el mercado y los avances tecnológicos. Los lanzamientos suelen agruparse en periodos de innovación tecnológica, como la llegada de nuevas generaciones de consolas.*  \n",
    "\n",
    "Las plataformas suelen mantenerse activas entre 5 y 10 años. Este período puede variar dependiendo del éxito de la plataforma, el soporte del fabricante, y la aparición de nuevas tecnologías.\n",
    "Las plataformas que se vuelven populares rápidamente pueden tener una vida útil más larga, mientras que aquellas que no logran ganar una base de usuarios significativa pueden desaparecer rápidamente."
   ]
  },
  {
   "cell_type": "markdown",
   "metadata": {},
   "source": [
    "###  Identificar las Plataformas Líderes en Ventas desde 2013"
   ]
  },
  {
   "cell_type": "code",
   "execution_count": 60,
   "metadata": {},
   "outputs": [
    {
     "name": "stdout",
     "output_type": "stream",
     "text": [
      "Plataformas líderes en ventas desde 2013 en adelante:\n",
      "platform\n",
      "PS4     314.14\n",
      "PS3     181.43\n",
      "XOne    159.32\n",
      "3DS     143.25\n",
      "X360    136.80\n",
      "WiiU     64.63\n",
      "PC       39.43\n",
      "PSV      32.99\n",
      "Wii      13.66\n",
      "PSP       3.50\n",
      "DS        1.54\n",
      "Name: total_sales, dtype: float64\n"
     ]
    }
   ],
   "source": [
    "# Calcular las ventas totales por plataforma desde 2013 en adelante\n",
    "platform_sales_recent = data_clean.groupby('platform')['total_sales'].sum().sort_values(ascending=False)\n",
    "\n",
    "# Mostrar las plataformas líderes en ventas\n",
    "print(\"Plataformas líderes en ventas desde 2013 en adelante:\")\n",
    "print(platform_sales_recent)"
   ]
  },
  {
   "cell_type": "markdown",
   "metadata": {},
   "source": [
    "### Calcular el Crecimiento o Reducción de Ventas por Plataforma"
   ]
  },
  {
   "cell_type": "code",
   "execution_count": 61,
   "metadata": {
    "scrolled": true
   },
   "outputs": [],
   "source": [
    "df_tiempo_de_vida= pd.pivot_table(data_clean,index='year_of_release',columns='platform',values='total_sales',aggfunc ='sum').fillna(0)"
   ]
  },
  {
   "cell_type": "code",
   "execution_count": 62,
   "metadata": {},
   "outputs": [
    {
     "data": {
      "text/html": [
       "<div>\n",
       "<style scoped>\n",
       "    .dataframe tbody tr th:only-of-type {\n",
       "        vertical-align: middle;\n",
       "    }\n",
       "\n",
       "    .dataframe tbody tr th {\n",
       "        vertical-align: top;\n",
       "    }\n",
       "\n",
       "    .dataframe thead th {\n",
       "        text-align: right;\n",
       "    }\n",
       "</style>\n",
       "<table border=\"1\" class=\"dataframe\">\n",
       "  <thead>\n",
       "    <tr style=\"text-align: right;\">\n",
       "      <th>platform</th>\n",
       "      <th>3DS</th>\n",
       "      <th>DS</th>\n",
       "      <th>PC</th>\n",
       "      <th>PS3</th>\n",
       "      <th>PS4</th>\n",
       "      <th>PSP</th>\n",
       "      <th>PSV</th>\n",
       "      <th>Wii</th>\n",
       "      <th>WiiU</th>\n",
       "      <th>X360</th>\n",
       "      <th>XOne</th>\n",
       "    </tr>\n",
       "    <tr>\n",
       "      <th>year_of_release</th>\n",
       "      <th></th>\n",
       "      <th></th>\n",
       "      <th></th>\n",
       "      <th></th>\n",
       "      <th></th>\n",
       "      <th></th>\n",
       "      <th></th>\n",
       "      <th></th>\n",
       "      <th></th>\n",
       "      <th></th>\n",
       "      <th></th>\n",
       "    </tr>\n",
       "  </thead>\n",
       "  <tbody>\n",
       "    <tr>\n",
       "      <th>2013</th>\n",
       "      <td>56.57</td>\n",
       "      <td>1.54</td>\n",
       "      <td>12.38</td>\n",
       "      <td>113.25</td>\n",
       "      <td>25.99</td>\n",
       "      <td>3.14</td>\n",
       "      <td>10.59</td>\n",
       "      <td>8.59</td>\n",
       "      <td>21.65</td>\n",
       "      <td>88.58</td>\n",
       "      <td>18.96</td>\n",
       "    </tr>\n",
       "    <tr>\n",
       "      <th>2014</th>\n",
       "      <td>43.76</td>\n",
       "      <td>0.00</td>\n",
       "      <td>13.28</td>\n",
       "      <td>47.76</td>\n",
       "      <td>100.00</td>\n",
       "      <td>0.24</td>\n",
       "      <td>11.90</td>\n",
       "      <td>3.75</td>\n",
       "      <td>22.03</td>\n",
       "      <td>34.74</td>\n",
       "      <td>54.07</td>\n",
       "    </tr>\n",
       "    <tr>\n",
       "      <th>2015</th>\n",
       "      <td>27.78</td>\n",
       "      <td>0.00</td>\n",
       "      <td>8.52</td>\n",
       "      <td>16.82</td>\n",
       "      <td>118.90</td>\n",
       "      <td>0.12</td>\n",
       "      <td>6.25</td>\n",
       "      <td>1.14</td>\n",
       "      <td>16.35</td>\n",
       "      <td>11.96</td>\n",
       "      <td>60.14</td>\n",
       "    </tr>\n",
       "    <tr>\n",
       "      <th>2016</th>\n",
       "      <td>15.14</td>\n",
       "      <td>0.00</td>\n",
       "      <td>5.25</td>\n",
       "      <td>3.60</td>\n",
       "      <td>69.25</td>\n",
       "      <td>0.00</td>\n",
       "      <td>4.25</td>\n",
       "      <td>0.18</td>\n",
       "      <td>4.60</td>\n",
       "      <td>1.52</td>\n",
       "      <td>26.15</td>\n",
       "    </tr>\n",
       "  </tbody>\n",
       "</table>\n",
       "</div>"
      ],
      "text/plain": [
       "platform           3DS    DS     PC     PS3     PS4   PSP    PSV   Wii   WiiU  \\\n",
       "year_of_release                                                                 \n",
       "2013             56.57  1.54  12.38  113.25   25.99  3.14  10.59  8.59  21.65   \n",
       "2014             43.76  0.00  13.28   47.76  100.00  0.24  11.90  3.75  22.03   \n",
       "2015             27.78  0.00   8.52   16.82  118.90  0.12   6.25  1.14  16.35   \n",
       "2016             15.14  0.00   5.25    3.60   69.25  0.00   4.25  0.18   4.60   \n",
       "\n",
       "platform          X360   XOne  \n",
       "year_of_release                \n",
       "2013             88.58  18.96  \n",
       "2014             34.74  54.07  \n",
       "2015             11.96  60.14  \n",
       "2016              1.52  26.15  "
      ]
     },
     "execution_count": 62,
     "metadata": {},
     "output_type": "execute_result"
    }
   ],
   "source": [
    "#Ventas por plataforma desde 2013 en adelante:\n",
    "df_tiempo_de_vida"
   ]
  },
  {
   "cell_type": "markdown",
   "metadata": {},
   "source": [
    "#### Tendencias de Ventas"
   ]
  },
  {
   "cell_type": "code",
   "execution_count": 63,
   "metadata": {},
   "outputs": [
    {
     "data": {
      "text/plain": [
       "<function matplotlib.pyplot.show(close=None, block=None)>"
      ]
     },
     "execution_count": 63,
     "metadata": {},
     "output_type": "execute_result"
    },
    {
     "data": {
      "image/png": "[encoded data removed]",
      "text/plain": [
       "<Figure size 640x480 with 1 Axes>"
      ]
     },
     "metadata": {},
     "output_type": "display_data"
    }
   ],
   "source": [
    "sns.lineplot(data=df_tiempo_de_vida)\n",
    "plt.ylabel('Ventas Totales (Millones de USD)')\n",
    "plt.xlabel('Año de Lanzamiento')\n",
    "plt.title('Year')\n",
    "plt.title('Tendencia de Ventas por Plataforma desde 2013')\n",
    "plt.grid(True)\n",
    "plt.show"
   ]
  },
  {
   "cell_type": "markdown",
   "metadata": {},
   "source": [
    "**El gráfico nos muestra la evolución de ventas para cada plataforma a lo largo de los años:**  \n",
    "* Plataformas en Crecimiento:\n",
    "\n",
    "* Plataformas con ventas crecientes mostrarán una línea ascendente en el gráfico. Estas son plataformas que han aumentado su popularidad o ventas año tras año. Por ejemplo:\n",
    "* PlayStation 4 (PS4): Es probable que muestre un crecimiento constante en los primeros años después de su lanzamiento en 2013.\n",
    "\n",
    "* Plataformas en Reducción:\n",
    "\n",
    "* Plataformas con ventas decrecientes mostrarán una línea descendente en el gráfico. Estas son plataformas que han visto una disminución en las ventas, posiblemente debido a la aparición de nuevas consolas o al final de su ciclo de vida. Por ejemplo:\n",
    "* X360 y PlayStation 3: Estas plataformas probablemente muestren una reducción de ventas a medida que fueron reemplazadas por Xbox One y PlayStation 4.\n",
    "* Nintendo 3DS: Aunque tuvo éxito durante varios años, podría mostrar una disminución hacia el final del período de análisis debido a la introducción de nuevas tecnologías.  \n",
    "\n",
    "**Basándonos en las tendencias de ventas observadas en el gráfico y los criterios de rentabilidad, podemos considerar las siguientes plataformas:**  \n",
    "\n",
    "PlayStation 4 (PS4):\n",
    "\n",
    "Razones para ser rentable: La PS4, lanzada en 2013, ha demostrado un crecimiento constante y se ha mantenido como una de las plataformas más vendidas en todo el mundo. Tiene una gran base de usuarios y un soporte continuo de desarrolladores, con muchos títulos nuevos lanzados regularmente.\n",
    "Perspectivas futuras: A pesar de la llegada de la PlayStation 5, la PS4 sigue siendo relevante debido a su gran cantidad de jugadores y su catálogo de juegos extenso.\n",
    "\n",
    "Xbox One (XOne):\n",
    "\n",
    "Razones para ser rentable: Similar a la PS4, la Xbox One ha mostrado ventas sólidas desde su lanzamiento en 2013. Continúa recibiendo soporte de Microsoft y los desarrolladores, con una gran cantidad de juegos en su catálogo.\n",
    "Perspectivas futuras: Aunque la Xbox Series X ha sido lanzada, la Xbox One sigue siendo una plataforma importante, especialmente con servicios como Xbox Game Pass que extienden su relevancia.\n"
   ]
  },
  {
   "cell_type": "code",
   "execution_count": 64,
   "metadata": {},
   "outputs": [
    {
     "data": {
      "text/plain": [
       "<Figure size 1200x800 with 0 Axes>"
      ]
     },
     "metadata": {},
     "output_type": "display_data"
    },
    {
     "data": {
      "image/png": "[encoded data removed]",
      "text/plain": [
       "<Figure size 640x480 with 1 Axes>"
      ]
     },
     "metadata": {},
     "output_type": "display_data"
    }
   ],
   "source": [
    "plt.figure(figsize=(12, 8))\n",
    "data_clean.boxplot(column='total_sales', by='platform', grid=False)\n",
    "plt.title('Diagrama de Caja de Ventas Globales por Plataforma (2013 en adelante)')\n",
    "plt.suptitle('')\n",
    "plt.xlabel('Plataforma')\n",
    "plt.ylabel('Ventas Totales (Millones de USD)')\n",
    "plt.xticks(rotation=45)\n",
    "plt.show()"
   ]
  },
  {
   "cell_type": "markdown",
   "metadata": {},
   "source": [
    "1. ¿Son significativas las diferencias en las ventas?  \n",
    "*  Observando el diagrama de caja, podemos identificar plataformas con distribuciones de ventas más amplias (mayor rango ) y plataformas con distribuciones más estrechas, lo que indica que si una plataforma muestra una caja más alargada (rango intercuartil amplio), indica una mayor variabilidad en las ventas y si hay una plataforma con valores de mediana (línea dentro de la caja) significativamente más altos o bajos que otras, esto sugiere que esa plataforma tiene un rendimiento general superior o inferior en ventas, de acuerdo a el gráfico se tiene lo siguiente:\n",
    "\n",
    "* Plataformas Líderes: PS4, Xbox One  muestran ventas promedio altas, lo que indica que son plataformas sólidas para futuros lanzamientos de juegos.\n",
    "* Plataformas en Reducción: PS3 y Xbox 360 muestran ventas más bajas, sugiriendo que su ciclo de vida está llegando a su fin."
   ]
  },
  {
   "cell_type": "markdown",
   "metadata": {},
   "source": [
    "### Analisis de las reseñas de usuarios y profesionales:"
   ]
  },
  {
   "cell_type": "code",
   "execution_count": 65,
   "metadata": {},
   "outputs": [
    {
     "name": "stdout",
     "output_type": "stream",
     "text": [
      "<class 'pandas.core.frame.DataFrame'>\n",
      "RangeIndex: 16715 entries, 0 to 16714\n",
      "Data columns (total 12 columns):\n",
      " #   Column           Non-Null Count  Dtype  \n",
      "---  ------           --------------  -----  \n",
      " 0   name             16713 non-null  object \n",
      " 1   platform         16715 non-null  object \n",
      " 2   year_of_release  16715 non-null  int64  \n",
      " 3   genre            16715 non-null  object \n",
      " 4   na_sales         16715 non-null  float64\n",
      " 5   eu_sales         16715 non-null  float64\n",
      " 6   jp_sales         16715 non-null  float64\n",
      " 7   other_sales      16715 non-null  float64\n",
      " 8   critic_score     16715 non-null  float64\n",
      " 9   user_score       16715 non-null  float64\n",
      " 10  rating           16715 non-null  object \n",
      " 11  total_sales      16715 non-null  float64\n",
      "dtypes: float64(7), int64(1), object(4)\n",
      "memory usage: 1.5+ MB\n",
      "None\n"
     ]
    }
   ],
   "source": [
    "print(data.info())"
   ]
  },
  {
   "cell_type": "code",
   "execution_count": 66,
   "metadata": {},
   "outputs": [
    {
     "data": {
      "text/html": [
       "<div>\n",
       "<style scoped>\n",
       "    .dataframe tbody tr th:only-of-type {\n",
       "        vertical-align: middle;\n",
       "    }\n",
       "\n",
       "    .dataframe tbody tr th {\n",
       "        vertical-align: top;\n",
       "    }\n",
       "\n",
       "    .dataframe thead th {\n",
       "        text-align: right;\n",
       "    }\n",
       "</style>\n",
       "<table border=\"1\" class=\"dataframe\">\n",
       "  <thead>\n",
       "    <tr style=\"text-align: right;\">\n",
       "      <th></th>\n",
       "      <th>name</th>\n",
       "      <th>platform</th>\n",
       "      <th>year_of_release</th>\n",
       "      <th>genre</th>\n",
       "      <th>na_sales</th>\n",
       "      <th>eu_sales</th>\n",
       "      <th>jp_sales</th>\n",
       "      <th>other_sales</th>\n",
       "      <th>critic_score</th>\n",
       "      <th>user_score</th>\n",
       "      <th>rating</th>\n",
       "      <th>total_sales</th>\n",
       "    </tr>\n",
       "  </thead>\n",
       "  <tbody>\n",
       "    <tr>\n",
       "      <th>31</th>\n",
       "      <td>Call of Duty: Black Ops 3</td>\n",
       "      <td>PS4</td>\n",
       "      <td>2015</td>\n",
       "      <td>Shooter</td>\n",
       "      <td>6.03</td>\n",
       "      <td>5.86</td>\n",
       "      <td>0.36</td>\n",
       "      <td>2.38</td>\n",
       "      <td>73.0</td>\n",
       "      <td>7.4</td>\n",
       "      <td>Unknown</td>\n",
       "      <td>14.63</td>\n",
       "    </tr>\n",
       "    <tr>\n",
       "      <th>42</th>\n",
       "      <td>Grand Theft Auto V</td>\n",
       "      <td>PS4</td>\n",
       "      <td>2014</td>\n",
       "      <td>Action</td>\n",
       "      <td>3.96</td>\n",
       "      <td>6.31</td>\n",
       "      <td>0.38</td>\n",
       "      <td>1.97</td>\n",
       "      <td>97.0</td>\n",
       "      <td>8.3</td>\n",
       "      <td>M</td>\n",
       "      <td>12.62</td>\n",
       "    </tr>\n",
       "    <tr>\n",
       "      <th>77</th>\n",
       "      <td>FIFA 16</td>\n",
       "      <td>PS4</td>\n",
       "      <td>2015</td>\n",
       "      <td>Sports</td>\n",
       "      <td>1.12</td>\n",
       "      <td>6.12</td>\n",
       "      <td>0.06</td>\n",
       "      <td>1.28</td>\n",
       "      <td>82.0</td>\n",
       "      <td>4.3</td>\n",
       "      <td>E</td>\n",
       "      <td>8.58</td>\n",
       "    </tr>\n",
       "    <tr>\n",
       "      <th>87</th>\n",
       "      <td>Star Wars Battlefront (2015)</td>\n",
       "      <td>PS4</td>\n",
       "      <td>2015</td>\n",
       "      <td>Shooter</td>\n",
       "      <td>2.99</td>\n",
       "      <td>3.49</td>\n",
       "      <td>0.22</td>\n",
       "      <td>1.28</td>\n",
       "      <td>73.0</td>\n",
       "      <td>7.4</td>\n",
       "      <td>Unknown</td>\n",
       "      <td>7.98</td>\n",
       "    </tr>\n",
       "    <tr>\n",
       "      <th>92</th>\n",
       "      <td>Call of Duty: Advanced Warfare</td>\n",
       "      <td>PS4</td>\n",
       "      <td>2014</td>\n",
       "      <td>Shooter</td>\n",
       "      <td>2.81</td>\n",
       "      <td>3.48</td>\n",
       "      <td>0.14</td>\n",
       "      <td>1.23</td>\n",
       "      <td>83.0</td>\n",
       "      <td>5.7</td>\n",
       "      <td>M</td>\n",
       "      <td>7.66</td>\n",
       "    </tr>\n",
       "  </tbody>\n",
       "</table>\n",
       "</div>"
      ],
      "text/plain": [
       "                              name platform  year_of_release    genre  \\\n",
       "31       Call of Duty: Black Ops 3      PS4             2015  Shooter   \n",
       "42              Grand Theft Auto V      PS4             2014   Action   \n",
       "77                         FIFA 16      PS4             2015   Sports   \n",
       "87    Star Wars Battlefront (2015)      PS4             2015  Shooter   \n",
       "92  Call of Duty: Advanced Warfare      PS4             2014  Shooter   \n",
       "\n",
       "    na_sales  eu_sales  jp_sales  other_sales  critic_score  user_score  \\\n",
       "31      6.03      5.86      0.36         2.38          73.0         7.4   \n",
       "42      3.96      6.31      0.38         1.97          97.0         8.3   \n",
       "77      1.12      6.12      0.06         1.28          82.0         4.3   \n",
       "87      2.99      3.49      0.22         1.28          73.0         7.4   \n",
       "92      2.81      3.48      0.14         1.23          83.0         5.7   \n",
       "\n",
       "     rating  total_sales  \n",
       "31  Unknown        14.63  \n",
       "42        M        12.62  \n",
       "77        E         8.58  \n",
       "87  Unknown         7.98  \n",
       "92        M         7.66  "
      ]
     },
     "execution_count": 66,
     "metadata": {},
     "output_type": "execute_result"
    }
   ],
   "source": [
    "# Filtrar los datos desde 2013 en adelante y para la plataforma PS4\n",
    "data_ps4 = data[(data['platform'] == 'PS4') & (data['year_of_release'] >= 2013)]\n",
    "data_ps4.head()"
   ]
  },
  {
   "cell_type": "code",
   "execution_count": 67,
   "metadata": {},
   "outputs": [
    {
     "data": {
      "text/plain": [
       "name               0\n",
       "platform           0\n",
       "year_of_release    0\n",
       "genre              0\n",
       "na_sales           0\n",
       "eu_sales           0\n",
       "jp_sales           0\n",
       "other_sales        0\n",
       "critic_score       0\n",
       "user_score         0\n",
       "rating             0\n",
       "total_sales        0\n",
       "dtype: int64"
      ]
     },
     "execution_count": 67,
     "metadata": {},
     "output_type": "execute_result"
    }
   ],
   "source": [
    "# Eliminar los valores nulos\n",
    "# Eliminaremos los valores nulos debido a que no podemos imputar valores a las columnas :\n",
    "#'user_score', 'critic_score', 'total_sales' para un mejor analisis.\n",
    "\n",
    "data_ps4 = data_ps4.dropna(subset=['user_score', 'critic_score', 'total_sales'])\n",
    "data_ps4.isna().sum()"
   ]
  },
  {
   "cell_type": "code",
   "execution_count": 68,
   "metadata": {},
   "outputs": [
    {
     "data": {
      "image/png": "[encoded data removed]",
      "text/plain": [
       "<Figure size 1400x600 with 2 Axes>"
      ]
     },
     "metadata": {},
     "output_type": "display_data"
    }
   ],
   "source": [
    "# Crear gráficos de dispersión para reseñas de usuarios y críticos vs ventas\n",
    "plt.figure(figsize=(14, 6))\n",
    "\n",
    "plt.subplot(1, 2, 1)\n",
    "plt.scatter(data_ps4['user_score'], data_ps4['total_sales'], alpha=0.6, color='blue')\n",
    "plt.title('Reseñas de Usuarios vs Ventas Globales (PS4)')\n",
    "plt.xlabel('Puntuación de Usuarios')\n",
    "plt.ylabel('Ventas Totales (Millones de USD)')\n",
    "\n",
    "plt.subplot(1, 2, 2)\n",
    "plt.scatter(data_ps4['critic_score'], data_ps4['total_sales'], alpha=0.6, color='green')\n",
    "plt.title('Reseñas de Críticos vs Ventas Globales (PS4)')\n",
    "plt.xlabel('Puntuación de Críticos')\n",
    "plt.ylabel('Ventas Totales (Millones de USD)')\n",
    "plt.tight_layout()\n",
    "plt.show()"
   ]
  },
  {
   "cell_type": "markdown",
   "metadata": {},
   "source": [
    "**Gráficos de Dispersión:**\n",
    "\n",
    "* Reseñas de Usuarios vs Ventas: El gráfico muestra la relación entre las puntuaciones de los usuarios y las ventas totales. Una dispersión más densa hacia valores altos indica que las ventas aumentan con puntuaciones altas.  \n",
    "\n",
    "* Reseñas de Críticos vs Ventas: Situación similar al gráfico de usuarios, pero con puntuaciones de críticos, lo que muestra si las críticas profesionales tienen una mayor o menor influencia en las ventas que las reseñas de los usuarios."
   ]
  },
  {
   "cell_type": "code",
   "execution_count": 69,
   "metadata": {},
   "outputs": [
    {
     "name": "stdout",
     "output_type": "stream",
     "text": [
      "Correlación entre puntuación de usuarios y ventas: -0.07\n",
      "Correlación entre puntuación de críticos y ventas: 0.35\n"
     ]
    }
   ],
   "source": [
    "# Calcular la correlación entre reseñas y ventas\n",
    "correlation_user_sales = data_ps4['user_score'].corr(data_ps4['total_sales'])\n",
    "correlation_critic_sales = data_ps4['critic_score'].corr(data_ps4['total_sales'])\n",
    "\n",
    "print(f\"Correlación entre puntuación de usuarios y ventas: {correlation_user_sales:.2f}\")\n",
    "print(f\"Correlación entre puntuación de críticos y ventas: {correlation_critic_sales:.2f}\")"
   ]
  },
  {
   "cell_type": "markdown",
   "metadata": {},
   "source": [
    "**Correlación entre Reseñas y Ventas:**\n",
    "\n",
    "* La correlación entre puntuación de usuarios y ventas (correlation_user_sales) nos dirá si existe una relación positiva (cercana a +1), negativa (cercana a -1), o nula (cercana a 0), de la comparación de entre las reseñas de los usuarios y las ventas el valor (-0.03) indica una relación muy débil entre las dos variables analizadas, por lo que  no hay una tendencia clara en cuanto a cómo la puntuación de los usuarios afecta las ventas.\n",
    "* Una correlación de (0.41) entre la puntuación de críticos y las ventas indica una relación moderada positiva entre estas dos variables. Esto significa que a medida que la puntuación de los críticos aumenta, las ventas tienden a aumentar, pero no de manera perfectamente lineal o fuerte. Por lo tanto, existe una tendencia positiva en la relación entre la puntuación de los críticos y las ventas."
   ]
  },
  {
   "cell_type": "markdown",
   "metadata": {},
   "source": [
    "**Conclusión:**\n",
    "* El análisis de la correlación entre reseñas y ventas nos puede proporcionar una visión sobre cómo influyen las opiniones de críticos y usuarios en el éxito comercial de los juegos, lo que es útil para estrategias de marketing y desarrollo.\n",
    "* En el presente analisis se encontró que las reseñas de críticos tienen una correlación más alta con las ventas que las reseñas de usuarios, lo que sugiere que las opiniones profesionales influyen más en las decisiones de compra."
   ]
  },
  {
   "cell_type": "markdown",
   "metadata": {},
   "source": [
    "#### Comparación de las Ventas de los Mismos Juegos en Diferentes Plataformas:"
   ]
  },
  {
   "cell_type": "code",
   "execution_count": 70,
   "metadata": {},
   "outputs": [
    {
     "data": {
      "text/html": [
       "<div>\n",
       "<style scoped>\n",
       "    .dataframe tbody tr th:only-of-type {\n",
       "        vertical-align: middle;\n",
       "    }\n",
       "\n",
       "    .dataframe tbody tr th {\n",
       "        vertical-align: top;\n",
       "    }\n",
       "\n",
       "    .dataframe thead th {\n",
       "        text-align: right;\n",
       "    }\n",
       "</style>\n",
       "<table border=\"1\" class=\"dataframe\">\n",
       "  <thead>\n",
       "    <tr style=\"text-align: right;\">\n",
       "      <th>platform</th>\n",
       "      <th>3DS</th>\n",
       "      <th>DS</th>\n",
       "      <th>PC</th>\n",
       "      <th>PS3</th>\n",
       "      <th>PS4</th>\n",
       "      <th>PSP</th>\n",
       "      <th>PSV</th>\n",
       "      <th>Wii</th>\n",
       "      <th>WiiU</th>\n",
       "      <th>X360</th>\n",
       "      <th>XOne</th>\n",
       "    </tr>\n",
       "    <tr>\n",
       "      <th>name</th>\n",
       "      <th></th>\n",
       "      <th></th>\n",
       "      <th></th>\n",
       "      <th></th>\n",
       "      <th></th>\n",
       "      <th></th>\n",
       "      <th></th>\n",
       "      <th></th>\n",
       "      <th></th>\n",
       "      <th></th>\n",
       "      <th></th>\n",
       "    </tr>\n",
       "  </thead>\n",
       "  <tbody>\n",
       "    <tr>\n",
       "      <th>Frozen: Olaf's Quest</th>\n",
       "      <td>0.59</td>\n",
       "      <td>0.51</td>\n",
       "      <td>0.0</td>\n",
       "      <td>0.00</td>\n",
       "      <td>0.00</td>\n",
       "      <td>0.0</td>\n",
       "      <td>0.00</td>\n",
       "      <td>0.00</td>\n",
       "      <td>0.0</td>\n",
       "      <td>0.00</td>\n",
       "      <td>0.00</td>\n",
       "    </tr>\n",
       "    <tr>\n",
       "      <th>2014 FIFA World Cup Brazil</th>\n",
       "      <td>0.00</td>\n",
       "      <td>0.00</td>\n",
       "      <td>0.0</td>\n",
       "      <td>0.61</td>\n",
       "      <td>0.00</td>\n",
       "      <td>0.0</td>\n",
       "      <td>0.00</td>\n",
       "      <td>0.00</td>\n",
       "      <td>0.0</td>\n",
       "      <td>0.43</td>\n",
       "      <td>0.00</td>\n",
       "    </tr>\n",
       "    <tr>\n",
       "      <th>3rd Super Robot Wars Z Jigoku Hen</th>\n",
       "      <td>0.00</td>\n",
       "      <td>0.00</td>\n",
       "      <td>0.0</td>\n",
       "      <td>0.23</td>\n",
       "      <td>0.00</td>\n",
       "      <td>0.0</td>\n",
       "      <td>0.19</td>\n",
       "      <td>0.00</td>\n",
       "      <td>0.0</td>\n",
       "      <td>0.00</td>\n",
       "      <td>0.00</td>\n",
       "    </tr>\n",
       "    <tr>\n",
       "      <th>3rd Super Robot Wars Z: Tengoku-Hen</th>\n",
       "      <td>0.00</td>\n",
       "      <td>0.00</td>\n",
       "      <td>0.0</td>\n",
       "      <td>0.15</td>\n",
       "      <td>0.00</td>\n",
       "      <td>0.0</td>\n",
       "      <td>0.19</td>\n",
       "      <td>0.00</td>\n",
       "      <td>0.0</td>\n",
       "      <td>0.00</td>\n",
       "      <td>0.00</td>\n",
       "    </tr>\n",
       "    <tr>\n",
       "      <th>7 Days to Die</th>\n",
       "      <td>0.00</td>\n",
       "      <td>0.00</td>\n",
       "      <td>0.0</td>\n",
       "      <td>0.00</td>\n",
       "      <td>0.14</td>\n",
       "      <td>0.0</td>\n",
       "      <td>0.00</td>\n",
       "      <td>0.00</td>\n",
       "      <td>0.0</td>\n",
       "      <td>0.00</td>\n",
       "      <td>0.05</td>\n",
       "    </tr>\n",
       "    <tr>\n",
       "      <th>...</th>\n",
       "      <td>...</td>\n",
       "      <td>...</td>\n",
       "      <td>...</td>\n",
       "      <td>...</td>\n",
       "      <td>...</td>\n",
       "      <td>...</td>\n",
       "      <td>...</td>\n",
       "      <td>...</td>\n",
       "      <td>...</td>\n",
       "      <td>...</td>\n",
       "      <td>...</td>\n",
       "    </tr>\n",
       "    <tr>\n",
       "      <th>Zero Escape: Zero Time Dilemma</th>\n",
       "      <td>0.08</td>\n",
       "      <td>0.00</td>\n",
       "      <td>0.0</td>\n",
       "      <td>0.00</td>\n",
       "      <td>0.00</td>\n",
       "      <td>0.0</td>\n",
       "      <td>0.06</td>\n",
       "      <td>0.00</td>\n",
       "      <td>0.0</td>\n",
       "      <td>0.00</td>\n",
       "      <td>0.00</td>\n",
       "    </tr>\n",
       "    <tr>\n",
       "      <th>ZombiU</th>\n",
       "      <td>0.00</td>\n",
       "      <td>0.00</td>\n",
       "      <td>0.0</td>\n",
       "      <td>0.00</td>\n",
       "      <td>0.06</td>\n",
       "      <td>0.0</td>\n",
       "      <td>0.00</td>\n",
       "      <td>0.00</td>\n",
       "      <td>0.0</td>\n",
       "      <td>0.00</td>\n",
       "      <td>0.01</td>\n",
       "    </tr>\n",
       "    <tr>\n",
       "      <th>Zombie Army Trilogy</th>\n",
       "      <td>0.00</td>\n",
       "      <td>0.00</td>\n",
       "      <td>0.0</td>\n",
       "      <td>0.00</td>\n",
       "      <td>0.20</td>\n",
       "      <td>0.0</td>\n",
       "      <td>0.00</td>\n",
       "      <td>0.00</td>\n",
       "      <td>0.0</td>\n",
       "      <td>0.00</td>\n",
       "      <td>0.11</td>\n",
       "    </tr>\n",
       "    <tr>\n",
       "      <th>Zoo Tycoon (2013)</th>\n",
       "      <td>0.00</td>\n",
       "      <td>0.00</td>\n",
       "      <td>0.0</td>\n",
       "      <td>0.00</td>\n",
       "      <td>0.00</td>\n",
       "      <td>0.0</td>\n",
       "      <td>0.00</td>\n",
       "      <td>0.00</td>\n",
       "      <td>0.0</td>\n",
       "      <td>0.09</td>\n",
       "      <td>0.36</td>\n",
       "    </tr>\n",
       "    <tr>\n",
       "      <th>Zumba Fitness: World Party</th>\n",
       "      <td>0.00</td>\n",
       "      <td>0.00</td>\n",
       "      <td>0.0</td>\n",
       "      <td>0.00</td>\n",
       "      <td>0.00</td>\n",
       "      <td>0.0</td>\n",
       "      <td>0.00</td>\n",
       "      <td>0.23</td>\n",
       "      <td>0.0</td>\n",
       "      <td>0.00</td>\n",
       "      <td>0.24</td>\n",
       "    </tr>\n",
       "  </tbody>\n",
       "</table>\n",
       "<p>473 rows × 11 columns</p>\n",
       "</div>"
      ],
      "text/plain": [
       "platform                              3DS    DS   PC   PS3   PS4  PSP   PSV  \\\n",
       "name                                                                          \n",
       " Frozen: Olaf's Quest                0.59  0.51  0.0  0.00  0.00  0.0  0.00   \n",
       "2014 FIFA World Cup Brazil           0.00  0.00  0.0  0.61  0.00  0.0  0.00   \n",
       "3rd Super Robot Wars Z Jigoku Hen    0.00  0.00  0.0  0.23  0.00  0.0  0.19   \n",
       "3rd Super Robot Wars Z: Tengoku-Hen  0.00  0.00  0.0  0.15  0.00  0.0  0.19   \n",
       "7 Days to Die                        0.00  0.00  0.0  0.00  0.14  0.0  0.00   \n",
       "...                                   ...   ...  ...   ...   ...  ...   ...   \n",
       "Zero Escape: Zero Time Dilemma       0.08  0.00  0.0  0.00  0.00  0.0  0.06   \n",
       "ZombiU                               0.00  0.00  0.0  0.00  0.06  0.0  0.00   \n",
       "Zombie Army Trilogy                  0.00  0.00  0.0  0.00  0.20  0.0  0.00   \n",
       "Zoo Tycoon (2013)                    0.00  0.00  0.0  0.00  0.00  0.0  0.00   \n",
       "Zumba Fitness: World Party           0.00  0.00  0.0  0.00  0.00  0.0  0.00   \n",
       "\n",
       "platform                              Wii  WiiU  X360  XOne  \n",
       "name                                                         \n",
       " Frozen: Olaf's Quest                0.00   0.0  0.00  0.00  \n",
       "2014 FIFA World Cup Brazil           0.00   0.0  0.43  0.00  \n",
       "3rd Super Robot Wars Z Jigoku Hen    0.00   0.0  0.00  0.00  \n",
       "3rd Super Robot Wars Z: Tengoku-Hen  0.00   0.0  0.00  0.00  \n",
       "7 Days to Die                        0.00   0.0  0.00  0.05  \n",
       "...                                   ...   ...   ...   ...  \n",
       "Zero Escape: Zero Time Dilemma       0.00   0.0  0.00  0.00  \n",
       "ZombiU                               0.00   0.0  0.00  0.01  \n",
       "Zombie Army Trilogy                  0.00   0.0  0.00  0.11  \n",
       "Zoo Tycoon (2013)                    0.00   0.0  0.09  0.36  \n",
       "Zumba Fitness: World Party           0.23   0.0  0.00  0.24  \n",
       "\n",
       "[473 rows x 11 columns]"
      ]
     },
     "execution_count": 70,
     "metadata": {},
     "output_type": "execute_result"
    }
   ],
   "source": [
    "# Encontrar juegos que están disponibles en múltiples plataformas\n",
    "multi_platform_games = data_clean['name'].value_counts()[data_clean['name'].value_counts() > 1].index\n",
    "\n",
    "# Filtrar los datos solo para juegos disponibles en múltiples plataformas\n",
    "multi_platform_data = data_clean[data_clean['name'].isin(multi_platform_games)]\n",
    "\n",
    "# Comparar las ventas de los mismos juegos en diferentes plataformas\n",
    "multi_platform_sales = multi_platform_data.pivot_table(index='name', columns='platform', values='total_sales', aggfunc='sum').fillna(0)\n",
    "multi_platform_sales\n",
    "# Mostrar el resultado\n",
    "#print(\"Comparación de ventas de los mismos juegos en diferentes plataformas:\")\n",
    "#print(multi_platform_sales)"
   ]
  },
  {
   "cell_type": "markdown",
   "metadata": {},
   "source": [
    "#### Analisis de  la Distribución de los Juegos por Género:"
   ]
  },
  {
   "cell_type": "code",
   "execution_count": 71,
   "metadata": {},
   "outputs": [
    {
     "data": {
      "text/plain": [
       "genre\n",
       "Action          321.87\n",
       "Shooter         232.98\n",
       "Sports          150.65\n",
       "Role-Playing    145.89\n",
       "Misc             62.82\n",
       "Platform         42.63\n",
       "Racing           39.89\n",
       "Fighting         35.31\n",
       "Adventure        23.64\n",
       "Simulation       21.76\n",
       "Strategy         10.08\n",
       "Puzzle            3.17\n",
       "Name: total_sales, dtype: float64"
      ]
     },
     "execution_count": 71,
     "metadata": {},
     "output_type": "execute_result"
    }
   ],
   "source": [
    "# Calcular las ventas totales por género:\n",
    "\n",
    "genre_sales = data_clean.groupby('genre')['total_sales'].sum().sort_values(ascending=False)\n",
    "genre_sales"
   ]
  },
  {
   "cell_type": "code",
   "execution_count": 72,
   "metadata": {},
   "outputs": [
    {
     "data": {
      "image/png": "[encoded data removed]",
      "text/plain": [
       "<Figure size 1000x600 with 1 Axes>"
      ]
     },
     "metadata": {},
     "output_type": "display_data"
    }
   ],
   "source": [
    "# Graficar la distribución de ventas por género\n",
    "plt.figure(figsize=(10, 6))\n",
    "genre_sales.plot(kind='bar', color='skyblue')\n",
    "plt.title('Distribución de Ventas Totales por Género (2013 en adelante)')\n",
    "plt.xlabel('Género')\n",
    "plt.ylabel('Ventas Totales (Millones de USD)')\n",
    "plt.xticks(rotation=45)\n",
    "plt.show()"
   ]
  },
  {
   "cell_type": "markdown",
   "metadata": {},
   "source": [
    "* De el gráfico de barras y los datos de genre_sales mostrarán cómo se distribuyen las ventas totales entre los distintos géneros de juegos.  \n",
    "1. Géneros con Ventas Altas:\n",
    "* Acción y Aventura  \n",
    "* Deportes\n",
    "* Shooter (Disparos)\n",
    "* Rol (RPG)\n",
    "2. Géneros con Ventas Bajas:\n",
    "* Estrategia\n",
    "* Puzzle y Casual\n",
    "* Simulación  \n",
    "\n",
    "**De lo que se infiere**  \n",
    "Los géneros Más Rentables: Acción, deportes, shooters, y RPG son los géneros más rentables debido a su popularidad generalizada, amplia base de jugadores, y lanzamientos frecuentes y los géneros menos Rentables: Estrategia, simulación, y puzzle tienden a tener ventas más bajas, aunque pueden ser muy rentables en mercados de nicho específicos.\n",
    "Estos hallazgos pueden ayudar a orientar estrategias de desarrollo y marketing para futuros juegos, centrándose en los géneros más rentables para maximizar el retorno de inversión."
   ]
  },
  {
   "cell_type": "markdown",
   "metadata": {},
   "source": [
    "## Perfil de Usuarios:"
   ]
  },
  {
   "cell_type": "markdown",
   "metadata": {},
   "source": [
    "### Determinar las Cinco Plataformas Principales por Región:"
   ]
  },
  {
   "cell_type": "code",
   "execution_count": 73,
   "metadata": {},
   "outputs": [
    {
     "data": {
      "text/html": [
       "<div>\n",
       "<style scoped>\n",
       "    .dataframe tbody tr th:only-of-type {\n",
       "        vertical-align: middle;\n",
       "    }\n",
       "\n",
       "    .dataframe tbody tr th {\n",
       "        vertical-align: top;\n",
       "    }\n",
       "\n",
       "    .dataframe thead th {\n",
       "        text-align: right;\n",
       "    }\n",
       "</style>\n",
       "<table border=\"1\" class=\"dataframe\">\n",
       "  <thead>\n",
       "    <tr style=\"text-align: right;\">\n",
       "      <th></th>\n",
       "      <th>platform</th>\n",
       "      <th>na_sales</th>\n",
       "    </tr>\n",
       "  </thead>\n",
       "  <tbody>\n",
       "    <tr>\n",
       "      <th>0</th>\n",
       "      <td>PS4</td>\n",
       "      <td>108.74</td>\n",
       "    </tr>\n",
       "    <tr>\n",
       "      <th>1</th>\n",
       "      <td>XOne</td>\n",
       "      <td>93.12</td>\n",
       "    </tr>\n",
       "    <tr>\n",
       "      <th>2</th>\n",
       "      <td>X360</td>\n",
       "      <td>81.66</td>\n",
       "    </tr>\n",
       "    <tr>\n",
       "      <th>3</th>\n",
       "      <td>PS3</td>\n",
       "      <td>63.50</td>\n",
       "    </tr>\n",
       "    <tr>\n",
       "      <th>4</th>\n",
       "      <td>3DS</td>\n",
       "      <td>38.20</td>\n",
       "    </tr>\n",
       "  </tbody>\n",
       "</table>\n",
       "</div>"
      ],
      "text/plain": [
       "  platform  na_sales\n",
       "0      PS4    108.74\n",
       "1     XOne     93.12\n",
       "2     X360     81.66\n",
       "3      PS3     63.50\n",
       "4      3DS     38.20"
      ]
     },
     "execution_count": 73,
     "metadata": {},
     "output_type": "execute_result"
    }
   ],
   "source": [
    "# Cinco plataformas principales en Norteamérica (NA)\n",
    "top_platforms_na = data_clean.groupby('platform')['na_sales'].sum().sort_values(ascending=False).reset_index()\n",
    "top_platforms_na.head(5)\n"
   ]
  },
  {
   "cell_type": "markdown",
   "metadata": {},
   "source": [
    "Norteamérica (NA):\n",
    "\n",
    "* PlayStation 4 (PS4) y Xbox One (XOne): Estas plataformas lideran las ventas en Norteamérica debido a su popularidad en el mercado occidental."
   ]
  },
  {
   "cell_type": "code",
   "execution_count": 74,
   "metadata": {},
   "outputs": [
    {
     "data": {
      "text/html": [
       "<div>\n",
       "<style scoped>\n",
       "    .dataframe tbody tr th:only-of-type {\n",
       "        vertical-align: middle;\n",
       "    }\n",
       "\n",
       "    .dataframe tbody tr th {\n",
       "        vertical-align: top;\n",
       "    }\n",
       "\n",
       "    .dataframe thead th {\n",
       "        text-align: right;\n",
       "    }\n",
       "</style>\n",
       "<table border=\"1\" class=\"dataframe\">\n",
       "  <thead>\n",
       "    <tr style=\"text-align: right;\">\n",
       "      <th></th>\n",
       "      <th>platform</th>\n",
       "      <th>eu_sales</th>\n",
       "    </tr>\n",
       "  </thead>\n",
       "  <tbody>\n",
       "    <tr>\n",
       "      <th>0</th>\n",
       "      <td>PS4</td>\n",
       "      <td>141.09</td>\n",
       "    </tr>\n",
       "    <tr>\n",
       "      <th>1</th>\n",
       "      <td>PS3</td>\n",
       "      <td>67.81</td>\n",
       "    </tr>\n",
       "    <tr>\n",
       "      <th>2</th>\n",
       "      <td>XOne</td>\n",
       "      <td>51.59</td>\n",
       "    </tr>\n",
       "    <tr>\n",
       "      <th>3</th>\n",
       "      <td>X360</td>\n",
       "      <td>42.52</td>\n",
       "    </tr>\n",
       "    <tr>\n",
       "      <th>4</th>\n",
       "      <td>3DS</td>\n",
       "      <td>30.96</td>\n",
       "    </tr>\n",
       "  </tbody>\n",
       "</table>\n",
       "</div>"
      ],
      "text/plain": [
       "  platform  eu_sales\n",
       "0      PS4    141.09\n",
       "1      PS3     67.81\n",
       "2     XOne     51.59\n",
       "3     X360     42.52\n",
       "4      3DS     30.96"
      ]
     },
     "execution_count": 74,
     "metadata": {},
     "output_type": "execute_result"
    }
   ],
   "source": [
    "# Cinco plataformas principales en Europa (UE)\n",
    "top_platforms_eu = data_clean.groupby('platform')['eu_sales'].sum().sort_values(ascending=False).reset_index()\n",
    "top_platforms_eu.head(5)"
   ]
  },
  {
   "cell_type": "markdown",
   "metadata": {},
   "source": [
    "Europa (UE):\n",
    "* PlayStation 4 (PS4) y Xbox One (XOne): Estas plataformas lideran las ventas en Norteamérica debido a su popularidad."
   ]
  },
  {
   "cell_type": "code",
   "execution_count": 75,
   "metadata": {},
   "outputs": [
    {
     "data": {
      "text/html": [
       "<div>\n",
       "<style scoped>\n",
       "    .dataframe tbody tr th:only-of-type {\n",
       "        vertical-align: middle;\n",
       "    }\n",
       "\n",
       "    .dataframe tbody tr th {\n",
       "        vertical-align: top;\n",
       "    }\n",
       "\n",
       "    .dataframe thead th {\n",
       "        text-align: right;\n",
       "    }\n",
       "</style>\n",
       "<table border=\"1\" class=\"dataframe\">\n",
       "  <thead>\n",
       "    <tr style=\"text-align: right;\">\n",
       "      <th></th>\n",
       "      <th>platform</th>\n",
       "      <th>jp_sales</th>\n",
       "    </tr>\n",
       "  </thead>\n",
       "  <tbody>\n",
       "    <tr>\n",
       "      <th>0</th>\n",
       "      <td>3DS</td>\n",
       "      <td>67.81</td>\n",
       "    </tr>\n",
       "    <tr>\n",
       "      <th>1</th>\n",
       "      <td>PS3</td>\n",
       "      <td>23.35</td>\n",
       "    </tr>\n",
       "    <tr>\n",
       "      <th>2</th>\n",
       "      <td>PSV</td>\n",
       "      <td>18.59</td>\n",
       "    </tr>\n",
       "    <tr>\n",
       "      <th>3</th>\n",
       "      <td>PS4</td>\n",
       "      <td>15.96</td>\n",
       "    </tr>\n",
       "    <tr>\n",
       "      <th>4</th>\n",
       "      <td>WiiU</td>\n",
       "      <td>10.88</td>\n",
       "    </tr>\n",
       "  </tbody>\n",
       "</table>\n",
       "</div>"
      ],
      "text/plain": [
       "  platform  jp_sales\n",
       "0      3DS     67.81\n",
       "1      PS3     23.35\n",
       "2      PSV     18.59\n",
       "3      PS4     15.96\n",
       "4     WiiU     10.88"
      ]
     },
     "execution_count": 75,
     "metadata": {},
     "output_type": "execute_result"
    }
   ],
   "source": [
    "# Cinco plataformas principales en Japón (JP)\n",
    "top_platforms_jp = data_clean.groupby('platform')['jp_sales'].sum().sort_values(ascending=False).reset_index()\n",
    "top_platforms_jp.head(5)"
   ]
  },
  {
   "cell_type": "markdown",
   "metadata": {},
   "source": [
    "Japón (JP):\n",
    "\n",
    "* Nintendo 3DS,PS3: Son relevantes las ventas en Japón, donde las consolas portátiles son extremadamente populares.\n",
    "* PS Vita: Otra consola portátil aparece en el top 5 en Japón."
   ]
  },
  {
   "cell_type": "markdown",
   "metadata": {},
   "source": [
    "Variaciones en Cuotas de Mercado por Región:  \n",
    "    \n",
    "* Norteamérica (NA) y Europa (UE): Tienden a tener una mayor preferencia por consolas de sobremesa como PS4, Xbox One.\n",
    "* Japón (JP): El mercado japonés muestra una fuerte preferencia por consolas portátiles como  3DS y PS Vita, y menos interés en consolas como Xbox One."
   ]
  },
  {
   "cell_type": "markdown",
   "metadata": {},
   "source": [
    "### Determinar los Cinco Géneros Principales por Región:"
   ]
  },
  {
   "cell_type": "code",
   "execution_count": 76,
   "metadata": {},
   "outputs": [
    {
     "data": {
      "text/html": [
       "<div>\n",
       "<style scoped>\n",
       "    .dataframe tbody tr th:only-of-type {\n",
       "        vertical-align: middle;\n",
       "    }\n",
       "\n",
       "    .dataframe tbody tr th {\n",
       "        vertical-align: top;\n",
       "    }\n",
       "\n",
       "    .dataframe thead th {\n",
       "        text-align: right;\n",
       "    }\n",
       "</style>\n",
       "<table border=\"1\" class=\"dataframe\">\n",
       "  <thead>\n",
       "    <tr style=\"text-align: right;\">\n",
       "      <th></th>\n",
       "      <th>genre</th>\n",
       "      <th>na_sales</th>\n",
       "    </tr>\n",
       "  </thead>\n",
       "  <tbody>\n",
       "    <tr>\n",
       "      <th>0</th>\n",
       "      <td>Action</td>\n",
       "      <td>126.05</td>\n",
       "    </tr>\n",
       "    <tr>\n",
       "      <th>1</th>\n",
       "      <td>Shooter</td>\n",
       "      <td>109.74</td>\n",
       "    </tr>\n",
       "    <tr>\n",
       "      <th>2</th>\n",
       "      <td>Sports</td>\n",
       "      <td>65.27</td>\n",
       "    </tr>\n",
       "    <tr>\n",
       "      <th>3</th>\n",
       "      <td>Role-Playing</td>\n",
       "      <td>46.40</td>\n",
       "    </tr>\n",
       "    <tr>\n",
       "      <th>4</th>\n",
       "      <td>Misc</td>\n",
       "      <td>27.49</td>\n",
       "    </tr>\n",
       "  </tbody>\n",
       "</table>\n",
       "</div>"
      ],
      "text/plain": [
       "          genre  na_sales\n",
       "0        Action    126.05\n",
       "1       Shooter    109.74\n",
       "2        Sports     65.27\n",
       "3  Role-Playing     46.40\n",
       "4          Misc     27.49"
      ]
     },
     "execution_count": 76,
     "metadata": {},
     "output_type": "execute_result"
    }
   ],
   "source": [
    "# Cinco géneros principales en Norteamérica (NA)\n",
    "top_genres_na = data_clean.groupby('genre')['na_sales'].sum().sort_values(ascending=False).reset_index()\n",
    "top_genres_na.head(5)"
   ]
  },
  {
   "cell_type": "markdown",
   "metadata": {},
   "source": [
    "Norteamérica (NA):\n",
    "\n",
    "* Acción, Deportes , Shooter (Disparos),Role-Playing y Misc: Probablemente sean los géneros más populares, reflejando las preferencias de los jugadores occidentales por juegos competitivos y dinámicos."
   ]
  },
  {
   "cell_type": "code",
   "execution_count": 77,
   "metadata": {},
   "outputs": [
    {
     "data": {
      "text/html": [
       "<div>\n",
       "<style scoped>\n",
       "    .dataframe tbody tr th:only-of-type {\n",
       "        vertical-align: middle;\n",
       "    }\n",
       "\n",
       "    .dataframe tbody tr th {\n",
       "        vertical-align: top;\n",
       "    }\n",
       "\n",
       "    .dataframe thead th {\n",
       "        text-align: right;\n",
       "    }\n",
       "</style>\n",
       "<table border=\"1\" class=\"dataframe\">\n",
       "  <thead>\n",
       "    <tr style=\"text-align: right;\">\n",
       "      <th></th>\n",
       "      <th>genre</th>\n",
       "      <th>eu_sales</th>\n",
       "    </tr>\n",
       "  </thead>\n",
       "  <tbody>\n",
       "    <tr>\n",
       "      <th>0</th>\n",
       "      <td>Action</td>\n",
       "      <td>118.13</td>\n",
       "    </tr>\n",
       "    <tr>\n",
       "      <th>1</th>\n",
       "      <td>Shooter</td>\n",
       "      <td>87.86</td>\n",
       "    </tr>\n",
       "    <tr>\n",
       "      <th>2</th>\n",
       "      <td>Sports</td>\n",
       "      <td>60.52</td>\n",
       "    </tr>\n",
       "    <tr>\n",
       "      <th>3</th>\n",
       "      <td>Role-Playing</td>\n",
       "      <td>36.97</td>\n",
       "    </tr>\n",
       "    <tr>\n",
       "      <th>4</th>\n",
       "      <td>Racing</td>\n",
       "      <td>20.19</td>\n",
       "    </tr>\n",
       "  </tbody>\n",
       "</table>\n",
       "</div>"
      ],
      "text/plain": [
       "          genre  eu_sales\n",
       "0        Action    118.13\n",
       "1       Shooter     87.86\n",
       "2        Sports     60.52\n",
       "3  Role-Playing     36.97\n",
       "4        Racing     20.19"
      ]
     },
     "execution_count": 77,
     "metadata": {},
     "output_type": "execute_result"
    }
   ],
   "source": [
    "# Cinco géneros principales en Europa (UE)\n",
    "top_genres_eu = data_clean.groupby('genre')['eu_sales'].sum().sort_values(ascending=False).reset_index()\n",
    "top_genres_eu.head(5)"
   ]
  },
  {
   "cell_type": "markdown",
   "metadata": {},
   "source": [
    "Europa (UE):\n",
    "\n",
    "* Acción, Deportes y Shooter (Disparos): Similar a Norteamérica, estos géneros son populares, con juegos como FIFA y Call of Duty liderando las ventas.\n",
    "* Rol (RPG) y Carreras: En Europa, los juegos de carreras suelen ser más populares que en otras regiones."
   ]
  },
  {
   "cell_type": "code",
   "execution_count": 78,
   "metadata": {},
   "outputs": [
    {
     "data": {
      "text/html": [
       "<div>\n",
       "<style scoped>\n",
       "    .dataframe tbody tr th:only-of-type {\n",
       "        vertical-align: middle;\n",
       "    }\n",
       "\n",
       "    .dataframe tbody tr th {\n",
       "        vertical-align: top;\n",
       "    }\n",
       "\n",
       "    .dataframe thead th {\n",
       "        text-align: right;\n",
       "    }\n",
       "</style>\n",
       "<table border=\"1\" class=\"dataframe\">\n",
       "  <thead>\n",
       "    <tr style=\"text-align: right;\">\n",
       "      <th></th>\n",
       "      <th>genre</th>\n",
       "      <th>jp_sales</th>\n",
       "    </tr>\n",
       "  </thead>\n",
       "  <tbody>\n",
       "    <tr>\n",
       "      <th>0</th>\n",
       "      <td>Role-Playing</td>\n",
       "      <td>51.04</td>\n",
       "    </tr>\n",
       "    <tr>\n",
       "      <th>1</th>\n",
       "      <td>Action</td>\n",
       "      <td>40.49</td>\n",
       "    </tr>\n",
       "    <tr>\n",
       "      <th>2</th>\n",
       "      <td>Misc</td>\n",
       "      <td>9.20</td>\n",
       "    </tr>\n",
       "    <tr>\n",
       "      <th>3</th>\n",
       "      <td>Fighting</td>\n",
       "      <td>7.65</td>\n",
       "    </tr>\n",
       "    <tr>\n",
       "      <th>4</th>\n",
       "      <td>Shooter</td>\n",
       "      <td>6.61</td>\n",
       "    </tr>\n",
       "  </tbody>\n",
       "</table>\n",
       "</div>"
      ],
      "text/plain": [
       "          genre  jp_sales\n",
       "0  Role-Playing     51.04\n",
       "1        Action     40.49\n",
       "2          Misc      9.20\n",
       "3      Fighting      7.65\n",
       "4       Shooter      6.61"
      ]
     },
     "execution_count": 78,
     "metadata": {},
     "output_type": "execute_result"
    }
   ],
   "source": [
    "# Cinco géneros principales en Japón (JP)\n",
    "top_genres_jp = data_clean.groupby('genre')['jp_sales'].sum().sort_values(ascending=False).reset_index()\n",
    "top_genres_jp.head()"
   ]
  },
  {
   "cell_type": "markdown",
   "metadata": {},
   "source": [
    "Japón (JP):\n",
    "\n",
    "* Rol (RPG) y Acción: Son probablemente los géneros dominantes, dado las preferencias por los RPG de los jugadores japoneses y títulos de acción únicos.\n",
    "* Géneros como misc,fighting y shooter también son más apreciados en Japón, con títulos que no necesariamente son populares en Occidente."
   ]
  },
  {
   "cell_type": "markdown",
   "metadata": {},
   "source": [
    "Diferencias en Géneros Populares por Región:\n",
    "    \n",
    "* Norteamérica (NA) y Europa (UE): Prefieren géneros más orientados a la acción, deportes y shooters.\n",
    "* Japón (JP): Prefiere géneros más centrados en juegos de rol, accion , y juegos que ofrecen experiencias y narrativas profundas."
   ]
  },
  {
   "cell_type": "markdown",
   "metadata": {},
   "source": [
    "### Analizar el Impacto de las Clasificaciones ESRB en las Ventas por Región:"
   ]
  },
  {
   "cell_type": "code",
   "execution_count": 79,
   "metadata": {},
   "outputs": [
    {
     "data": {
      "text/html": [
       "<div>\n",
       "<style scoped>\n",
       "    .dataframe tbody tr th:only-of-type {\n",
       "        vertical-align: middle;\n",
       "    }\n",
       "\n",
       "    .dataframe tbody tr th {\n",
       "        vertical-align: top;\n",
       "    }\n",
       "\n",
       "    .dataframe thead th {\n",
       "        text-align: right;\n",
       "    }\n",
       "</style>\n",
       "<table border=\"1\" class=\"dataframe\">\n",
       "  <thead>\n",
       "    <tr style=\"text-align: right;\">\n",
       "      <th></th>\n",
       "      <th>rating</th>\n",
       "      <th>na_sales</th>\n",
       "    </tr>\n",
       "  </thead>\n",
       "  <tbody>\n",
       "    <tr>\n",
       "      <th>0</th>\n",
       "      <td>M</td>\n",
       "      <td>165.21</td>\n",
       "    </tr>\n",
       "    <tr>\n",
       "      <th>1</th>\n",
       "      <td>Unknown</td>\n",
       "      <td>89.42</td>\n",
       "    </tr>\n",
       "    <tr>\n",
       "      <th>2</th>\n",
       "      <td>E</td>\n",
       "      <td>79.05</td>\n",
       "    </tr>\n",
       "    <tr>\n",
       "      <th>3</th>\n",
       "      <td>E10+</td>\n",
       "      <td>54.24</td>\n",
       "    </tr>\n",
       "    <tr>\n",
       "      <th>4</th>\n",
       "      <td>T</td>\n",
       "      <td>49.79</td>\n",
       "    </tr>\n",
       "  </tbody>\n",
       "</table>\n",
       "</div>"
      ],
      "text/plain": [
       "    rating  na_sales\n",
       "0        M    165.21\n",
       "1  Unknown     89.42\n",
       "2        E     79.05\n",
       "3     E10+     54.24\n",
       "4        T     49.79"
      ]
     },
     "execution_count": 79,
     "metadata": {},
     "output_type": "execute_result"
    }
   ],
   "source": [
    "# Cinco clasificaciones ESRB principales en Norteamérica (NA)\n",
    "esrb_na = data_clean.groupby('rating')['na_sales'].sum().sort_values(ascending=False).reset_index()\n",
    "esrb_na.head(5)"
   ]
  },
  {
   "cell_type": "markdown",
   "metadata": {},
   "source": [
    "Norteamérica (NA):\n",
    "* \"E\" (Everyone - Todos los públicos) y \"M\" (Mature - Adultos) suelen ser las clasificaciones con mayores ventas. Los juegos \"M\" son populares debido a la demanda de juegos de acción y shooters."
   ]
  },
  {
   "cell_type": "code",
   "execution_count": 80,
   "metadata": {},
   "outputs": [
    {
     "data": {
      "text/html": [
       "<div>\n",
       "<style scoped>\n",
       "    .dataframe tbody tr th:only-of-type {\n",
       "        vertical-align: middle;\n",
       "    }\n",
       "\n",
       "    .dataframe tbody tr th {\n",
       "        vertical-align: top;\n",
       "    }\n",
       "\n",
       "    .dataframe thead th {\n",
       "        text-align: right;\n",
       "    }\n",
       "</style>\n",
       "<table border=\"1\" class=\"dataframe\">\n",
       "  <thead>\n",
       "    <tr style=\"text-align: right;\">\n",
       "      <th></th>\n",
       "      <th>rating</th>\n",
       "      <th>eu_sales</th>\n",
       "    </tr>\n",
       "  </thead>\n",
       "  <tbody>\n",
       "    <tr>\n",
       "      <th>0</th>\n",
       "      <td>M</td>\n",
       "      <td>145.32</td>\n",
       "    </tr>\n",
       "    <tr>\n",
       "      <th>1</th>\n",
       "      <td>E</td>\n",
       "      <td>83.36</td>\n",
       "    </tr>\n",
       "    <tr>\n",
       "      <th>2</th>\n",
       "      <td>Unknown</td>\n",
       "      <td>78.91</td>\n",
       "    </tr>\n",
       "    <tr>\n",
       "      <th>3</th>\n",
       "      <td>E10+</td>\n",
       "      <td>42.69</td>\n",
       "    </tr>\n",
       "    <tr>\n",
       "      <th>4</th>\n",
       "      <td>T</td>\n",
       "      <td>41.95</td>\n",
       "    </tr>\n",
       "  </tbody>\n",
       "</table>\n",
       "</div>"
      ],
      "text/plain": [
       "    rating  eu_sales\n",
       "0        M    145.32\n",
       "1        E     83.36\n",
       "2  Unknown     78.91\n",
       "3     E10+     42.69\n",
       "4        T     41.95"
      ]
     },
     "execution_count": 80,
     "metadata": {},
     "output_type": "execute_result"
    }
   ],
   "source": [
    "# Cinco clasificaciones ESRB principales en Europa (UE)\n",
    "esrb_eu = data_clean.groupby('rating')['eu_sales'].sum().sort_values(ascending=False).reset_index()\n",
    "esrb_eu.head()"
   ]
  },
  {
   "cell_type": "markdown",
   "metadata": {},
   "source": [
    "Europa (UE):\n",
    "* Similar a Norteamérica, con \"E\" y \"M\" dominando las ventas."
   ]
  },
  {
   "cell_type": "code",
   "execution_count": 81,
   "metadata": {},
   "outputs": [
    {
     "data": {
      "text/html": [
       "<div>\n",
       "<style scoped>\n",
       "    .dataframe tbody tr th:only-of-type {\n",
       "        vertical-align: middle;\n",
       "    }\n",
       "\n",
       "    .dataframe tbody tr th {\n",
       "        vertical-align: top;\n",
       "    }\n",
       "\n",
       "    .dataframe thead th {\n",
       "        text-align: right;\n",
       "    }\n",
       "</style>\n",
       "<table border=\"1\" class=\"dataframe\">\n",
       "  <thead>\n",
       "    <tr style=\"text-align: right;\">\n",
       "      <th></th>\n",
       "      <th>rating</th>\n",
       "      <th>jp_sales</th>\n",
       "    </tr>\n",
       "  </thead>\n",
       "  <tbody>\n",
       "    <tr>\n",
       "      <th>0</th>\n",
       "      <td>Unknown</td>\n",
       "      <td>85.05</td>\n",
       "    </tr>\n",
       "    <tr>\n",
       "      <th>1</th>\n",
       "      <td>T</td>\n",
       "      <td>20.59</td>\n",
       "    </tr>\n",
       "    <tr>\n",
       "      <th>2</th>\n",
       "      <td>E</td>\n",
       "      <td>15.14</td>\n",
       "    </tr>\n",
       "    <tr>\n",
       "      <th>3</th>\n",
       "      <td>M</td>\n",
       "      <td>14.11</td>\n",
       "    </tr>\n",
       "    <tr>\n",
       "      <th>4</th>\n",
       "      <td>E10+</td>\n",
       "      <td>5.89</td>\n",
       "    </tr>\n",
       "  </tbody>\n",
       "</table>\n",
       "</div>"
      ],
      "text/plain": [
       "    rating  jp_sales\n",
       "0  Unknown     85.05\n",
       "1        T     20.59\n",
       "2        E     15.14\n",
       "3        M     14.11\n",
       "4     E10+      5.89"
      ]
     },
     "execution_count": 81,
     "metadata": {},
     "output_type": "execute_result"
    }
   ],
   "source": [
    "# Cinco clasificaciones ESRB principales en Japón (JP)\n",
    "esrb_jp = data_clean.groupby('rating')['jp_sales'].sum().sort_values(ascending=False).reset_index()\n",
    "esrb_jp.head()"
   ]
  },
  {
   "cell_type": "markdown",
   "metadata": {},
   "source": [
    "Japón (JP):\n",
    "* En Japón, los juegos clasificados como \"E\" (para todos) y \"T\" (Teen - Adolescentes) pueden tener mayores ventas. Los juegos de rol y aventuras, populares en Japón, suelen tener clasificaciones más bajas de edad."
   ]
  },
  {
   "cell_type": "markdown",
   "metadata": {},
   "source": [
    "## Hipotesis:"
   ]
  },
  {
   "cell_type": "markdown",
   "metadata": {},
   "source": [
    "**Establecer el Valor de Umbral Alfa (α)**\n",
    "* Elegimos un nivel de significancia comúnmente utilizado, α = 0.05. Esto significa que estamos dispuestos a aceptar un 5% de probabilidad de rechazar la hipótesis nula cuando en realidad es cierta"
   ]
  },
  {
   "cell_type": "markdown",
   "metadata": {},
   "source": [
    "**Criterio de Prueba y Justificación:** \n",
    "\n",
    "* Utilizaremos la prueba t de dos muestras independientes (Student's t-test) para comparar las medias de dos grupos independientes en ambas hipótesis. Esta prueba es adecuada porque:\n",
    "* Las calificaciones de los usuarios para diferentes plataformas y géneros son variables continuas.\n",
    "* Queremos determinar si hay una diferencia significativa entre las medias de dos grupos independientes."
   ]
  },
  {
   "cell_type": "markdown",
   "metadata": {},
   "source": [
    "### Hipótesis sobre las Calificaciones Promedio de Usuarios entre Xbox One y PC:"
   ]
  },
  {
   "cell_type": "markdown",
   "metadata": {},
   "source": [
    "* Hipótesis Nula (H₀): Las calificaciones promedio de los usuarios para las plataformas Xbox One y PC son iguales.\n",
    "* Hipótesis Alternativa (H₁): Las calificaciones promedio de los usuarios para las plataformas Xbox One y PC son diferentes."
   ]
  },
  {
   "cell_type": "code",
   "execution_count": 82,
   "metadata": {},
   "outputs": [
    {
     "name": "stdout",
     "output_type": "stream",
     "text": [
      "p-value:0.05355232069397892\n",
      "No podemos rechazar la hipotesis nula\n"
     ]
    }
   ],
   "source": [
    "# Hipótesis 1: Comparación de las calificaciones de usuarios entre Xbox One y PC:\n",
    "\n",
    "xbox_one_scores = data_clean[data_clean['platform'] == 'XOne']['user_score'].dropna()\n",
    "pc_scores = data_clean[data_clean['platform'] == 'PC']['user_score'].dropna()\n",
    "alpha=0.05\n",
    "# Realizar la prueba t de dos muestras independientes\n",
    "resultados_t_test = stats.ttest_ind(xbox_one_scores, pc_scores, equal_var=False)\n",
    "\n",
    "print(f'p-value:{resultados_t_test.pvalue}')\n",
    "if resultados_t_test.pvalue < alpha:\n",
    "    print(\"Podemos rechazar la hipótesis nula\")\n",
    "else:\n",
    "    print(\"No podemos rechazar la hipotesis nula\")"
   ]
  },
  {
   "cell_type": "markdown",
   "metadata": {},
   "source": [
    "Hemos llevado a cabo un análisis estadístico para comparar las calificaciones entre dos plataformas, \"Xbox One\" y \"PC\". La finalidad de este análisis es determinar si no existe diferencia las clasificaciones por los usuarios de estos dos planes. Los resultados de nuestro análisis indican que las clasificaciones de  \"Xbox One\" y \"PC\" son iguales. Esta diferencia es estadísticamente significativa, lo que sugiere que no podemos rechazar la hipótesis nula y concluimos que no hay evidencia suficiente para afirmar que las calificaciones promedio son diferentes."
   ]
  },
  {
   "cell_type": "markdown",
   "metadata": {},
   "source": [
    "### Hipótesis sobre las Calificaciones Promedio de Usuarios entre Géneros de Acción y Deportes:\n"
   ]
  },
  {
   "cell_type": "markdown",
   "metadata": {},
   "source": [
    "* Hipótesis Nula (H₀): Las calificaciones promedio de los usuarios para los géneros Acción y Deportes son iguales.\n",
    "* Hipótesis Alternativa (H₁): Las calificaciones promedio de los usuarios para los géneros Acción y Deportes son diferentes."
   ]
  },
  {
   "cell_type": "code",
   "execution_count": 83,
   "metadata": {},
   "outputs": [
    {
     "name": "stdout",
     "output_type": "stream",
     "text": [
      "p-value:3.832628984221986e-21\n",
      "Podemos rechazar la hipótesis nula\n"
     ]
    }
   ],
   "source": [
    "# Hipótesis 2: Comparación de las calificaciones de usuarios entre géneros de Acción y Deportes:\n",
    "\n",
    "accion_scores = data_clean[data_clean['genre'] == 'Action']['user_score'].dropna()\n",
    "deportes_scores = data_clean[data_clean['genre'] == 'Sports']['user_score'].dropna()\n",
    "\n",
    "# Realizar la prueba t de dos muestras independientes\n",
    "t_stat_genres = stats.ttest_ind(accion_scores, deportes_scores, equal_var=False)\n",
    "\n",
    "print(f'p-value:{t_stat_genres.pvalue}')\n",
    "if t_stat_genres.pvalue < alpha:\n",
    "    print(\"Podemos rechazar la hipótesis nula\")\n",
    "else:\n",
    "    print(\"No podemos rechazar la hipotesis nula\")"
   ]
  },
  {
   "cell_type": "markdown",
   "metadata": {},
   "source": [
    "Hemos llevado a cabo un análisis estadístico para comparar  las calificaciones entre dos generos, \"Action\" y \"Sports\". Dado que el valor p es menor que nuestro nivel de significancia α (0.05) podemos rechazamos la hipótesis nula y concluimos que las calificaciones promedio de usuarios para los géneros de Acción y Deportes son diferentes."
   ]
  },
  {
   "cell_type": "markdown",
   "metadata": {},
   "source": [
    "# Conclusión General:\n",
    "\n",
    "Basándonos en el análisis de los datos de ventas y las pruebas de hipótesis realizadas, se pueden extraer las siguientes conclusiones:\n",
    "\n",
    "Plataformas Potencialmente Rentables:\n",
    "\n",
    "Las plataformas como PlayStation 4 (PS4), Xbox One, 3DS, X360 , PC son líderes en ventas y muestran potencial de rentabilidad debido a su gran base de usuarios y apoyo continuo de desarrolladores.\n",
    "Preferencias Regionales:\n",
    "\n",
    "Las plataformas y géneros varían en popularidad según la región:\n",
    "NA y UE prefieren consolas de sobremesa (PS4, Xbox One) y géneros de acción, deportes y shooters.\n",
    "JP tiene una preferencia más fuerte por consolas portátiles (3DS) y géneros de rol y peleas.\n",
    "Impacto de las Clasificaciones ESRB:\n",
    "\n",
    "Las clasificaciones ESRB afectan las ventas, especialmente en NA y UE, donde los juegos clasificados como \"Mature\" (para adultos) o \"Everyone\" (para todos los públicos) son más populares. En Japón, las ventas son mayores para juegos clasificados como \"E\" o \"T\".\n",
    "Influencia de Reseñas de Usuarios y Críticos en Ventas:\n",
    "\n",
    "Hay una correlación entre las reseñas (usuarios y críticos) y las ventas, lo que sugiere que las opiniones influyen en el éxito de los juegos. Sin embargo, el impacto puede variar según la plataforma y el género.\n",
    "\n",
    "Recomendaciones Finales:\n",
    "\n",
    "Enfocarse en Plataformas Líderes: Continuar desarrollando y promocionando juegos para las plataformas más vendidas (PS4, Xbox One, 3DS).\n",
    "Considerar Preferencias Regionales: Adaptar las campañas de marketing y lanzamiento de productos a las preferencias específicas de cada región.\n",
    "Optimizar Estrategias según Clasificación ESRB: Aprovechar el impacto de las clasificaciones ESRB en las ventas, especialmente para juegos \"E\" y \"M\" en NA y UE.\n",
    "Fomentar Buenas Reseñas: Incentivar reseñas positivas de usuarios y críticos para aumentar las ventas.\n",
    "Estos hallazgos y recomendaciones ayudarán a tomar decisiones estratégicas informadas para maximizar el éxito en el mercado de videojuegos."
   ]
  }
 ],
 "metadata": {
  "ExecuteTimeLog": [
   {
    "duration": 466,
    "start_time": "2024-08-26T00:37:13.740Z"
   },
   {
    "duration": 36,
    "start_time": "2024-08-26T00:37:16.533Z"
   },
   {
    "duration": 13,
    "start_time": "2024-08-26T00:37:55.826Z"
   },
   {
    "duration": 19,
    "start_time": "2024-08-26T00:38:17.834Z"
   },
   {
    "duration": 4,
    "start_time": "2024-08-26T00:40:23.419Z"
   },
   {
    "duration": 17,
    "start_time": "2024-08-26T00:42:18.718Z"
   },
   {
    "duration": 17,
    "start_time": "2024-08-26T01:02:10.171Z"
   },
   {
    "duration": 30,
    "start_time": "2024-08-26T01:02:47.186Z"
   },
   {
    "duration": 29,
    "start_time": "2024-08-26T02:49:25.914Z"
   },
   {
    "duration": 9,
    "start_time": "2024-08-26T02:50:19.907Z"
   },
   {
    "duration": 4,
    "start_time": "2024-08-26T02:50:36.490Z"
   },
   {
    "duration": 4,
    "start_time": "2024-08-26T03:04:07.980Z"
   },
   {
    "duration": 4,
    "start_time": "2024-08-26T03:10:23.113Z"
   },
   {
    "duration": 328,
    "start_time": "2024-08-26T03:11:00.235Z"
   },
   {
    "duration": 22,
    "start_time": "2024-08-26T03:11:43.563Z"
   },
   {
    "duration": 21,
    "start_time": "2024-08-26T03:12:09.729Z"
   },
   {
    "duration": 453,
    "start_time": "2024-08-26T03:12:55.701Z"
   },
   {
    "duration": 46,
    "start_time": "2024-08-26T03:12:56.158Z"
   },
   {
    "duration": 14,
    "start_time": "2024-08-26T03:12:56.207Z"
   },
   {
    "duration": 23,
    "start_time": "2024-08-26T03:12:56.224Z"
   },
   {
    "duration": 61,
    "start_time": "2024-08-26T03:12:56.252Z"
   },
   {
    "duration": 9,
    "start_time": "2024-08-26T03:12:56.316Z"
   },
   {
    "duration": 5,
    "start_time": "2024-08-26T03:12:56.328Z"
   },
   {
    "duration": 4,
    "start_time": "2024-08-26T03:12:56.336Z"
   },
   {
    "duration": 4,
    "start_time": "2024-08-26T03:13:00.846Z"
   },
   {
    "duration": 23,
    "start_time": "2024-08-26T03:13:20.312Z"
   },
   {
    "duration": 11,
    "start_time": "2024-08-26T03:14:27.965Z"
   },
   {
    "duration": 9,
    "start_time": "2024-08-26T03:21:16.628Z"
   },
   {
    "duration": 5,
    "start_time": "2024-08-26T03:23:17.586Z"
   },
   {
    "duration": 5,
    "start_time": "2024-08-26T03:23:21.202Z"
   },
   {
    "duration": 134,
    "start_time": "2024-08-26T03:29:31.496Z"
   },
   {
    "duration": 36,
    "start_time": "2024-08-26T03:30:13.326Z"
   },
   {
    "duration": 264,
    "start_time": "2024-08-26T03:35:10.269Z"
   },
   {
    "duration": 3,
    "start_time": "2024-08-26T03:35:18.354Z"
   },
   {
    "duration": 6,
    "start_time": "2024-08-26T03:35:22.954Z"
   },
   {
    "duration": 7,
    "start_time": "2024-08-26T03:36:58.632Z"
   },
   {
    "duration": 22,
    "start_time": "2024-08-26T03:37:20.927Z"
   },
   {
    "duration": 7,
    "start_time": "2024-08-26T03:38:18.445Z"
   },
   {
    "duration": 818,
    "start_time": "2024-08-26T03:41:41.378Z"
   },
   {
    "duration": 252,
    "start_time": "2024-08-26T03:41:58.988Z"
   },
   {
    "duration": 59,
    "start_time": "2024-08-26T03:42:42.400Z"
   },
   {
    "duration": 7,
    "start_time": "2024-08-26T03:42:58.009Z"
   },
   {
    "duration": 7,
    "start_time": "2024-08-26T03:43:02.043Z"
   },
   {
    "duration": 23,
    "start_time": "2024-08-26T03:44:31.689Z"
   },
   {
    "duration": 23,
    "start_time": "2024-08-26T03:48:45.295Z"
   },
   {
    "duration": 10,
    "start_time": "2024-08-26T03:49:06.351Z"
   },
   {
    "duration": 7,
    "start_time": "2024-08-26T03:50:07.692Z"
   },
   {
    "duration": 9,
    "start_time": "2024-08-26T03:51:14.606Z"
   },
   {
    "duration": 13,
    "start_time": "2024-08-26T03:52:33.887Z"
   },
   {
    "duration": 5,
    "start_time": "2024-08-26T03:53:01.199Z"
   },
   {
    "duration": 3893,
    "start_time": "2024-08-26T03:53:44.127Z"
   },
   {
    "duration": 8,
    "start_time": "2024-08-26T03:55:00.137Z"
   },
   {
    "duration": 5,
    "start_time": "2024-08-26T03:55:10.621Z"
   },
   {
    "duration": 6,
    "start_time": "2024-08-26T03:55:33.625Z"
   },
   {
    "duration": 5,
    "start_time": "2024-08-26T03:56:00.663Z"
   },
   {
    "duration": 6,
    "start_time": "2024-08-26T03:56:30.065Z"
   },
   {
    "duration": 258,
    "start_time": "2024-08-26T03:57:37.848Z"
   },
   {
    "duration": 219,
    "start_time": "2024-08-26T04:01:13.143Z"
   },
   {
    "duration": 238,
    "start_time": "2024-08-26T04:05:09.057Z"
   },
   {
    "duration": 221,
    "start_time": "2024-08-26T04:06:41.720Z"
   },
   {
    "duration": 372,
    "start_time": "2024-08-26T04:07:36.577Z"
   },
   {
    "duration": 392,
    "start_time": "2024-08-26T04:07:54.358Z"
   },
   {
    "duration": 505,
    "start_time": "2024-08-26T04:08:14.400Z"
   },
   {
    "duration": 219,
    "start_time": "2024-08-27T02:28:58.023Z"
   },
   {
    "duration": 2180,
    "start_time": "2024-08-27T02:29:08.062Z"
   },
   {
    "duration": 177,
    "start_time": "2024-08-27T02:29:14.522Z"
   },
   {
    "duration": 437,
    "start_time": "2024-08-27T02:29:30.935Z"
   },
   {
    "duration": 78,
    "start_time": "2024-08-27T02:29:31.374Z"
   },
   {
    "duration": 8,
    "start_time": "2024-08-27T02:29:31.454Z"
   },
   {
    "duration": 11,
    "start_time": "2024-08-27T02:29:31.464Z"
   },
   {
    "duration": 17,
    "start_time": "2024-08-27T02:29:31.478Z"
   },
   {
    "duration": 6,
    "start_time": "2024-08-27T02:29:31.497Z"
   },
   {
    "duration": 4,
    "start_time": "2024-08-27T02:29:31.504Z"
   },
   {
    "duration": 3,
    "start_time": "2024-08-27T02:29:31.509Z"
   },
   {
    "duration": 11,
    "start_time": "2024-08-27T02:29:31.541Z"
   },
   {
    "duration": 3,
    "start_time": "2024-08-27T02:29:31.554Z"
   },
   {
    "duration": 18,
    "start_time": "2024-08-27T02:29:31.559Z"
   },
   {
    "duration": 3,
    "start_time": "2024-08-27T02:29:31.579Z"
   },
   {
    "duration": 4,
    "start_time": "2024-08-27T02:29:31.584Z"
   },
   {
    "duration": 5,
    "start_time": "2024-08-27T02:29:31.591Z"
   },
   {
    "duration": 43,
    "start_time": "2024-08-27T02:29:31.597Z"
   },
   {
    "duration": 5,
    "start_time": "2024-08-27T02:29:31.642Z"
   },
   {
    "duration": 5,
    "start_time": "2024-08-27T02:29:31.649Z"
   },
   {
    "duration": 15,
    "start_time": "2024-08-27T02:29:31.656Z"
   },
   {
    "duration": 5,
    "start_time": "2024-08-27T02:29:31.673Z"
   },
   {
    "duration": 4,
    "start_time": "2024-08-27T02:29:31.679Z"
   },
   {
    "duration": 240,
    "start_time": "2024-08-27T02:29:31.685Z"
   },
   {
    "duration": 521,
    "start_time": "2024-08-27T02:32:13.156Z"
   },
   {
    "duration": 5,
    "start_time": "2024-08-27T02:32:46.431Z"
   },
   {
    "duration": 6,
    "start_time": "2024-08-27T02:41:05.474Z"
   },
   {
    "duration": 8,
    "start_time": "2024-08-27T02:43:16.898Z"
   },
   {
    "duration": 4,
    "start_time": "2024-08-27T02:48:34.800Z"
   },
   {
    "duration": 8,
    "start_time": "2024-08-27T02:48:36.790Z"
   },
   {
    "duration": 4,
    "start_time": "2024-08-27T02:51:52.506Z"
   },
   {
    "duration": 10,
    "start_time": "2024-08-27T02:52:06.434Z"
   },
   {
    "duration": 1049,
    "start_time": "2024-08-27T03:33:56.273Z"
   },
   {
    "duration": 192,
    "start_time": "2024-08-27T03:36:03.307Z"
   },
   {
    "duration": 188,
    "start_time": "2024-08-27T03:38:28.801Z"
   },
   {
    "duration": 173,
    "start_time": "2024-08-27T03:39:04.267Z"
   },
   {
    "duration": 6,
    "start_time": "2024-08-27T03:43:53.804Z"
   },
   {
    "duration": 4,
    "start_time": "2024-08-27T03:44:12.431Z"
   },
   {
    "duration": 6,
    "start_time": "2024-08-27T03:44:38.509Z"
   },
   {
    "duration": 14,
    "start_time": "2024-08-27T03:47:13.436Z"
   },
   {
    "duration": 4,
    "start_time": "2024-08-27T03:47:27.890Z"
   },
   {
    "duration": 3,
    "start_time": "2024-08-27T03:48:21.784Z"
   },
   {
    "duration": 12,
    "start_time": "2024-08-27T03:48:56.066Z"
   },
   {
    "duration": 11,
    "start_time": "2024-08-27T03:49:13.775Z"
   },
   {
    "duration": 13,
    "start_time": "2024-08-27T03:52:46.039Z"
   },
   {
    "duration": 403,
    "start_time": "2024-08-27T03:54:29.843Z"
   },
   {
    "duration": 284,
    "start_time": "2024-08-27T03:56:20.114Z"
   },
   {
    "duration": 845,
    "start_time": "2024-08-27T03:58:45.178Z"
   },
   {
    "duration": 26,
    "start_time": "2024-08-27T03:58:46.026Z"
   },
   {
    "duration": 8,
    "start_time": "2024-08-27T03:58:46.054Z"
   },
   {
    "duration": 10,
    "start_time": "2024-08-27T03:58:46.064Z"
   },
   {
    "duration": 17,
    "start_time": "2024-08-27T03:58:46.076Z"
   },
   {
    "duration": 6,
    "start_time": "2024-08-27T03:58:46.094Z"
   },
   {
    "duration": 4,
    "start_time": "2024-08-27T03:58:46.102Z"
   },
   {
    "duration": 2,
    "start_time": "2024-08-27T03:58:46.140Z"
   },
   {
    "duration": 11,
    "start_time": "2024-08-27T03:58:46.144Z"
   },
   {
    "duration": 3,
    "start_time": "2024-08-27T03:58:46.159Z"
   },
   {
    "duration": 18,
    "start_time": "2024-08-27T03:58:46.164Z"
   },
   {
    "duration": 3,
    "start_time": "2024-08-27T03:58:46.184Z"
   },
   {
    "duration": 4,
    "start_time": "2024-08-27T03:58:46.189Z"
   },
   {
    "duration": 4,
    "start_time": "2024-08-27T03:58:46.194Z"
   },
   {
    "duration": 41,
    "start_time": "2024-08-27T03:58:46.201Z"
   },
   {
    "duration": 5,
    "start_time": "2024-08-27T03:58:46.244Z"
   },
   {
    "duration": 6,
    "start_time": "2024-08-27T03:58:46.251Z"
   },
   {
    "duration": 13,
    "start_time": "2024-08-27T03:58:46.258Z"
   },
   {
    "duration": 5,
    "start_time": "2024-08-27T03:58:46.273Z"
   },
   {
    "duration": 4,
    "start_time": "2024-08-27T03:58:46.280Z"
   },
   {
    "duration": 246,
    "start_time": "2024-08-27T03:58:46.287Z"
   },
   {
    "duration": 10,
    "start_time": "2024-08-27T03:58:46.535Z"
   },
   {
    "duration": 4,
    "start_time": "2024-08-27T03:58:46.547Z"
   },
   {
    "duration": 9,
    "start_time": "2024-08-27T03:58:46.552Z"
   },
   {
    "duration": 4,
    "start_time": "2024-08-27T03:58:46.563Z"
   },
   {
    "duration": 10,
    "start_time": "2024-08-27T03:58:46.569Z"
   },
   {
    "duration": 216,
    "start_time": "2024-08-27T03:58:46.581Z"
   },
   {
    "duration": 5,
    "start_time": "2024-08-27T03:58:46.801Z"
   },
   {
    "duration": 10,
    "start_time": "2024-08-27T03:58:46.808Z"
   },
   {
    "duration": 27,
    "start_time": "2024-08-27T03:58:46.819Z"
   },
   {
    "duration": 364,
    "start_time": "2024-08-27T03:58:46.849Z"
   },
   {
    "duration": 2712,
    "start_time": "2024-08-27T23:45:56.056Z"
   },
   {
    "duration": 63,
    "start_time": "2024-08-27T23:45:58.771Z"
   },
   {
    "duration": 8,
    "start_time": "2024-08-27T23:45:58.836Z"
   },
   {
    "duration": 12,
    "start_time": "2024-08-27T23:45:58.847Z"
   },
   {
    "duration": 17,
    "start_time": "2024-08-27T23:45:58.861Z"
   },
   {
    "duration": 7,
    "start_time": "2024-08-27T23:45:58.879Z"
   },
   {
    "duration": 3,
    "start_time": "2024-08-27T23:45:58.887Z"
   },
   {
    "duration": 32,
    "start_time": "2024-08-27T23:45:58.892Z"
   },
   {
    "duration": 11,
    "start_time": "2024-08-27T23:45:58.927Z"
   },
   {
    "duration": 3,
    "start_time": "2024-08-27T23:45:58.941Z"
   },
   {
    "duration": 18,
    "start_time": "2024-08-27T23:45:58.945Z"
   },
   {
    "duration": 3,
    "start_time": "2024-08-27T23:45:58.964Z"
   },
   {
    "duration": 4,
    "start_time": "2024-08-27T23:45:58.969Z"
   },
   {
    "duration": 4,
    "start_time": "2024-08-27T23:45:58.974Z"
   },
   {
    "duration": 4,
    "start_time": "2024-08-27T23:45:58.980Z"
   },
   {
    "duration": 26,
    "start_time": "2024-08-27T23:45:58.986Z"
   },
   {
    "duration": 12,
    "start_time": "2024-08-27T23:45:59.013Z"
   },
   {
    "duration": 20,
    "start_time": "2024-08-27T23:45:59.026Z"
   },
   {
    "duration": 5,
    "start_time": "2024-08-27T23:45:59.047Z"
   },
   {
    "duration": 4,
    "start_time": "2024-08-27T23:45:59.053Z"
   },
   {
    "duration": 219,
    "start_time": "2024-08-27T23:45:59.058Z"
   },
   {
    "duration": 5,
    "start_time": "2024-08-27T23:45:59.279Z"
   },
   {
    "duration": 3,
    "start_time": "2024-08-27T23:45:59.286Z"
   },
   {
    "duration": 24,
    "start_time": "2024-08-27T23:45:59.291Z"
   },
   {
    "duration": 5,
    "start_time": "2024-08-27T23:45:59.318Z"
   },
   {
    "duration": 13,
    "start_time": "2024-08-27T23:45:59.325Z"
   },
   {
    "duration": 185,
    "start_time": "2024-08-27T23:45:59.339Z"
   },
   {
    "duration": 5,
    "start_time": "2024-08-27T23:45:59.528Z"
   },
   {
    "duration": 9,
    "start_time": "2024-08-27T23:45:59.535Z"
   },
   {
    "duration": 10,
    "start_time": "2024-08-27T23:45:59.546Z"
   },
   {
    "duration": 327,
    "start_time": "2024-08-27T23:45:59.558Z"
   },
   {
    "duration": 272,
    "start_time": "2024-08-28T00:10:04.499Z"
   },
   {
    "duration": 3,
    "start_time": "2024-08-28T00:10:13.548Z"
   },
   {
    "duration": 6,
    "start_time": "2024-08-28T01:56:25.667Z"
   },
   {
    "duration": 218,
    "start_time": "2024-08-28T03:24:42.049Z"
   },
   {
    "duration": 236,
    "start_time": "2024-08-28T03:24:52.284Z"
   },
   {
    "duration": 224,
    "start_time": "2024-08-28T03:25:02.922Z"
   },
   {
    "duration": 5,
    "start_time": "2024-08-28T04:52:18.341Z"
   },
   {
    "duration": 6,
    "start_time": "2024-08-28T04:53:14.099Z"
   },
   {
    "duration": 175,
    "start_time": "2024-08-30T01:01:29.318Z"
   },
   {
    "duration": 12,
    "start_time": "2024-08-30T01:02:07.455Z"
   },
   {
    "duration": 2618,
    "start_time": "2024-08-30T01:02:19.154Z"
   },
   {
    "duration": 35,
    "start_time": "2024-08-30T01:02:21.775Z"
   },
   {
    "duration": 8,
    "start_time": "2024-08-30T01:02:21.812Z"
   },
   {
    "duration": 10,
    "start_time": "2024-08-30T01:02:21.822Z"
   },
   {
    "duration": 16,
    "start_time": "2024-08-30T01:02:21.843Z"
   },
   {
    "duration": 2,
    "start_time": "2024-08-30T01:02:21.861Z"
   },
   {
    "duration": 10,
    "start_time": "2024-08-30T01:02:21.865Z"
   },
   {
    "duration": 4,
    "start_time": "2024-08-30T01:02:21.877Z"
   },
   {
    "duration": 3,
    "start_time": "2024-08-30T01:02:21.883Z"
   },
   {
    "duration": 5,
    "start_time": "2024-08-30T01:02:21.888Z"
   },
   {
    "duration": 858,
    "start_time": "2024-08-30T01:02:21.894Z"
   },
   {
    "duration": 0,
    "start_time": "2024-08-30T01:02:22.755Z"
   },
   {
    "duration": 0,
    "start_time": "2024-08-30T01:02:22.756Z"
   },
   {
    "duration": 0,
    "start_time": "2024-08-30T01:02:22.758Z"
   },
   {
    "duration": 0,
    "start_time": "2024-08-30T01:02:22.760Z"
   },
   {
    "duration": 0,
    "start_time": "2024-08-30T01:02:22.761Z"
   },
   {
    "duration": 0,
    "start_time": "2024-08-30T01:02:22.763Z"
   },
   {
    "duration": 0,
    "start_time": "2024-08-30T01:02:22.764Z"
   },
   {
    "duration": 0,
    "start_time": "2024-08-30T01:02:22.766Z"
   },
   {
    "duration": 0,
    "start_time": "2024-08-30T01:02:22.768Z"
   },
   {
    "duration": 0,
    "start_time": "2024-08-30T01:02:22.769Z"
   },
   {
    "duration": 0,
    "start_time": "2024-08-30T01:02:22.771Z"
   },
   {
    "duration": 0,
    "start_time": "2024-08-30T01:02:22.773Z"
   },
   {
    "duration": 0,
    "start_time": "2024-08-30T01:02:22.774Z"
   },
   {
    "duration": 0,
    "start_time": "2024-08-30T01:02:22.776Z"
   },
   {
    "duration": 0,
    "start_time": "2024-08-30T01:02:22.777Z"
   },
   {
    "duration": 0,
    "start_time": "2024-08-30T01:02:22.779Z"
   },
   {
    "duration": 0,
    "start_time": "2024-08-30T01:02:22.780Z"
   },
   {
    "duration": 0,
    "start_time": "2024-08-30T01:02:22.782Z"
   },
   {
    "duration": 0,
    "start_time": "2024-08-30T01:02:22.783Z"
   },
   {
    "duration": 0,
    "start_time": "2024-08-30T01:02:22.785Z"
   },
   {
    "duration": 0,
    "start_time": "2024-08-30T01:02:22.786Z"
   },
   {
    "duration": 0,
    "start_time": "2024-08-30T01:02:22.788Z"
   },
   {
    "duration": 0,
    "start_time": "2024-08-30T01:02:22.842Z"
   },
   {
    "duration": 0,
    "start_time": "2024-08-30T01:02:22.843Z"
   },
   {
    "duration": 46,
    "start_time": "2024-08-30T01:04:28.919Z"
   },
   {
    "duration": 7,
    "start_time": "2024-08-30T01:05:24.524Z"
   },
   {
    "duration": 6,
    "start_time": "2024-08-30T01:05:29.237Z"
   },
   {
    "duration": 4,
    "start_time": "2024-08-30T01:05:31.565Z"
   },
   {
    "duration": 6,
    "start_time": "2024-08-30T01:05:38.371Z"
   },
   {
    "duration": 23,
    "start_time": "2024-08-30T01:05:44.243Z"
   },
   {
    "duration": 4,
    "start_time": "2024-08-30T01:05:55.297Z"
   },
   {
    "duration": 5,
    "start_time": "2024-08-30T01:05:59.971Z"
   },
   {
    "duration": 4,
    "start_time": "2024-08-30T01:06:54.787Z"
   },
   {
    "duration": 4,
    "start_time": "2024-08-30T01:10:16.746Z"
   },
   {
    "duration": 5,
    "start_time": "2024-08-30T01:10:27.449Z"
   },
   {
    "duration": 5,
    "start_time": "2024-08-30T01:36:45.521Z"
   },
   {
    "duration": 4,
    "start_time": "2024-08-30T01:36:47.627Z"
   },
   {
    "duration": 229,
    "start_time": "2024-08-30T01:40:06.190Z"
   },
   {
    "duration": 2,
    "start_time": "2024-08-30T01:40:27.914Z"
   },
   {
    "duration": 18,
    "start_time": "2024-08-30T01:40:30.475Z"
   },
   {
    "duration": 5,
    "start_time": "2024-08-30T01:40:36.724Z"
   },
   {
    "duration": 4,
    "start_time": "2024-08-30T01:40:40.452Z"
   },
   {
    "duration": 190,
    "start_time": "2024-08-30T01:40:43.255Z"
   },
   {
    "duration": 6,
    "start_time": "2024-08-30T01:42:14.534Z"
   },
   {
    "duration": 7,
    "start_time": "2024-08-30T01:42:29.993Z"
   },
   {
    "duration": 4,
    "start_time": "2024-08-30T01:42:53.180Z"
   },
   {
    "duration": 195,
    "start_time": "2024-08-30T01:46:03.170Z"
   },
   {
    "duration": 4,
    "start_time": "2024-08-30T01:46:12.289Z"
   },
   {
    "duration": 201,
    "start_time": "2024-08-30T01:46:19.068Z"
   },
   {
    "duration": 5,
    "start_time": "2024-08-30T01:58:22.177Z"
   },
   {
    "duration": 4,
    "start_time": "2024-08-30T01:58:29.990Z"
   },
   {
    "duration": 9,
    "start_time": "2024-08-30T01:58:37.564Z"
   },
   {
    "duration": 7,
    "start_time": "2024-08-30T01:58:45.374Z"
   },
   {
    "duration": 3,
    "start_time": "2024-08-30T01:58:55.013Z"
   },
   {
    "duration": 10,
    "start_time": "2024-08-30T01:58:59.297Z"
   },
   {
    "duration": 8,
    "start_time": "2024-08-30T01:59:22.079Z"
   },
   {
    "duration": 170,
    "start_time": "2024-08-30T01:59:28.306Z"
   },
   {
    "duration": 6,
    "start_time": "2024-08-30T01:59:46.826Z"
   },
   {
    "duration": 6,
    "start_time": "2024-08-30T02:46:40.824Z"
   },
   {
    "duration": 5,
    "start_time": "2024-08-30T02:46:44.786Z"
   },
   {
    "duration": 13,
    "start_time": "2024-08-30T02:46:53.171Z"
   },
   {
    "duration": 10,
    "start_time": "2024-08-30T02:54:00.820Z"
   },
   {
    "duration": 4,
    "start_time": "2024-08-30T02:55:06.996Z"
   },
   {
    "duration": 10,
    "start_time": "2024-08-30T02:58:59.080Z"
   },
   {
    "duration": 9,
    "start_time": "2024-08-30T02:59:17.528Z"
   },
   {
    "duration": 13,
    "start_time": "2024-08-30T03:04:30.728Z"
   },
   {
    "duration": 3,
    "start_time": "2024-08-30T03:05:16.805Z"
   },
   {
    "duration": 393,
    "start_time": "2024-08-30T03:05:19.452Z"
   },
   {
    "duration": 2,
    "start_time": "2024-08-30T03:05:31.833Z"
   },
   {
    "duration": 40,
    "start_time": "2024-08-30T03:06:07.556Z"
   },
   {
    "duration": 40,
    "start_time": "2024-08-30T03:07:08.367Z"
   },
   {
    "duration": 18,
    "start_time": "2024-08-30T03:07:29.390Z"
   },
   {
    "duration": 844,
    "start_time": "2024-08-30T03:07:51.376Z"
   },
   {
    "duration": 29,
    "start_time": "2024-08-30T03:07:52.222Z"
   },
   {
    "duration": 8,
    "start_time": "2024-08-30T03:07:52.253Z"
   },
   {
    "duration": 12,
    "start_time": "2024-08-30T03:07:52.263Z"
   },
   {
    "duration": 16,
    "start_time": "2024-08-30T03:07:52.276Z"
   },
   {
    "duration": 3,
    "start_time": "2024-08-30T03:07:52.294Z"
   },
   {
    "duration": 11,
    "start_time": "2024-08-30T03:07:52.298Z"
   },
   {
    "duration": 32,
    "start_time": "2024-08-30T03:07:52.311Z"
   },
   {
    "duration": 4,
    "start_time": "2024-08-30T03:07:52.345Z"
   },
   {
    "duration": 6,
    "start_time": "2024-08-30T03:07:52.352Z"
   },
   {
    "duration": 6,
    "start_time": "2024-08-30T03:07:52.359Z"
   },
   {
    "duration": 4,
    "start_time": "2024-08-30T03:07:52.366Z"
   },
   {
    "duration": 17,
    "start_time": "2024-08-30T03:07:52.371Z"
   },
   {
    "duration": 4,
    "start_time": "2024-08-30T03:07:52.390Z"
   },
   {
    "duration": 3,
    "start_time": "2024-08-30T03:07:52.396Z"
   },
   {
    "duration": 45,
    "start_time": "2024-08-30T03:07:52.401Z"
   },
   {
    "duration": 4,
    "start_time": "2024-08-30T03:07:52.448Z"
   },
   {
    "duration": 4,
    "start_time": "2024-08-30T03:07:52.454Z"
   },
   {
    "duration": 5,
    "start_time": "2024-08-30T03:07:52.459Z"
   },
   {
    "duration": 5,
    "start_time": "2024-08-30T03:07:52.466Z"
   },
   {
    "duration": 2,
    "start_time": "2024-08-30T03:07:52.473Z"
   },
   {
    "duration": 6,
    "start_time": "2024-08-30T03:07:52.477Z"
   },
   {
    "duration": 4,
    "start_time": "2024-08-30T03:07:52.484Z"
   },
   {
    "duration": 53,
    "start_time": "2024-08-30T03:07:52.490Z"
   },
   {
    "duration": 219,
    "start_time": "2024-08-30T03:07:52.545Z"
   },
   {
    "duration": 14,
    "start_time": "2024-08-30T03:07:52.766Z"
   },
   {
    "duration": 10,
    "start_time": "2024-08-30T03:07:52.781Z"
   },
   {
    "duration": 3,
    "start_time": "2024-08-30T03:07:52.794Z"
   },
   {
    "duration": 6,
    "start_time": "2024-08-30T03:07:52.799Z"
   },
   {
    "duration": 3,
    "start_time": "2024-08-30T03:07:52.807Z"
   },
   {
    "duration": 7,
    "start_time": "2024-08-30T03:07:52.844Z"
   },
   {
    "duration": 191,
    "start_time": "2024-08-30T03:07:52.853Z"
   },
   {
    "duration": 2,
    "start_time": "2024-08-30T03:07:53.047Z"
   },
   {
    "duration": 275,
    "start_time": "2024-08-30T03:07:53.051Z"
   },
   {
    "duration": 0,
    "start_time": "2024-08-30T03:07:53.328Z"
   },
   {
    "duration": 1,
    "start_time": "2024-08-30T03:07:53.329Z"
   },
   {
    "duration": 0,
    "start_time": "2024-08-30T03:07:53.344Z"
   },
   {
    "duration": 0,
    "start_time": "2024-08-30T03:07:53.346Z"
   },
   {
    "duration": 14,
    "start_time": "2024-08-30T03:09:28.420Z"
   },
   {
    "duration": 387,
    "start_time": "2024-08-30T03:09:45.238Z"
   },
   {
    "duration": 3,
    "start_time": "2024-08-30T03:10:08.744Z"
   },
   {
    "duration": 5,
    "start_time": "2024-08-30T03:10:24.277Z"
   },
   {
    "duration": 7,
    "start_time": "2024-08-30T03:10:34.032Z"
   },
   {
    "duration": 11,
    "start_time": "2024-08-30T03:10:51.517Z"
   },
   {
    "duration": 7,
    "start_time": "2024-08-30T03:11:54.013Z"
   },
   {
    "duration": 4,
    "start_time": "2024-08-30T03:12:24.158Z"
   },
   {
    "duration": 7,
    "start_time": "2024-08-30T03:12:36.060Z"
   },
   {
    "duration": 8,
    "start_time": "2024-08-30T03:12:54.418Z"
   },
   {
    "duration": 7,
    "start_time": "2024-08-30T03:13:31.016Z"
   },
   {
    "duration": 6,
    "start_time": "2024-08-30T03:16:31.189Z"
   },
   {
    "duration": 8,
    "start_time": "2024-08-30T03:16:57.477Z"
   },
   {
    "duration": 12,
    "start_time": "2024-08-30T03:17:21.496Z"
   },
   {
    "duration": 7,
    "start_time": "2024-08-30T03:19:23.226Z"
   },
   {
    "duration": 8,
    "start_time": "2024-08-30T03:19:25.727Z"
   },
   {
    "duration": 8,
    "start_time": "2024-08-30T03:19:41.508Z"
   },
   {
    "duration": 8,
    "start_time": "2024-08-30T03:19:44.785Z"
   },
   {
    "duration": 7,
    "start_time": "2024-08-30T03:23:32.444Z"
   },
   {
    "duration": 8,
    "start_time": "2024-08-30T03:23:59.099Z"
   },
   {
    "duration": 3,
    "start_time": "2024-08-30T03:25:21.976Z"
   },
   {
    "duration": 4,
    "start_time": "2024-08-30T03:25:37.884Z"
   },
   {
    "duration": 5,
    "start_time": "2024-08-30T03:25:54.612Z"
   },
   {
    "duration": 11,
    "start_time": "2024-08-30T03:28:30.406Z"
   },
   {
    "duration": 9,
    "start_time": "2024-08-30T03:30:29.291Z"
   },
   {
    "duration": 11,
    "start_time": "2024-08-30T03:30:46.912Z"
   },
   {
    "duration": 11,
    "start_time": "2024-08-30T03:30:55.131Z"
   },
   {
    "duration": 10,
    "start_time": "2024-08-30T03:31:23.725Z"
   },
   {
    "duration": 20,
    "start_time": "2024-08-30T03:31:36.243Z"
   },
   {
    "duration": 7,
    "start_time": "2024-08-30T03:31:49.348Z"
   },
   {
    "duration": 9,
    "start_time": "2024-08-30T03:32:03.845Z"
   },
   {
    "duration": 8,
    "start_time": "2024-08-30T03:32:21.732Z"
   },
   {
    "duration": 22,
    "start_time": "2024-08-30T03:47:01.500Z"
   },
   {
    "duration": 21,
    "start_time": "2024-08-30T03:49:47.418Z"
   },
   {
    "duration": 22,
    "start_time": "2024-08-30T03:50:54.626Z"
   },
   {
    "duration": 22,
    "start_time": "2024-08-30T03:51:16.871Z"
   },
   {
    "duration": 8,
    "start_time": "2024-08-30T04:10:43.425Z"
   },
   {
    "duration": 6,
    "start_time": "2024-08-30T04:12:02.977Z"
   },
   {
    "duration": 4,
    "start_time": "2024-08-30T04:16:48.083Z"
   },
   {
    "duration": 6,
    "start_time": "2024-08-30T04:16:56.477Z"
   },
   {
    "duration": 19,
    "start_time": "2024-08-30T04:17:30.785Z"
   },
   {
    "duration": 13,
    "start_time": "2024-08-30T04:17:57.665Z"
   },
   {
    "duration": 7,
    "start_time": "2024-08-30T04:19:07.394Z"
   },
   {
    "duration": 9,
    "start_time": "2024-08-30T04:21:38.440Z"
   },
   {
    "duration": 7,
    "start_time": "2024-08-30T04:21:56.503Z"
   },
   {
    "duration": 16,
    "start_time": "2024-08-30T04:26:12.922Z"
   },
   {
    "duration": 25,
    "start_time": "2024-08-30T04:27:25.462Z"
   },
   {
    "duration": 20,
    "start_time": "2024-08-30T04:27:34.180Z"
   },
   {
    "duration": 215,
    "start_time": "2024-08-30T04:30:02.638Z"
   },
   {
    "duration": 11,
    "start_time": "2024-08-30T04:30:07.496Z"
   },
   {
    "duration": 14,
    "start_time": "2024-08-30T04:30:16.404Z"
   },
   {
    "duration": 14,
    "start_time": "2024-08-30T04:30:26.291Z"
   },
   {
    "duration": 17,
    "start_time": "2024-08-30T04:32:37.909Z"
   },
   {
    "duration": 17,
    "start_time": "2024-08-30T04:33:51.498Z"
   },
   {
    "duration": 12,
    "start_time": "2024-08-30T04:34:22.498Z"
   },
   {
    "duration": 13,
    "start_time": "2024-08-30T04:34:51.439Z"
   },
   {
    "duration": 8,
    "start_time": "2024-08-30T04:35:00.994Z"
   },
   {
    "duration": 6,
    "start_time": "2024-08-30T04:35:09.016Z"
   },
   {
    "duration": 7,
    "start_time": "2024-08-30T04:37:48.123Z"
   },
   {
    "duration": 12,
    "start_time": "2024-08-30T04:37:52.421Z"
   },
   {
    "duration": 9,
    "start_time": "2024-08-30T04:38:38.184Z"
   },
   {
    "duration": 9,
    "start_time": "2024-08-30T04:39:59.400Z"
   },
   {
    "duration": 13,
    "start_time": "2024-08-30T04:41:14.184Z"
   },
   {
    "duration": 40,
    "start_time": "2024-08-30T04:42:57.313Z"
   },
   {
    "duration": 5,
    "start_time": "2024-08-30T04:46:07.982Z"
   },
   {
    "duration": 10,
    "start_time": "2024-08-30T04:46:34.087Z"
   },
   {
    "duration": 14,
    "start_time": "2024-08-30T04:46:58.053Z"
   },
   {
    "duration": 9,
    "start_time": "2024-08-30T04:47:03.323Z"
   },
   {
    "duration": 8,
    "start_time": "2024-08-30T04:47:06.868Z"
   },
   {
    "duration": 13,
    "start_time": "2024-08-30T04:47:09.205Z"
   },
   {
    "duration": 5,
    "start_time": "2024-08-30T04:47:52.234Z"
   },
   {
    "duration": 816,
    "start_time": "2024-08-30T04:48:24.749Z"
   },
   {
    "duration": 24,
    "start_time": "2024-08-30T04:48:25.568Z"
   },
   {
    "duration": 9,
    "start_time": "2024-08-30T04:48:25.594Z"
   },
   {
    "duration": 10,
    "start_time": "2024-08-30T04:48:25.605Z"
   },
   {
    "duration": 33,
    "start_time": "2024-08-30T04:48:25.617Z"
   },
   {
    "duration": 2,
    "start_time": "2024-08-30T04:48:25.652Z"
   },
   {
    "duration": 11,
    "start_time": "2024-08-30T04:48:25.656Z"
   },
   {
    "duration": 3,
    "start_time": "2024-08-30T04:48:25.669Z"
   },
   {
    "duration": 3,
    "start_time": "2024-08-30T04:48:25.674Z"
   },
   {
    "duration": 5,
    "start_time": "2024-08-30T04:48:25.681Z"
   },
   {
    "duration": 6,
    "start_time": "2024-08-30T04:48:25.688Z"
   },
   {
    "duration": 3,
    "start_time": "2024-08-30T04:48:25.696Z"
   },
   {
    "duration": 58,
    "start_time": "2024-08-30T04:48:25.701Z"
   },
   {
    "duration": 4,
    "start_time": "2024-08-30T04:48:25.761Z"
   },
   {
    "duration": 4,
    "start_time": "2024-08-30T04:48:25.766Z"
   },
   {
    "duration": 4,
    "start_time": "2024-08-30T04:48:25.771Z"
   },
   {
    "duration": 4,
    "start_time": "2024-08-30T04:48:25.777Z"
   },
   {
    "duration": 4,
    "start_time": "2024-08-30T04:48:25.783Z"
   },
   {
    "duration": 5,
    "start_time": "2024-08-30T04:48:25.788Z"
   },
   {
    "duration": 49,
    "start_time": "2024-08-30T04:48:25.795Z"
   },
   {
    "duration": 2,
    "start_time": "2024-08-30T04:48:25.846Z"
   },
   {
    "duration": 5,
    "start_time": "2024-08-30T04:48:25.850Z"
   },
   {
    "duration": 4,
    "start_time": "2024-08-30T04:48:25.856Z"
   },
   {
    "duration": 6,
    "start_time": "2024-08-30T04:48:25.862Z"
   },
   {
    "duration": 230,
    "start_time": "2024-08-30T04:48:25.869Z"
   },
   {
    "duration": 13,
    "start_time": "2024-08-30T04:48:26.101Z"
   },
   {
    "duration": 8,
    "start_time": "2024-08-30T04:48:26.116Z"
   },
   {
    "duration": 3,
    "start_time": "2024-08-30T04:48:26.142Z"
   },
   {
    "duration": 7,
    "start_time": "2024-08-30T04:48:26.147Z"
   },
   {
    "duration": 3,
    "start_time": "2024-08-30T04:48:26.156Z"
   },
   {
    "duration": 7,
    "start_time": "2024-08-30T04:48:26.160Z"
   },
   {
    "duration": 199,
    "start_time": "2024-08-30T04:48:26.168Z"
   },
   {
    "duration": 5,
    "start_time": "2024-08-30T04:48:26.369Z"
   },
   {
    "duration": 9,
    "start_time": "2024-08-30T04:48:26.376Z"
   },
   {
    "duration": 5,
    "start_time": "2024-08-30T04:48:26.387Z"
   },
   {
    "duration": 13,
    "start_time": "2024-08-30T04:48:26.393Z"
   },
   {
    "duration": 272,
    "start_time": "2024-08-30T04:48:26.407Z"
   },
   {
    "duration": 6,
    "start_time": "2024-08-30T04:48:26.681Z"
   },
   {
    "duration": 11,
    "start_time": "2024-08-30T04:48:26.689Z"
   },
   {
    "duration": 10,
    "start_time": "2024-08-30T04:48:26.703Z"
   },
   {
    "duration": 277,
    "start_time": "2024-08-30T04:48:26.715Z"
   },
   {
    "duration": 159,
    "start_time": "2024-08-30T04:49:24.997Z"
   },
   {
    "duration": 159,
    "start_time": "2024-08-30T04:49:44.228Z"
   },
   {
    "duration": 12,
    "start_time": "2024-08-30T05:11:47.925Z"
   },
   {
    "duration": 3,
    "start_time": "2024-08-30T05:11:58.532Z"
   },
   {
    "duration": 4,
    "start_time": "2024-08-30T05:12:02.531Z"
   },
   {
    "duration": 5,
    "start_time": "2024-08-30T05:12:14.760Z"
   },
   {
    "duration": 3,
    "start_time": "2024-08-30T05:12:53.420Z"
   },
   {
    "duration": 9,
    "start_time": "2024-08-30T05:13:27.782Z"
   },
   {
    "duration": 18,
    "start_time": "2024-08-30T05:14:04.569Z"
   },
   {
    "duration": 3,
    "start_time": "2024-08-30T05:16:17.859Z"
   },
   {
    "duration": 8,
    "start_time": "2024-08-30T05:23:40.748Z"
   },
   {
    "duration": 8,
    "start_time": "2024-08-30T05:25:06.303Z"
   },
   {
    "duration": 7,
    "start_time": "2024-08-30T05:26:06.230Z"
   },
   {
    "duration": 11,
    "start_time": "2024-08-30T05:26:30.221Z"
   },
   {
    "duration": 11,
    "start_time": "2024-08-30T05:27:03.981Z"
   },
   {
    "duration": 19,
    "start_time": "2024-08-30T05:27:33.613Z"
   },
   {
    "duration": 221,
    "start_time": "2024-08-30T05:32:12.263Z"
   },
   {
    "duration": 14,
    "start_time": "2024-08-30T05:32:32.504Z"
   },
   {
    "duration": 5,
    "start_time": "2024-08-30T05:32:39.338Z"
   },
   {
    "duration": 6,
    "start_time": "2024-08-30T05:32:43.057Z"
   },
   {
    "duration": 9,
    "start_time": "2024-08-30T05:32:44.920Z"
   },
   {
    "duration": 6,
    "start_time": "2024-08-30T05:32:50.667Z"
   },
   {
    "duration": 8,
    "start_time": "2024-08-30T05:33:24.422Z"
   },
   {
    "duration": 5,
    "start_time": "2024-08-30T05:38:13.837Z"
   },
   {
    "duration": 7,
    "start_time": "2024-08-30T05:38:27.458Z"
   },
   {
    "duration": 4,
    "start_time": "2024-08-30T05:38:36.520Z"
   },
   {
    "duration": 5,
    "start_time": "2024-08-30T05:38:47.879Z"
   },
   {
    "duration": 8,
    "start_time": "2024-08-30T05:38:49.756Z"
   },
   {
    "duration": 8,
    "start_time": "2024-08-30T05:38:59.208Z"
   },
   {
    "duration": 284,
    "start_time": "2024-08-30T05:41:52.008Z"
   },
   {
    "duration": 14,
    "start_time": "2024-08-30T05:52:37.514Z"
   },
   {
    "duration": 5,
    "start_time": "2024-08-30T05:52:53.225Z"
   },
   {
    "duration": 20,
    "start_time": "2024-08-30T05:57:04.010Z"
   },
   {
    "duration": 11,
    "start_time": "2024-08-30T05:59:23.432Z"
   },
   {
    "duration": 270,
    "start_time": "2024-08-30T06:01:16.393Z"
   },
   {
    "duration": 12,
    "start_time": "2024-08-30T06:04:14.044Z"
   },
   {
    "duration": 10,
    "start_time": "2024-08-30T06:05:12.481Z"
   },
   {
    "duration": 354,
    "start_time": "2024-08-30T06:07:37.608Z"
   },
   {
    "duration": 279,
    "start_time": "2024-08-30T06:08:44.384Z"
   },
   {
    "duration": 275,
    "start_time": "2024-08-30T06:09:13.022Z"
   },
   {
    "duration": 275,
    "start_time": "2024-08-30T06:09:41.707Z"
   },
   {
    "duration": 174,
    "start_time": "2024-08-30T06:25:22.072Z"
   },
   {
    "duration": 2,
    "start_time": "2024-08-30T06:42:33.675Z"
   },
   {
    "duration": 181,
    "start_time": "2024-08-30T06:53:02.823Z"
   },
   {
    "duration": 11,
    "start_time": "2024-08-30T06:56:35.443Z"
   },
   {
    "duration": 6,
    "start_time": "2024-08-30T06:58:16.828Z"
   },
   {
    "duration": 20,
    "start_time": "2024-08-30T06:58:24.249Z"
   },
   {
    "duration": 12,
    "start_time": "2024-08-30T06:58:38.219Z"
   },
   {
    "duration": 7,
    "start_time": "2024-08-30T07:01:30.171Z"
   },
   {
    "duration": 410,
    "start_time": "2024-08-30T07:02:17.607Z"
   },
   {
    "duration": 5,
    "start_time": "2024-08-30T07:04:18.102Z"
   },
   {
    "duration": 6,
    "start_time": "2024-08-30T07:30:48.983Z"
   },
   {
    "duration": 18,
    "start_time": "2024-08-30T07:32:20.353Z"
   },
   {
    "duration": 17,
    "start_time": "2024-08-30T07:32:33.497Z"
   },
   {
    "duration": 18,
    "start_time": "2024-08-30T07:32:44.626Z"
   },
   {
    "duration": 26,
    "start_time": "2024-08-30T07:35:47.044Z"
   },
   {
    "duration": 25,
    "start_time": "2024-08-30T07:37:19.319Z"
   },
   {
    "duration": 29,
    "start_time": "2024-08-30T07:38:13.207Z"
   },
   {
    "duration": 26,
    "start_time": "2024-08-30T07:38:23.313Z"
   },
   {
    "duration": 28,
    "start_time": "2024-08-30T07:38:41.443Z"
   },
   {
    "duration": 6,
    "start_time": "2024-08-30T07:41:35.588Z"
   },
   {
    "duration": 9,
    "start_time": "2024-08-30T07:41:45.494Z"
   },
   {
    "duration": 229,
    "start_time": "2024-08-30T07:42:24.955Z"
   },
   {
    "duration": 7,
    "start_time": "2024-08-30T07:42:54.437Z"
   },
   {
    "duration": 153,
    "start_time": "2024-08-30T07:43:09.085Z"
   },
   {
    "duration": 6,
    "start_time": "2024-08-30T07:57:43.148Z"
   },
   {
    "duration": 6,
    "start_time": "2024-08-30T07:57:46.191Z"
   },
   {
    "duration": 7,
    "start_time": "2024-08-30T07:57:50.236Z"
   },
   {
    "duration": 13,
    "start_time": "2024-08-30T07:59:00.304Z"
   },
   {
    "duration": 6,
    "start_time": "2024-08-30T07:59:09.480Z"
   },
   {
    "duration": 14,
    "start_time": "2024-08-30T07:59:51.853Z"
   },
   {
    "duration": 6,
    "start_time": "2024-08-30T07:59:58.203Z"
   },
   {
    "duration": 13,
    "start_time": "2024-08-30T08:00:23.815Z"
   },
   {
    "duration": 7,
    "start_time": "2024-08-30T08:00:31.524Z"
   },
   {
    "duration": 13,
    "start_time": "2024-08-30T08:01:25.681Z"
   },
   {
    "duration": 6,
    "start_time": "2024-08-30T08:01:32.719Z"
   },
   {
    "duration": 9,
    "start_time": "2024-08-30T08:02:08.269Z"
   },
   {
    "duration": 10,
    "start_time": "2024-08-30T08:02:21.801Z"
   },
   {
    "duration": 9,
    "start_time": "2024-08-30T08:03:25.829Z"
   },
   {
    "duration": 9,
    "start_time": "2024-08-30T08:03:29.416Z"
   },
   {
    "duration": 8,
    "start_time": "2024-08-30T08:09:15.935Z"
   },
   {
    "duration": 10,
    "start_time": "2024-08-30T08:09:25.186Z"
   },
   {
    "duration": 162,
    "start_time": "2024-08-30T14:52:36.496Z"
   },
   {
    "duration": 2476,
    "start_time": "2024-08-30T14:52:50.470Z"
   },
   {
    "duration": 38,
    "start_time": "2024-08-30T14:52:52.949Z"
   },
   {
    "duration": 8,
    "start_time": "2024-08-30T14:52:52.989Z"
   },
   {
    "duration": 13,
    "start_time": "2024-08-30T14:52:52.999Z"
   },
   {
    "duration": 18,
    "start_time": "2024-08-30T14:52:53.013Z"
   },
   {
    "duration": 2,
    "start_time": "2024-08-30T14:52:53.033Z"
   },
   {
    "duration": 10,
    "start_time": "2024-08-30T14:52:53.037Z"
   },
   {
    "duration": 3,
    "start_time": "2024-08-30T14:52:53.049Z"
   },
   {
    "duration": 4,
    "start_time": "2024-08-30T14:52:53.053Z"
   },
   {
    "duration": 4,
    "start_time": "2024-08-30T14:52:53.060Z"
   },
   {
    "duration": 6,
    "start_time": "2024-08-30T14:52:53.066Z"
   },
   {
    "duration": 41,
    "start_time": "2024-08-30T14:52:53.073Z"
   },
   {
    "duration": 18,
    "start_time": "2024-08-30T14:52:53.115Z"
   },
   {
    "duration": 4,
    "start_time": "2024-08-30T14:52:53.134Z"
   },
   {
    "duration": 5,
    "start_time": "2024-08-30T14:52:53.139Z"
   },
   {
    "duration": 4,
    "start_time": "2024-08-30T14:52:53.145Z"
   },
   {
    "duration": 4,
    "start_time": "2024-08-30T14:52:53.151Z"
   },
   {
    "duration": 4,
    "start_time": "2024-08-30T14:52:53.157Z"
   },
   {
    "duration": 5,
    "start_time": "2024-08-30T14:52:53.162Z"
   },
   {
    "duration": 46,
    "start_time": "2024-08-30T14:52:53.169Z"
   },
   {
    "duration": 2,
    "start_time": "2024-08-30T14:52:53.217Z"
   },
   {
    "duration": 5,
    "start_time": "2024-08-30T14:52:53.220Z"
   },
   {
    "duration": 4,
    "start_time": "2024-08-30T14:52:53.227Z"
   },
   {
    "duration": 4,
    "start_time": "2024-08-30T14:52:53.233Z"
   },
   {
    "duration": 239,
    "start_time": "2024-08-30T14:52:53.238Z"
   },
   {
    "duration": 13,
    "start_time": "2024-08-30T14:52:53.479Z"
   },
   {
    "duration": 21,
    "start_time": "2024-08-30T14:52:53.493Z"
   },
   {
    "duration": 4,
    "start_time": "2024-08-30T14:52:53.519Z"
   },
   {
    "duration": 8,
    "start_time": "2024-08-30T14:52:53.525Z"
   },
   {
    "duration": 4,
    "start_time": "2024-08-30T14:52:53.535Z"
   },
   {
    "duration": 8,
    "start_time": "2024-08-30T14:52:53.541Z"
   },
   {
    "duration": 192,
    "start_time": "2024-08-30T14:52:53.550Z"
   },
   {
    "duration": 5,
    "start_time": "2024-08-30T14:52:53.744Z"
   },
   {
    "duration": 9,
    "start_time": "2024-08-30T14:52:53.750Z"
   },
   {
    "duration": 7,
    "start_time": "2024-08-30T14:52:53.760Z"
   },
   {
    "duration": 13,
    "start_time": "2024-08-30T14:52:53.768Z"
   },
   {
    "duration": 181,
    "start_time": "2024-08-30T14:52:53.811Z"
   },
   {
    "duration": 10,
    "start_time": "2024-08-30T14:52:53.994Z"
   },
   {
    "duration": 6,
    "start_time": "2024-08-30T14:52:54.006Z"
   },
   {
    "duration": 7,
    "start_time": "2024-08-30T14:52:54.014Z"
   },
   {
    "duration": 18,
    "start_time": "2024-08-30T14:52:54.023Z"
   },
   {
    "duration": 6,
    "start_time": "2024-08-30T14:52:54.043Z"
   },
   {
    "duration": 7,
    "start_time": "2024-08-30T14:52:54.050Z"
   },
   {
    "duration": 4,
    "start_time": "2024-08-30T14:52:54.059Z"
   },
   {
    "duration": 8,
    "start_time": "2024-08-30T14:52:54.065Z"
   },
   {
    "duration": 43,
    "start_time": "2024-08-30T14:52:54.075Z"
   },
   {
    "duration": 5,
    "start_time": "2024-08-30T14:52:54.119Z"
   },
   {
    "duration": 232,
    "start_time": "2024-08-30T14:52:54.125Z"
   },
   {
    "duration": 1,
    "start_time": "2024-08-30T14:52:54.359Z"
   },
   {
    "duration": 0,
    "start_time": "2024-08-30T14:52:54.361Z"
   },
   {
    "duration": 0,
    "start_time": "2024-08-30T14:52:54.362Z"
   },
   {
    "duration": 0,
    "start_time": "2024-08-30T14:52:54.364Z"
   },
   {
    "duration": 0,
    "start_time": "2024-08-30T14:52:54.365Z"
   },
   {
    "duration": 0,
    "start_time": "2024-08-30T14:52:54.367Z"
   },
   {
    "duration": 1,
    "start_time": "2024-08-30T14:52:54.368Z"
   },
   {
    "duration": 0,
    "start_time": "2024-08-30T14:52:54.370Z"
   },
   {
    "duration": 0,
    "start_time": "2024-08-30T14:52:54.372Z"
   },
   {
    "duration": 0,
    "start_time": "2024-08-30T14:52:54.373Z"
   },
   {
    "duration": 0,
    "start_time": "2024-08-30T14:52:54.374Z"
   },
   {
    "duration": 0,
    "start_time": "2024-08-30T14:52:54.376Z"
   },
   {
    "duration": 0,
    "start_time": "2024-08-30T14:52:54.377Z"
   },
   {
    "duration": 0,
    "start_time": "2024-08-30T14:52:54.379Z"
   },
   {
    "duration": 0,
    "start_time": "2024-08-30T14:52:54.380Z"
   },
   {
    "duration": 0,
    "start_time": "2024-08-30T14:52:54.412Z"
   },
   {
    "duration": 0,
    "start_time": "2024-08-30T14:52:54.413Z"
   },
   {
    "duration": 0,
    "start_time": "2024-08-30T14:52:54.414Z"
   },
   {
    "duration": 0,
    "start_time": "2024-08-30T14:52:54.415Z"
   },
   {
    "duration": 0,
    "start_time": "2024-08-30T14:52:54.416Z"
   },
   {
    "duration": 0,
    "start_time": "2024-08-30T14:52:54.417Z"
   },
   {
    "duration": 0,
    "start_time": "2024-08-30T14:52:54.418Z"
   },
   {
    "duration": 9,
    "start_time": "2024-08-30T14:52:59.026Z"
   },
   {
    "duration": 8,
    "start_time": "2024-08-30T14:53:24.742Z"
   },
   {
    "duration": 6,
    "start_time": "2024-08-30T14:53:31.519Z"
   },
   {
    "duration": 5,
    "start_time": "2024-08-30T14:54:14.322Z"
   },
   {
    "duration": 8,
    "start_time": "2024-08-30T14:54:27.768Z"
   },
   {
    "duration": 9,
    "start_time": "2024-08-30T14:54:34.219Z"
   },
   {
    "duration": 7,
    "start_time": "2024-08-30T14:55:07.097Z"
   },
   {
    "duration": 8,
    "start_time": "2024-08-30T15:45:37.610Z"
   },
   {
    "duration": 9,
    "start_time": "2024-08-30T15:48:29.573Z"
   },
   {
    "duration": 10,
    "start_time": "2024-08-30T15:48:52.657Z"
   },
   {
    "duration": 9,
    "start_time": "2024-08-30T15:49:42.942Z"
   },
   {
    "duration": 9,
    "start_time": "2024-08-30T15:49:53.614Z"
   },
   {
    "duration": 18,
    "start_time": "2024-08-30T15:50:42.860Z"
   },
   {
    "duration": 8,
    "start_time": "2024-08-30T15:50:53.039Z"
   },
   {
    "duration": 8,
    "start_time": "2024-08-30T15:50:58.790Z"
   },
   {
    "duration": 15,
    "start_time": "2024-08-30T16:11:11.622Z"
   },
   {
    "duration": 71,
    "start_time": "2024-08-30T16:12:15.810Z"
   },
   {
    "duration": 2,
    "start_time": "2024-08-30T16:12:42.571Z"
   },
   {
    "duration": 6,
    "start_time": "2024-08-30T16:12:53.104Z"
   },
   {
    "duration": 2,
    "start_time": "2024-08-30T16:13:05.200Z"
   },
   {
    "duration": 18,
    "start_time": "2024-08-30T16:17:51.823Z"
   },
   {
    "duration": 17,
    "start_time": "2024-08-30T16:19:44.425Z"
   },
   {
    "duration": 6,
    "start_time": "2024-08-30T16:20:01.471Z"
   },
   {
    "duration": 17,
    "start_time": "2024-08-30T16:30:37.236Z"
   },
   {
    "duration": 7,
    "start_time": "2024-08-30T16:31:12.454Z"
   },
   {
    "duration": 10,
    "start_time": "2024-08-30T17:03:03.460Z"
   },
   {
    "duration": 19,
    "start_time": "2024-08-30T17:03:17.086Z"
   },
   {
    "duration": 5,
    "start_time": "2024-08-30T17:33:04.305Z"
   },
   {
    "duration": 10,
    "start_time": "2024-08-30T17:33:23.403Z"
   },
   {
    "duration": 11,
    "start_time": "2024-08-30T17:33:26.700Z"
   },
   {
    "duration": 291,
    "start_time": "2024-08-30T17:33:29.607Z"
   },
   {
    "duration": 851,
    "start_time": "2024-09-02T15:47:16.995Z"
   },
   {
    "duration": 37,
    "start_time": "2024-09-02T15:47:17.848Z"
   },
   {
    "duration": 8,
    "start_time": "2024-09-02T15:47:17.887Z"
   },
   {
    "duration": 11,
    "start_time": "2024-09-02T15:47:17.898Z"
   },
   {
    "duration": 16,
    "start_time": "2024-09-02T15:47:17.911Z"
   },
   {
    "duration": 3,
    "start_time": "2024-09-02T15:47:17.929Z"
   },
   {
    "duration": 39,
    "start_time": "2024-09-02T15:47:17.934Z"
   },
   {
    "duration": 4,
    "start_time": "2024-09-02T15:47:17.975Z"
   },
   {
    "duration": 4,
    "start_time": "2024-09-02T15:47:17.981Z"
   },
   {
    "duration": 5,
    "start_time": "2024-09-02T15:47:17.987Z"
   },
   {
    "duration": 5,
    "start_time": "2024-09-02T15:47:17.994Z"
   },
   {
    "duration": 4,
    "start_time": "2024-09-02T15:47:18.000Z"
   },
   {
    "duration": 18,
    "start_time": "2024-09-02T15:47:18.006Z"
   },
   {
    "duration": 4,
    "start_time": "2024-09-02T15:47:18.026Z"
   },
   {
    "duration": 41,
    "start_time": "2024-09-02T15:47:18.032Z"
   },
   {
    "duration": 5,
    "start_time": "2024-09-02T15:47:18.075Z"
   },
   {
    "duration": 5,
    "start_time": "2024-09-02T15:47:18.082Z"
   },
   {
    "duration": 5,
    "start_time": "2024-09-02T15:47:18.089Z"
   },
   {
    "duration": 5,
    "start_time": "2024-09-02T15:47:18.096Z"
   },
   {
    "duration": 6,
    "start_time": "2024-09-02T15:47:18.103Z"
   },
   {
    "duration": 2,
    "start_time": "2024-09-02T15:47:18.112Z"
   },
   {
    "duration": 5,
    "start_time": "2024-09-02T15:47:18.116Z"
   },
   {
    "duration": 49,
    "start_time": "2024-09-02T15:47:18.123Z"
   },
   {
    "duration": 4,
    "start_time": "2024-09-02T15:47:18.174Z"
   },
   {
    "duration": 211,
    "start_time": "2024-09-02T15:47:18.180Z"
   },
   {
    "duration": 13,
    "start_time": "2024-09-02T15:47:18.393Z"
   },
   {
    "duration": 8,
    "start_time": "2024-09-02T15:47:18.408Z"
   },
   {
    "duration": 4,
    "start_time": "2024-09-02T15:47:18.422Z"
   },
   {
    "duration": 8,
    "start_time": "2024-09-02T15:47:18.428Z"
   },
   {
    "duration": 34,
    "start_time": "2024-09-02T15:47:18.438Z"
   },
   {
    "duration": 8,
    "start_time": "2024-09-02T15:47:18.474Z"
   },
   {
    "duration": 182,
    "start_time": "2024-09-02T15:47:18.484Z"
   },
   {
    "duration": 5,
    "start_time": "2024-09-02T15:47:18.670Z"
   },
   {
    "duration": 8,
    "start_time": "2024-09-02T15:47:18.677Z"
   },
   {
    "duration": 6,
    "start_time": "2024-09-02T15:47:18.686Z"
   },
   {
    "duration": 12,
    "start_time": "2024-09-02T15:47:18.693Z"
   },
   {
    "duration": 268,
    "start_time": "2024-09-02T15:47:18.707Z"
   },
   {
    "duration": 10,
    "start_time": "2024-09-02T15:47:18.976Z"
   },
   {
    "duration": 4,
    "start_time": "2024-09-02T15:47:18.988Z"
   },
   {
    "duration": 6,
    "start_time": "2024-09-02T15:47:18.994Z"
   },
   {
    "duration": 16,
    "start_time": "2024-09-02T15:47:19.002Z"
   },
   {
    "duration": 5,
    "start_time": "2024-09-02T15:47:19.020Z"
   },
   {
    "duration": 7,
    "start_time": "2024-09-02T15:47:19.026Z"
   },
   {
    "duration": 37,
    "start_time": "2024-09-02T15:47:19.035Z"
   },
   {
    "duration": 8,
    "start_time": "2024-09-02T15:47:19.074Z"
   },
   {
    "duration": 5,
    "start_time": "2024-09-02T15:47:19.084Z"
   },
   {
    "duration": 4,
    "start_time": "2024-09-02T15:47:19.091Z"
   },
   {
    "duration": 16,
    "start_time": "2024-09-02T15:47:19.097Z"
   },
   {
    "duration": 5,
    "start_time": "2024-09-02T15:47:19.115Z"
   },
   {
    "duration": 10,
    "start_time": "2024-09-02T15:47:19.122Z"
   },
   {
    "duration": 42,
    "start_time": "2024-09-02T15:47:19.134Z"
   },
   {
    "duration": 303,
    "start_time": "2024-09-02T15:47:19.179Z"
   },
   {
    "duration": 200,
    "start_time": "2024-09-02T15:47:19.483Z"
   },
   {
    "duration": 10,
    "start_time": "2024-09-02T15:47:19.685Z"
   },
   {
    "duration": 12,
    "start_time": "2024-09-02T15:47:19.696Z"
   },
   {
    "duration": 7,
    "start_time": "2024-09-02T15:47:19.710Z"
   },
   {
    "duration": 414,
    "start_time": "2024-09-02T15:47:19.719Z"
   },
   {
    "duration": 5,
    "start_time": "2024-09-02T15:47:20.134Z"
   },
   {
    "duration": 35,
    "start_time": "2024-09-02T15:47:20.141Z"
   },
   {
    "duration": 7,
    "start_time": "2024-09-02T15:47:20.178Z"
   },
   {
    "duration": 173,
    "start_time": "2024-09-02T15:47:20.186Z"
   },
   {
    "duration": 17,
    "start_time": "2024-09-02T15:47:20.361Z"
   },
   {
    "duration": 8,
    "start_time": "2024-09-02T15:47:20.380Z"
   },
   {
    "duration": 8,
    "start_time": "2024-09-02T15:47:20.390Z"
   },
   {
    "duration": 8,
    "start_time": "2024-09-02T15:47:20.399Z"
   },
   {
    "duration": 8,
    "start_time": "2024-09-02T15:47:20.409Z"
   },
   {
    "duration": 7,
    "start_time": "2024-09-02T15:47:20.418Z"
   },
   {
    "duration": 44,
    "start_time": "2024-09-02T15:47:20.427Z"
   },
   {
    "duration": 8,
    "start_time": "2024-09-02T15:47:20.472Z"
   },
   {
    "duration": 7,
    "start_time": "2024-09-02T15:47:20.482Z"
   },
   {
    "duration": 6,
    "start_time": "2024-09-02T15:47:20.491Z"
   },
   {
    "duration": 5,
    "start_time": "2024-09-02T15:47:20.499Z"
   },
   {
    "duration": 3,
    "start_time": "2024-09-02T15:52:06.881Z"
   },
   {
    "duration": 27,
    "start_time": "2024-09-02T15:52:06.886Z"
   },
   {
    "duration": 7,
    "start_time": "2024-09-02T15:52:06.915Z"
   },
   {
    "duration": 12,
    "start_time": "2024-09-02T15:52:06.924Z"
   },
   {
    "duration": 47,
    "start_time": "2024-09-02T15:52:06.939Z"
   },
   {
    "duration": 3,
    "start_time": "2024-09-02T15:52:06.987Z"
   },
   {
    "duration": 11,
    "start_time": "2024-09-02T15:52:06.992Z"
   },
   {
    "duration": 4,
    "start_time": "2024-09-02T15:52:07.005Z"
   },
   {
    "duration": 4,
    "start_time": "2024-09-02T15:52:07.011Z"
   },
   {
    "duration": 6,
    "start_time": "2024-09-02T15:52:07.016Z"
   },
   {
    "duration": 47,
    "start_time": "2024-09-02T15:52:07.024Z"
   },
   {
    "duration": 4,
    "start_time": "2024-09-02T15:52:07.073Z"
   },
   {
    "duration": 18,
    "start_time": "2024-09-02T15:52:07.079Z"
   },
   {
    "duration": 3,
    "start_time": "2024-09-02T15:52:07.102Z"
   },
   {
    "duration": 5,
    "start_time": "2024-09-02T15:52:07.107Z"
   },
   {
    "duration": 4,
    "start_time": "2024-09-02T15:52:07.114Z"
   },
   {
    "duration": 5,
    "start_time": "2024-09-02T15:52:07.119Z"
   },
   {
    "duration": 4,
    "start_time": "2024-09-02T15:52:07.126Z"
   },
   {
    "duration": 15,
    "start_time": "2024-09-02T15:52:07.170Z"
   },
   {
    "duration": 6,
    "start_time": "2024-09-02T15:52:07.187Z"
   },
   {
    "duration": 2,
    "start_time": "2024-09-02T15:52:07.195Z"
   },
   {
    "duration": 5,
    "start_time": "2024-09-02T15:52:07.199Z"
   },
   {
    "duration": 4,
    "start_time": "2024-09-02T15:52:07.206Z"
   },
   {
    "duration": 4,
    "start_time": "2024-09-02T15:52:07.211Z"
   },
   {
    "duration": 232,
    "start_time": "2024-09-02T15:52:07.216Z"
   },
   {
    "duration": 22,
    "start_time": "2024-09-02T15:52:07.450Z"
   },
   {
    "duration": 10,
    "start_time": "2024-09-02T15:52:07.473Z"
   },
   {
    "duration": 4,
    "start_time": "2024-09-02T15:52:07.485Z"
   },
   {
    "duration": 8,
    "start_time": "2024-09-02T15:52:07.490Z"
   },
   {
    "duration": 4,
    "start_time": "2024-09-02T15:52:07.500Z"
   },
   {
    "duration": 6,
    "start_time": "2024-09-02T15:52:07.507Z"
   },
   {
    "duration": 215,
    "start_time": "2024-09-02T15:52:07.515Z"
   },
   {
    "duration": 7,
    "start_time": "2024-09-02T15:52:07.732Z"
   },
   {
    "duration": 9,
    "start_time": "2024-09-02T15:52:07.741Z"
   },
   {
    "duration": 7,
    "start_time": "2024-09-02T15:52:07.770Z"
   },
   {
    "duration": 14,
    "start_time": "2024-09-02T15:52:07.779Z"
   },
   {
    "duration": 181,
    "start_time": "2024-09-02T15:52:07.796Z"
   },
   {
    "duration": 13,
    "start_time": "2024-09-02T15:52:07.980Z"
   },
   {
    "duration": 11,
    "start_time": "2024-09-02T15:52:07.995Z"
   },
   {
    "duration": 12,
    "start_time": "2024-09-02T15:52:08.007Z"
   },
   {
    "duration": 24,
    "start_time": "2024-09-02T15:52:08.026Z"
   },
   {
    "duration": 8,
    "start_time": "2024-09-02T15:52:08.070Z"
   },
   {
    "duration": 9,
    "start_time": "2024-09-02T15:52:08.079Z"
   },
   {
    "duration": 5,
    "start_time": "2024-09-02T15:52:08.089Z"
   },
   {
    "duration": 10,
    "start_time": "2024-09-02T15:52:08.096Z"
   },
   {
    "duration": 6,
    "start_time": "2024-09-02T15:52:08.107Z"
   },
   {
    "duration": 6,
    "start_time": "2024-09-02T15:52:08.115Z"
   },
   {
    "duration": 127,
    "start_time": "2024-09-02T15:52:08.123Z"
   },
   {
    "duration": 5,
    "start_time": "2024-09-02T15:52:08.251Z"
   },
   {
    "duration": 20,
    "start_time": "2024-09-02T15:52:08.258Z"
   },
   {
    "duration": 11,
    "start_time": "2024-09-02T15:52:08.280Z"
   },
   {
    "duration": 321,
    "start_time": "2024-09-02T15:52:08.293Z"
   },
   {
    "duration": 209,
    "start_time": "2024-09-02T15:52:08.618Z"
   },
   {
    "duration": 11,
    "start_time": "2024-09-02T15:52:08.829Z"
   },
   {
    "duration": 30,
    "start_time": "2024-09-02T15:52:08.842Z"
   },
   {
    "duration": 7,
    "start_time": "2024-09-02T15:52:08.874Z"
   },
   {
    "duration": 387,
    "start_time": "2024-09-02T15:52:08.883Z"
   },
   {
    "duration": 7,
    "start_time": "2024-09-02T15:52:09.272Z"
   },
   {
    "duration": 36,
    "start_time": "2024-09-02T15:52:09.281Z"
   },
   {
    "duration": 6,
    "start_time": "2024-09-02T15:52:09.320Z"
   },
   {
    "duration": 184,
    "start_time": "2024-09-02T15:52:09.328Z"
   },
   {
    "duration": 10,
    "start_time": "2024-09-02T15:52:09.514Z"
   },
   {
    "duration": 8,
    "start_time": "2024-09-02T15:52:09.526Z"
   },
   {
    "duration": 10,
    "start_time": "2024-09-02T15:52:09.535Z"
   },
   {
    "duration": 8,
    "start_time": "2024-09-02T15:52:09.569Z"
   },
   {
    "duration": 8,
    "start_time": "2024-09-02T15:52:09.579Z"
   },
   {
    "duration": 11,
    "start_time": "2024-09-02T15:52:09.588Z"
   },
   {
    "duration": 9,
    "start_time": "2024-09-02T15:52:09.600Z"
   },
   {
    "duration": 9,
    "start_time": "2024-09-02T15:52:09.610Z"
   },
   {
    "duration": 11,
    "start_time": "2024-09-02T15:52:09.620Z"
   },
   {
    "duration": 7,
    "start_time": "2024-09-02T15:52:09.669Z"
   },
   {
    "duration": 6,
    "start_time": "2024-09-02T15:52:09.677Z"
   },
   {
    "duration": 9,
    "start_time": "2024-09-02T15:52:36.694Z"
   },
   {
    "duration": 158,
    "start_time": "2024-09-03T02:22:35.323Z"
   },
   {
    "duration": 12,
    "start_time": "2024-09-03T02:22:43.170Z"
   },
   {
    "duration": 11,
    "start_time": "2024-09-03T02:22:54.007Z"
   },
   {
    "duration": 2521,
    "start_time": "2024-09-03T02:23:06.688Z"
   },
   {
    "duration": 40,
    "start_time": "2024-09-03T02:23:09.211Z"
   },
   {
    "duration": 12,
    "start_time": "2024-09-03T02:23:09.254Z"
   },
   {
    "duration": 15,
    "start_time": "2024-09-03T02:23:09.269Z"
   },
   {
    "duration": 25,
    "start_time": "2024-09-03T02:23:09.286Z"
   },
   {
    "duration": 3,
    "start_time": "2024-09-03T02:23:09.313Z"
   },
   {
    "duration": 38,
    "start_time": "2024-09-03T02:23:09.318Z"
   },
   {
    "duration": 4,
    "start_time": "2024-09-03T02:23:09.358Z"
   },
   {
    "duration": 3,
    "start_time": "2024-09-03T02:23:09.364Z"
   },
   {
    "duration": 4,
    "start_time": "2024-09-03T02:23:09.371Z"
   },
   {
    "duration": 9,
    "start_time": "2024-09-03T02:23:09.377Z"
   },
   {
    "duration": 5,
    "start_time": "2024-09-03T02:23:09.388Z"
   },
   {
    "duration": 18,
    "start_time": "2024-09-03T02:23:09.395Z"
   },
   {
    "duration": 4,
    "start_time": "2024-09-03T02:23:09.443Z"
   },
   {
    "duration": 4,
    "start_time": "2024-09-03T02:23:09.449Z"
   },
   {
    "duration": 5,
    "start_time": "2024-09-03T02:23:09.454Z"
   },
   {
    "duration": 5,
    "start_time": "2024-09-03T02:23:09.460Z"
   },
   {
    "duration": 4,
    "start_time": "2024-09-03T02:23:09.467Z"
   },
   {
    "duration": 4,
    "start_time": "2024-09-03T02:23:09.473Z"
   },
   {
    "duration": 4,
    "start_time": "2024-09-03T02:23:09.479Z"
   },
   {
    "duration": 2,
    "start_time": "2024-09-03T02:23:09.485Z"
   },
   {
    "duration": 55,
    "start_time": "2024-09-03T02:23:09.489Z"
   },
   {
    "duration": 7,
    "start_time": "2024-09-03T02:23:09.546Z"
   },
   {
    "duration": 4,
    "start_time": "2024-09-03T02:23:09.555Z"
   },
   {
    "duration": 267,
    "start_time": "2024-09-03T02:23:09.562Z"
   },
   {
    "duration": 21,
    "start_time": "2024-09-03T02:23:09.830Z"
   },
   {
    "duration": 11,
    "start_time": "2024-09-03T02:23:09.855Z"
   },
   {
    "duration": 5,
    "start_time": "2024-09-03T02:23:09.873Z"
   },
   {
    "duration": 7,
    "start_time": "2024-09-03T02:23:09.880Z"
   },
   {
    "duration": 4,
    "start_time": "2024-09-03T02:23:09.888Z"
   },
   {
    "duration": 9,
    "start_time": "2024-09-03T02:23:09.894Z"
   },
   {
    "duration": 228,
    "start_time": "2024-09-03T02:23:09.904Z"
   },
   {
    "duration": 12,
    "start_time": "2024-09-03T02:23:10.134Z"
   },
   {
    "duration": 9,
    "start_time": "2024-09-03T02:23:10.148Z"
   },
   {
    "duration": 5,
    "start_time": "2024-09-03T02:23:10.159Z"
   },
   {
    "duration": 13,
    "start_time": "2024-09-03T02:23:10.166Z"
   },
   {
    "duration": 225,
    "start_time": "2024-09-03T02:23:10.180Z"
   },
   {
    "duration": 11,
    "start_time": "2024-09-03T02:23:10.407Z"
   },
   {
    "duration": 8,
    "start_time": "2024-09-03T02:23:10.420Z"
   },
   {
    "duration": 7,
    "start_time": "2024-09-03T02:23:10.429Z"
   },
   {
    "duration": 18,
    "start_time": "2024-09-03T02:23:10.437Z"
   },
   {
    "duration": 7,
    "start_time": "2024-09-03T02:23:10.457Z"
   },
   {
    "duration": 6,
    "start_time": "2024-09-03T02:23:10.465Z"
   },
   {
    "duration": 4,
    "start_time": "2024-09-03T02:23:10.473Z"
   },
   {
    "duration": 15,
    "start_time": "2024-09-03T02:23:10.478Z"
   },
   {
    "duration": 7,
    "start_time": "2024-09-03T02:23:10.494Z"
   },
   {
    "duration": 11,
    "start_time": "2024-09-03T02:23:10.503Z"
   },
   {
    "duration": 50,
    "start_time": "2024-09-03T02:23:10.516Z"
   },
   {
    "duration": 5,
    "start_time": "2024-09-03T02:23:10.568Z"
   },
   {
    "duration": 9,
    "start_time": "2024-09-03T02:23:10.575Z"
   },
   {
    "duration": 10,
    "start_time": "2024-09-03T02:23:10.585Z"
   },
   {
    "duration": 326,
    "start_time": "2024-09-03T02:23:10.597Z"
   },
   {
    "duration": 259,
    "start_time": "2024-09-03T02:23:10.926Z"
   },
   {
    "duration": 10,
    "start_time": "2024-09-03T02:23:11.187Z"
   },
   {
    "duration": 12,
    "start_time": "2024-09-03T02:23:11.199Z"
   },
   {
    "duration": 7,
    "start_time": "2024-09-03T02:23:11.213Z"
   },
   {
    "duration": 380,
    "start_time": "2024-09-03T02:23:11.244Z"
   },
   {
    "duration": 17,
    "start_time": "2024-09-03T02:23:11.626Z"
   },
   {
    "duration": 27,
    "start_time": "2024-09-03T02:23:11.644Z"
   },
   {
    "duration": 5,
    "start_time": "2024-09-03T02:23:11.673Z"
   },
   {
    "duration": 175,
    "start_time": "2024-09-03T02:23:11.680Z"
   },
   {
    "duration": 9,
    "start_time": "2024-09-03T02:23:11.858Z"
   },
   {
    "duration": 9,
    "start_time": "2024-09-03T02:23:11.868Z"
   },
   {
    "duration": 8,
    "start_time": "2024-09-03T02:23:11.878Z"
   },
   {
    "duration": 8,
    "start_time": "2024-09-03T02:23:11.888Z"
   },
   {
    "duration": 7,
    "start_time": "2024-09-03T02:23:11.898Z"
   },
   {
    "duration": 45,
    "start_time": "2024-09-03T02:23:11.906Z"
   },
   {
    "duration": 8,
    "start_time": "2024-09-03T02:23:11.953Z"
   },
   {
    "duration": 8,
    "start_time": "2024-09-03T02:23:11.963Z"
   },
   {
    "duration": 7,
    "start_time": "2024-09-03T02:23:11.972Z"
   },
   {
    "duration": 6,
    "start_time": "2024-09-03T02:23:11.980Z"
   },
   {
    "duration": 6,
    "start_time": "2024-09-03T02:23:11.988Z"
   },
   {
    "duration": 21,
    "start_time": "2024-09-03T02:53:28.275Z"
   },
   {
    "duration": 157,
    "start_time": "2024-09-06T03:23:45.004Z"
   },
   {
    "duration": 2587,
    "start_time": "2024-09-06T03:23:53.740Z"
   },
   {
    "duration": 40,
    "start_time": "2024-09-06T03:23:56.329Z"
   },
   {
    "duration": 10,
    "start_time": "2024-09-06T03:23:56.370Z"
   },
   {
    "duration": 11,
    "start_time": "2024-09-06T03:23:56.381Z"
   },
   {
    "duration": 25,
    "start_time": "2024-09-06T03:23:56.394Z"
   },
   {
    "duration": 2,
    "start_time": "2024-09-06T03:23:56.421Z"
   },
   {
    "duration": 10,
    "start_time": "2024-09-06T03:23:56.425Z"
   },
   {
    "duration": 4,
    "start_time": "2024-09-06T03:23:56.437Z"
   },
   {
    "duration": 4,
    "start_time": "2024-09-06T03:23:56.442Z"
   },
   {
    "duration": 6,
    "start_time": "2024-09-06T03:23:56.448Z"
   },
   {
    "duration": 6,
    "start_time": "2024-09-06T03:23:56.455Z"
   },
   {
    "duration": 3,
    "start_time": "2024-09-06T03:23:56.462Z"
   },
   {
    "duration": 258,
    "start_time": "2024-09-06T03:23:56.467Z"
   },
   {
    "duration": 0,
    "start_time": "2024-09-06T03:23:56.728Z"
   },
   {
    "duration": 0,
    "start_time": "2024-09-06T03:23:56.730Z"
   },
   {
    "duration": 0,
    "start_time": "2024-09-06T03:23:56.732Z"
   },
   {
    "duration": 0,
    "start_time": "2024-09-06T03:23:56.733Z"
   },
   {
    "duration": 0,
    "start_time": "2024-09-06T03:23:56.735Z"
   },
   {
    "duration": 0,
    "start_time": "2024-09-06T03:23:56.736Z"
   },
   {
    "duration": 0,
    "start_time": "2024-09-06T03:23:56.738Z"
   },
   {
    "duration": 0,
    "start_time": "2024-09-06T03:23:56.739Z"
   },
   {
    "duration": 0,
    "start_time": "2024-09-06T03:23:56.740Z"
   },
   {
    "duration": 0,
    "start_time": "2024-09-06T03:23:56.741Z"
   },
   {
    "duration": 0,
    "start_time": "2024-09-06T03:23:56.743Z"
   },
   {
    "duration": 0,
    "start_time": "2024-09-06T03:23:56.745Z"
   },
   {
    "duration": 0,
    "start_time": "2024-09-06T03:23:56.746Z"
   },
   {
    "duration": 0,
    "start_time": "2024-09-06T03:23:56.748Z"
   },
   {
    "duration": 0,
    "start_time": "2024-09-06T03:23:56.749Z"
   },
   {
    "duration": 0,
    "start_time": "2024-09-06T03:23:56.751Z"
   },
   {
    "duration": 0,
    "start_time": "2024-09-06T03:23:56.753Z"
   },
   {
    "duration": 0,
    "start_time": "2024-09-06T03:23:56.754Z"
   },
   {
    "duration": 0,
    "start_time": "2024-09-06T03:23:56.756Z"
   },
   {
    "duration": 0,
    "start_time": "2024-09-06T03:23:56.757Z"
   },
   {
    "duration": 0,
    "start_time": "2024-09-06T03:23:56.759Z"
   },
   {
    "duration": 0,
    "start_time": "2024-09-06T03:23:56.808Z"
   },
   {
    "duration": 0,
    "start_time": "2024-09-06T03:23:56.810Z"
   },
   {
    "duration": 0,
    "start_time": "2024-09-06T03:23:56.811Z"
   },
   {
    "duration": 0,
    "start_time": "2024-09-06T03:23:56.814Z"
   },
   {
    "duration": 0,
    "start_time": "2024-09-06T03:23:56.815Z"
   },
   {
    "duration": 0,
    "start_time": "2024-09-06T03:23:56.817Z"
   },
   {
    "duration": 0,
    "start_time": "2024-09-06T03:23:56.818Z"
   },
   {
    "duration": 0,
    "start_time": "2024-09-06T03:23:56.819Z"
   },
   {
    "duration": 0,
    "start_time": "2024-09-06T03:23:56.820Z"
   },
   {
    "duration": 0,
    "start_time": "2024-09-06T03:23:56.822Z"
   },
   {
    "duration": 0,
    "start_time": "2024-09-06T03:23:56.824Z"
   },
   {
    "duration": 0,
    "start_time": "2024-09-06T03:23:56.825Z"
   },
   {
    "duration": 0,
    "start_time": "2024-09-06T03:23:56.828Z"
   },
   {
    "duration": 0,
    "start_time": "2024-09-06T03:23:56.829Z"
   },
   {
    "duration": 0,
    "start_time": "2024-09-06T03:23:56.830Z"
   },
   {
    "duration": 0,
    "start_time": "2024-09-06T03:23:56.831Z"
   },
   {
    "duration": 0,
    "start_time": "2024-09-06T03:23:56.833Z"
   },
   {
    "duration": 0,
    "start_time": "2024-09-06T03:23:56.834Z"
   },
   {
    "duration": 0,
    "start_time": "2024-09-06T03:23:56.835Z"
   },
   {
    "duration": 0,
    "start_time": "2024-09-06T03:23:56.837Z"
   },
   {
    "duration": 0,
    "start_time": "2024-09-06T03:23:56.839Z"
   },
   {
    "duration": 0,
    "start_time": "2024-09-06T03:23:56.840Z"
   },
   {
    "duration": 0,
    "start_time": "2024-09-06T03:23:56.842Z"
   },
   {
    "duration": 0,
    "start_time": "2024-09-06T03:23:56.843Z"
   },
   {
    "duration": 0,
    "start_time": "2024-09-06T03:23:56.844Z"
   },
   {
    "duration": 0,
    "start_time": "2024-09-06T03:23:56.846Z"
   },
   {
    "duration": 0,
    "start_time": "2024-09-06T03:23:56.847Z"
   },
   {
    "duration": 0,
    "start_time": "2024-09-06T03:23:56.849Z"
   },
   {
    "duration": 0,
    "start_time": "2024-09-06T03:23:56.850Z"
   },
   {
    "duration": 0,
    "start_time": "2024-09-06T03:23:56.851Z"
   },
   {
    "duration": 0,
    "start_time": "2024-09-06T03:23:56.910Z"
   },
   {
    "duration": 0,
    "start_time": "2024-09-06T03:23:56.911Z"
   },
   {
    "duration": 0,
    "start_time": "2024-09-06T03:23:56.912Z"
   },
   {
    "duration": 0,
    "start_time": "2024-09-06T03:23:56.913Z"
   },
   {
    "duration": 0,
    "start_time": "2024-09-06T03:23:56.914Z"
   },
   {
    "duration": 0,
    "start_time": "2024-09-06T03:23:56.916Z"
   },
   {
    "duration": 0,
    "start_time": "2024-09-06T03:23:56.917Z"
   },
   {
    "duration": 0,
    "start_time": "2024-09-06T03:23:56.918Z"
   },
   {
    "duration": 0,
    "start_time": "2024-09-06T03:23:56.919Z"
   },
   {
    "duration": 4,
    "start_time": "2024-09-06T03:24:24.780Z"
   },
   {
    "duration": 6,
    "start_time": "2024-09-06T03:24:35.330Z"
   },
   {
    "duration": 926,
    "start_time": "2024-09-06T03:32:25.928Z"
   },
   {
    "duration": 4,
    "start_time": "2024-09-06T03:35:01.648Z"
   },
   {
    "duration": 4,
    "start_time": "2024-09-06T03:35:06.356Z"
   },
   {
    "duration": 294,
    "start_time": "2024-09-06T03:35:09.389Z"
   },
   {
    "duration": 4,
    "start_time": "2024-09-06T03:35:35.279Z"
   },
   {
    "duration": 16,
    "start_time": "2024-09-06T03:35:57.331Z"
   },
   {
    "duration": 5,
    "start_time": "2024-09-06T03:37:19.771Z"
   },
   {
    "duration": 4,
    "start_time": "2024-09-06T03:42:17.156Z"
   },
   {
    "duration": 5,
    "start_time": "2024-09-06T03:42:25.659Z"
   },
   {
    "duration": 6,
    "start_time": "2024-09-06T03:42:33.477Z"
   },
   {
    "duration": 6,
    "start_time": "2024-09-06T03:43:17.561Z"
   },
   {
    "duration": 7,
    "start_time": "2024-09-06T03:43:29.720Z"
   },
   {
    "duration": 88,
    "start_time": "2024-09-06T03:45:24.966Z"
   },
   {
    "duration": 18,
    "start_time": "2024-09-06T03:49:55.947Z"
   },
   {
    "duration": 5,
    "start_time": "2024-09-06T03:50:00.282Z"
   },
   {
    "duration": 5,
    "start_time": "2024-09-06T03:50:03.572Z"
   },
   {
    "duration": 4,
    "start_time": "2024-09-06T03:50:07.999Z"
   },
   {
    "duration": 4,
    "start_time": "2024-09-06T03:50:22.308Z"
   },
   {
    "duration": 4,
    "start_time": "2024-09-06T03:51:13.028Z"
   },
   {
    "duration": 4,
    "start_time": "2024-09-06T03:51:16.925Z"
   },
   {
    "duration": 19,
    "start_time": "2024-09-06T03:52:11.441Z"
   },
   {
    "duration": 4,
    "start_time": "2024-09-06T03:53:46.211Z"
   },
   {
    "duration": 4,
    "start_time": "2024-09-06T03:53:52.945Z"
   },
   {
    "duration": 4,
    "start_time": "2024-09-06T03:54:08.613Z"
   },
   {
    "duration": 4,
    "start_time": "2024-09-06T03:54:11.182Z"
   },
   {
    "duration": 17,
    "start_time": "2024-09-06T03:54:15.659Z"
   },
   {
    "duration": 4,
    "start_time": "2024-09-06T03:55:42.565Z"
   },
   {
    "duration": 5,
    "start_time": "2024-09-06T03:55:46.060Z"
   },
   {
    "duration": 4,
    "start_time": "2024-09-06T03:56:01.430Z"
   },
   {
    "duration": 5,
    "start_time": "2024-09-06T03:56:08.967Z"
   },
   {
    "duration": 3,
    "start_time": "2024-09-06T03:56:52.653Z"
   },
   {
    "duration": 14,
    "start_time": "2024-09-06T03:57:08.320Z"
   },
   {
    "duration": 12,
    "start_time": "2024-09-06T03:57:31.103Z"
   },
   {
    "duration": 7,
    "start_time": "2024-09-06T03:57:51.415Z"
   },
   {
    "duration": 4,
    "start_time": "2024-09-06T03:58:36.403Z"
   },
   {
    "duration": 5,
    "start_time": "2024-09-06T03:58:41.880Z"
   },
   {
    "duration": 3,
    "start_time": "2024-09-06T04:01:14.660Z"
   },
   {
    "duration": 7,
    "start_time": "2024-09-06T04:01:23.227Z"
   },
   {
    "duration": 381,
    "start_time": "2024-09-06T04:09:23.893Z"
   },
   {
    "duration": 5,
    "start_time": "2024-09-06T04:09:29.090Z"
   },
   {
    "duration": 5,
    "start_time": "2024-09-06T04:09:49.169Z"
   },
   {
    "duration": 6,
    "start_time": "2024-09-06T04:09:51.939Z"
   },
   {
    "duration": 7,
    "start_time": "2024-09-06T04:10:41.084Z"
   },
   {
    "duration": 13,
    "start_time": "2024-09-06T04:11:24.216Z"
   },
   {
    "duration": 193,
    "start_time": "2024-09-06T04:11:42.420Z"
   },
   {
    "duration": 16,
    "start_time": "2024-09-06T04:14:19.939Z"
   },
   {
    "duration": 14,
    "start_time": "2024-09-06T04:14:23.940Z"
   },
   {
    "duration": 10,
    "start_time": "2024-09-06T04:14:26.993Z"
   },
   {
    "duration": 4,
    "start_time": "2024-09-06T04:14:32.182Z"
   },
   {
    "duration": 7,
    "start_time": "2024-09-06T04:14:35.956Z"
   },
   {
    "duration": 7,
    "start_time": "2024-09-06T04:14:43.348Z"
   },
   {
    "duration": 8,
    "start_time": "2024-09-06T04:14:48.270Z"
   },
   {
    "duration": 186,
    "start_time": "2024-09-06T04:14:51.650Z"
   },
   {
    "duration": 6,
    "start_time": "2024-09-06T04:15:26.678Z"
   },
   {
    "duration": 7,
    "start_time": "2024-09-06T04:15:45.488Z"
   },
   {
    "duration": 214,
    "start_time": "2024-09-06T04:16:02.725Z"
   },
   {
    "duration": 5,
    "start_time": "2024-09-06T04:16:38.800Z"
   },
   {
    "duration": 10,
    "start_time": "2024-09-06T04:16:44.250Z"
   },
   {
    "duration": 9,
    "start_time": "2024-09-06T04:16:49.158Z"
   },
   {
    "duration": 13,
    "start_time": "2024-09-06T04:16:54.606Z"
   },
   {
    "duration": 157,
    "start_time": "2024-09-06T04:16:58.671Z"
   },
   {
    "duration": 5,
    "start_time": "2024-09-06T04:17:09.987Z"
   },
   {
    "duration": 732,
    "start_time": "2024-09-06T04:18:57.811Z"
   },
   {
    "duration": 167,
    "start_time": "2024-09-06T04:19:37.272Z"
   },
   {
    "duration": 282,
    "start_time": "2024-09-06T04:19:49.453Z"
   },
   {
    "duration": 851,
    "start_time": "2024-09-06T04:21:26.869Z"
   },
   {
    "duration": 27,
    "start_time": "2024-09-06T04:21:27.722Z"
   },
   {
    "duration": 9,
    "start_time": "2024-09-06T04:21:27.750Z"
   },
   {
    "duration": 16,
    "start_time": "2024-09-06T04:21:27.761Z"
   },
   {
    "duration": 35,
    "start_time": "2024-09-06T04:21:27.779Z"
   },
   {
    "duration": 3,
    "start_time": "2024-09-06T04:21:27.816Z"
   },
   {
    "duration": 13,
    "start_time": "2024-09-06T04:21:27.821Z"
   },
   {
    "duration": 4,
    "start_time": "2024-09-06T04:21:27.836Z"
   },
   {
    "duration": 5,
    "start_time": "2024-09-06T04:21:27.842Z"
   },
   {
    "duration": 4,
    "start_time": "2024-09-06T04:21:27.850Z"
   },
   {
    "duration": 7,
    "start_time": "2024-09-06T04:21:27.856Z"
   },
   {
    "duration": 4,
    "start_time": "2024-09-06T04:21:27.865Z"
   },
   {
    "duration": 8,
    "start_time": "2024-09-06T04:21:27.910Z"
   },
   {
    "duration": 4,
    "start_time": "2024-09-06T04:21:27.920Z"
   },
   {
    "duration": 18,
    "start_time": "2024-09-06T04:21:27.925Z"
   },
   {
    "duration": 4,
    "start_time": "2024-09-06T04:21:27.945Z"
   },
   {
    "duration": 6,
    "start_time": "2024-09-06T04:21:27.951Z"
   },
   {
    "duration": 4,
    "start_time": "2024-09-06T04:21:27.959Z"
   },
   {
    "duration": 4,
    "start_time": "2024-09-06T04:21:27.965Z"
   },
   {
    "duration": 51,
    "start_time": "2024-09-06T04:21:27.971Z"
   },
   {
    "duration": 11,
    "start_time": "2024-09-06T04:21:28.024Z"
   },
   {
    "duration": 9,
    "start_time": "2024-09-06T04:21:28.037Z"
   },
   {
    "duration": 5,
    "start_time": "2024-09-06T04:21:28.048Z"
   },
   {
    "duration": 8,
    "start_time": "2024-09-06T04:21:28.055Z"
   },
   {
    "duration": 6,
    "start_time": "2024-09-06T04:21:28.066Z"
   },
   {
    "duration": 41,
    "start_time": "2024-09-06T04:21:28.074Z"
   },
   {
    "duration": 15,
    "start_time": "2024-09-06T04:21:28.118Z"
   },
   {
    "duration": 246,
    "start_time": "2024-09-06T04:21:28.139Z"
   },
   {
    "duration": 2,
    "start_time": "2024-09-06T04:21:28.388Z"
   },
   {
    "duration": 7,
    "start_time": "2024-09-06T04:21:28.392Z"
   },
   {
    "duration": 7,
    "start_time": "2024-09-06T04:21:28.402Z"
   },
   {
    "duration": 5,
    "start_time": "2024-09-06T04:21:28.411Z"
   },
   {
    "duration": 218,
    "start_time": "2024-09-06T04:21:28.418Z"
   },
   {
    "duration": 13,
    "start_time": "2024-09-06T04:21:28.638Z"
   },
   {
    "duration": 10,
    "start_time": "2024-09-06T04:21:28.653Z"
   },
   {
    "duration": 5,
    "start_time": "2024-09-06T04:21:28.665Z"
   },
   {
    "duration": 37,
    "start_time": "2024-09-06T04:21:28.672Z"
   },
   {
    "duration": 4,
    "start_time": "2024-09-06T04:21:28.711Z"
   },
   {
    "duration": 8,
    "start_time": "2024-09-06T04:21:28.717Z"
   },
   {
    "duration": 284,
    "start_time": "2024-09-06T04:21:28.727Z"
   },
   {
    "duration": 6,
    "start_time": "2024-09-06T04:21:29.013Z"
   },
   {
    "duration": 261,
    "start_time": "2024-09-06T04:21:29.021Z"
   },
   {
    "duration": 5,
    "start_time": "2024-09-06T04:21:29.284Z"
   },
   {
    "duration": 19,
    "start_time": "2024-09-06T04:21:29.290Z"
   },
   {
    "duration": 7,
    "start_time": "2024-09-06T04:21:29.311Z"
   },
   {
    "duration": 12,
    "start_time": "2024-09-06T04:21:29.320Z"
   },
   {
    "duration": 183,
    "start_time": "2024-09-06T04:21:29.335Z"
   },
   {
    "duration": 298,
    "start_time": "2024-09-06T04:21:29.520Z"
   },
   {
    "duration": 10,
    "start_time": "2024-09-06T04:21:29.819Z"
   },
   {
    "duration": 5,
    "start_time": "2024-09-06T04:21:29.831Z"
   },
   {
    "duration": 7,
    "start_time": "2024-09-06T04:21:29.838Z"
   },
   {
    "duration": 17,
    "start_time": "2024-09-06T04:21:29.847Z"
   },
   {
    "duration": 5,
    "start_time": "2024-09-06T04:21:29.865Z"
   },
   {
    "duration": 39,
    "start_time": "2024-09-06T04:21:29.872Z"
   },
   {
    "duration": 5,
    "start_time": "2024-09-06T04:21:29.912Z"
   },
   {
    "duration": 9,
    "start_time": "2024-09-06T04:21:29.919Z"
   },
   {
    "duration": 5,
    "start_time": "2024-09-06T04:21:29.930Z"
   },
   {
    "duration": 5,
    "start_time": "2024-09-06T04:21:29.937Z"
   },
   {
    "duration": 18,
    "start_time": "2024-09-06T04:21:29.944Z"
   },
   {
    "duration": 6,
    "start_time": "2024-09-06T04:21:29.963Z"
   },
   {
    "duration": 48,
    "start_time": "2024-09-06T04:21:29.971Z"
   },
   {
    "duration": 11,
    "start_time": "2024-09-06T04:21:30.021Z"
   },
   {
    "duration": 310,
    "start_time": "2024-09-06T04:21:30.034Z"
   },
   {
    "duration": 190,
    "start_time": "2024-09-06T04:21:30.346Z"
   },
   {
    "duration": 11,
    "start_time": "2024-09-06T04:21:30.539Z"
   },
   {
    "duration": 13,
    "start_time": "2024-09-06T04:21:30.551Z"
   },
   {
    "duration": 7,
    "start_time": "2024-09-06T04:21:30.566Z"
   },
   {
    "duration": 403,
    "start_time": "2024-09-06T04:21:30.574Z"
   },
   {
    "duration": 5,
    "start_time": "2024-09-06T04:21:30.979Z"
   },
   {
    "duration": 33,
    "start_time": "2024-09-06T04:21:30.987Z"
   },
   {
    "duration": 6,
    "start_time": "2024-09-06T04:21:31.022Z"
   },
   {
    "duration": 236,
    "start_time": "2024-09-06T04:21:31.031Z"
   },
   {
    "duration": 10,
    "start_time": "2024-09-06T04:21:31.268Z"
   },
   {
    "duration": 8,
    "start_time": "2024-09-06T04:21:31.279Z"
   },
   {
    "duration": 24,
    "start_time": "2024-09-06T04:21:31.289Z"
   },
   {
    "duration": 8,
    "start_time": "2024-09-06T04:21:31.315Z"
   },
   {
    "duration": 7,
    "start_time": "2024-09-06T04:21:31.324Z"
   },
   {
    "duration": 7,
    "start_time": "2024-09-06T04:21:31.333Z"
   },
   {
    "duration": 8,
    "start_time": "2024-09-06T04:21:31.342Z"
   },
   {
    "duration": 7,
    "start_time": "2024-09-06T04:21:31.351Z"
   },
   {
    "duration": 11,
    "start_time": "2024-09-06T04:21:31.360Z"
   },
   {
    "duration": 6,
    "start_time": "2024-09-06T04:21:31.414Z"
   },
   {
    "duration": 7,
    "start_time": "2024-09-06T04:21:31.422Z"
   }
  ],
  "kernelspec": {
   "display_name": "Python 3 (ipykernel)",
   "language": "python",
   "name": "python3"
  },
  "language_info": {
   "codemirror_mode": {
    "name": "ipython",
    "version": 3
   },
   "file_extension": ".py",
   "mimetype": "text/x-python",
   "name": "python",
   "nbconvert_exporter": "python",
   "pygments_lexer": "ipython3",
   "version": "3.9.19"
  },
  "toc": {
   "base_numbering": 1,
   "nav_menu": {},
   "number_sections": true,
   "sideBar": true,
   "skip_h1_title": true,
   "title_cell": "Table of Contents",
   "title_sidebar": "Contents",
   "toc_cell": false,
   "toc_position": {},
   "toc_section_display": true,
   "toc_window_display": false
  }
 },
 "nbformat": 4,
 "nbformat_minor": 2
}
